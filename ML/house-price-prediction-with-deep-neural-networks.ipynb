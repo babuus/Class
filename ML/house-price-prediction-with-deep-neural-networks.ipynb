{
 "cells": [
  {
   "cell_type": "code",
   "execution_count": 2,
   "metadata": {
    "execution": {
     "iopub.execute_input": "2020-11-19T04:33:36.524477Z",
     "iopub.status.busy": "2020-11-19T04:33:36.523560Z",
     "iopub.status.idle": "2020-11-19T04:33:46.880066Z",
     "shell.execute_reply": "2020-11-19T04:33:46.879291Z"
    },
    "papermill": {
     "duration": 10.40338,
     "end_time": "2020-11-19T04:33:46.880240",
     "exception": false,
     "start_time": "2020-11-19T04:33:36.476860",
     "status": "completed"
    },
    "tags": []
   },
   "outputs": [
    {
     "name": "stdout",
     "output_type": "stream",
     "text": [
      "tensorflow version 2.4.0\n",
      "Num GPUs Available:  1\n"
     ]
    }
   ],
   "source": [
    "import pandas as pd\n",
    "import numpy as np\n",
    "import matplotlib.pyplot as plt\n",
    "import seaborn as sns\n",
    "import tensorflow as tf\n",
    "\n",
    "print(\"tensorflow version\", tf.__version__)\n",
    "print(\"Num GPUs Available: \", len(tf.config.experimental.list_physical_devices('GPU')))"
   ]
  },
  {
   "cell_type": "markdown",
   "metadata": {
    "papermill": {
     "duration": 0.035981,
     "end_time": "2020-11-19T04:33:46.955373",
     "exception": false,
     "start_time": "2020-11-19T04:33:46.919392",
     "status": "completed"
    },
    "tags": []
   },
   "source": [
    "# DATA DESCRIPTIONS\n",
    "<html>\n",
    "<body>\n",
    "<table style=\"width:100%\">\n",
    "  <tr align=\"left\">\n",
    "    <th>Column</th>\n",
    "    <th>Description</th>\n",
    "  </tr>\n",
    "  <tr>\n",
    "    <td>POSTED_BY</td>\n",
    "    <td>Category marking who has listed the property</td>\n",
    "  </tr>\n",
    "  <tr>\n",
    "    <td>UNDER_CONSTRUCTION</td>\n",
    "    <td>Under Construction or Not</td>\n",
    "  </tr>\n",
    "  <tr>\n",
    "    <td>RERA</td>\n",
    "    <td>Rera approved or Not</td>\n",
    "  </tr>\n",
    "  <tr>\n",
    "    <td>BHK_NO</td>\n",
    "    <td>Number of Rooms</td>\n",
    "  </tr>\n",
    "  <tr>\n",
    "    <td>BHKORRK</td>\n",
    "    <td>Type of property</td>\n",
    "  </tr>\n",
    "  <tr>\n",
    "    <td>SQUARE_FT</td>\n",
    "    <td>Total area of the house in square feet</td>\n",
    "  </tr>\n",
    "  <tr>\n",
    "    <td>READYTOMOVE</td>\n",
    "    <td>Category marking Ready to move or Not</td>\n",
    "  </tr>\n",
    "  <tr>\n",
    "    <td>RESALE</td>\n",
    "    <td>Category marking Resale or not</td>\n",
    "  </tr>\n",
    "  <tr>\n",
    "    <td>ADDRESS</td>\n",
    "    <td>Address of the property</td>\n",
    "  </tr>\n",
    "  <tr>\n",
    "    <td>LONGITUDE</td>\n",
    "    <td>Longitude of the property</td>\n",
    "  </tr>\n",
    "  <tr>\n",
    "    <td>LATITUDE</td>\n",
    "    <td>Latitude of the property</td>\n",
    "  </tr>\n",
    "</table>\n",
    "\n",
    "</body>\n",
    "</html>"
   ]
  },
  {
   "cell_type": "code",
   "execution_count": 3,
   "metadata": {
    "execution": {
     "iopub.execute_input": "2020-11-19T04:33:47.049028Z",
     "iopub.status.busy": "2020-11-19T04:33:47.047640Z",
     "iopub.status.idle": "2020-11-19T04:33:47.331348Z",
     "shell.execute_reply": "2020-11-19T04:33:47.330555Z"
    },
    "papermill": {
     "duration": 0.334165,
     "end_time": "2020-11-19T04:33:47.331500",
     "exception": false,
     "start_time": "2020-11-19T04:33:46.997335",
     "status": "completed"
    },
    "tags": []
   },
   "outputs": [
    {
     "data": {
      "text/html": [
       "<div>\n",
       "<style scoped>\n",
       "    .dataframe tbody tr th:only-of-type {\n",
       "        vertical-align: middle;\n",
       "    }\n",
       "\n",
       "    .dataframe tbody tr th {\n",
       "        vertical-align: top;\n",
       "    }\n",
       "\n",
       "    .dataframe thead th {\n",
       "        text-align: right;\n",
       "    }\n",
       "</style>\n",
       "<table border=\"1\" class=\"dataframe\">\n",
       "  <thead>\n",
       "    <tr style=\"text-align: right;\">\n",
       "      <th></th>\n",
       "      <th>POSTED_BY</th>\n",
       "      <th>UNDER_CONSTRUCTION</th>\n",
       "      <th>RERA</th>\n",
       "      <th>BHK_NO.</th>\n",
       "      <th>BHK_OR_RK</th>\n",
       "      <th>SQUARE_FT</th>\n",
       "      <th>READY_TO_MOVE</th>\n",
       "      <th>RESALE</th>\n",
       "      <th>ADDRESS</th>\n",
       "      <th>LONGITUDE</th>\n",
       "      <th>LATITUDE</th>\n",
       "      <th>TARGET(PRICE_IN_LACS)</th>\n",
       "    </tr>\n",
       "  </thead>\n",
       "  <tbody>\n",
       "    <tr>\n",
       "      <th>0</th>\n",
       "      <td>Owner</td>\n",
       "      <td>0</td>\n",
       "      <td>0</td>\n",
       "      <td>2</td>\n",
       "      <td>BHK</td>\n",
       "      <td>1300.236407</td>\n",
       "      <td>1</td>\n",
       "      <td>1</td>\n",
       "      <td>Ksfc Layout,Bangalore</td>\n",
       "      <td>12.969910</td>\n",
       "      <td>77.597960</td>\n",
       "      <td>55.0</td>\n",
       "    </tr>\n",
       "    <tr>\n",
       "      <th>1</th>\n",
       "      <td>Dealer</td>\n",
       "      <td>0</td>\n",
       "      <td>0</td>\n",
       "      <td>2</td>\n",
       "      <td>BHK</td>\n",
       "      <td>1275.000000</td>\n",
       "      <td>1</td>\n",
       "      <td>1</td>\n",
       "      <td>Vishweshwara Nagar,Mysore</td>\n",
       "      <td>12.274538</td>\n",
       "      <td>76.644605</td>\n",
       "      <td>51.0</td>\n",
       "    </tr>\n",
       "    <tr>\n",
       "      <th>2</th>\n",
       "      <td>Owner</td>\n",
       "      <td>0</td>\n",
       "      <td>0</td>\n",
       "      <td>2</td>\n",
       "      <td>BHK</td>\n",
       "      <td>933.159722</td>\n",
       "      <td>1</td>\n",
       "      <td>1</td>\n",
       "      <td>Jigani,Bangalore</td>\n",
       "      <td>12.778033</td>\n",
       "      <td>77.632191</td>\n",
       "      <td>43.0</td>\n",
       "    </tr>\n",
       "    <tr>\n",
       "      <th>3</th>\n",
       "      <td>Owner</td>\n",
       "      <td>0</td>\n",
       "      <td>1</td>\n",
       "      <td>2</td>\n",
       "      <td>BHK</td>\n",
       "      <td>929.921143</td>\n",
       "      <td>1</td>\n",
       "      <td>1</td>\n",
       "      <td>Sector-1 Vaishali,Ghaziabad</td>\n",
       "      <td>28.642300</td>\n",
       "      <td>77.344500</td>\n",
       "      <td>62.5</td>\n",
       "    </tr>\n",
       "    <tr>\n",
       "      <th>4</th>\n",
       "      <td>Dealer</td>\n",
       "      <td>1</td>\n",
       "      <td>0</td>\n",
       "      <td>2</td>\n",
       "      <td>BHK</td>\n",
       "      <td>999.009247</td>\n",
       "      <td>0</td>\n",
       "      <td>1</td>\n",
       "      <td>New Town,Kolkata</td>\n",
       "      <td>22.592200</td>\n",
       "      <td>88.484911</td>\n",
       "      <td>60.5</td>\n",
       "    </tr>\n",
       "  </tbody>\n",
       "</table>\n",
       "</div>"
      ],
      "text/plain": [
       "  POSTED_BY  UNDER_CONSTRUCTION  RERA  BHK_NO. BHK_OR_RK    SQUARE_FT  \\\n",
       "0     Owner                   0     0        2       BHK  1300.236407   \n",
       "1    Dealer                   0     0        2       BHK  1275.000000   \n",
       "2     Owner                   0     0        2       BHK   933.159722   \n",
       "3     Owner                   0     1        2       BHK   929.921143   \n",
       "4    Dealer                   1     0        2       BHK   999.009247   \n",
       "\n",
       "   READY_TO_MOVE  RESALE                      ADDRESS  LONGITUDE   LATITUDE  \\\n",
       "0              1       1        Ksfc Layout,Bangalore  12.969910  77.597960   \n",
       "1              1       1    Vishweshwara Nagar,Mysore  12.274538  76.644605   \n",
       "2              1       1             Jigani,Bangalore  12.778033  77.632191   \n",
       "3              1       1  Sector-1 Vaishali,Ghaziabad  28.642300  77.344500   \n",
       "4              0       1             New Town,Kolkata  22.592200  88.484911   \n",
       "\n",
       "   TARGET(PRICE_IN_LACS)  \n",
       "0                   55.0  \n",
       "1                   51.0  \n",
       "2                   43.0  \n",
       "3                   62.5  \n",
       "4                   60.5  "
      ]
     },
     "execution_count": 3,
     "metadata": {},
     "output_type": "execute_result"
    }
   ],
   "source": [
    "train = pd.read_csv(\"../archive/train.csv\")\n",
    "test = pd.read_csv(\"../archive/test.csv\")\n",
    "train.head()"
   ]
  },
  {
   "cell_type": "markdown",
   "metadata": {
    "papermill": {
     "duration": 0.038051,
     "end_time": "2020-11-19T04:33:47.409337",
     "exception": false,
     "start_time": "2020-11-19T04:33:47.371286",
     "status": "completed"
    },
    "tags": []
   },
   "source": [
    "---\n",
    "# Exploratory Data Analysis\n",
    "\n",
    "### 1. Check Null values"
   ]
  },
  {
   "cell_type": "code",
   "execution_count": 4,
   "metadata": {
    "execution": {
     "iopub.execute_input": "2020-11-19T04:33:47.491294Z",
     "iopub.status.busy": "2020-11-19T04:33:47.490169Z",
     "iopub.status.idle": "2020-11-19T04:33:47.510816Z",
     "shell.execute_reply": "2020-11-19T04:33:47.510164Z"
    },
    "papermill": {
     "duration": 0.065218,
     "end_time": "2020-11-19T04:33:47.510953",
     "exception": false,
     "start_time": "2020-11-19T04:33:47.445735",
     "status": "completed"
    },
    "tags": []
   },
   "outputs": [
    {
     "data": {
      "text/plain": [
       "POSTED_BY                0\n",
       "UNDER_CONSTRUCTION       0\n",
       "RERA                     0\n",
       "BHK_NO.                  0\n",
       "BHK_OR_RK                0\n",
       "SQUARE_FT                0\n",
       "READY_TO_MOVE            0\n",
       "RESALE                   0\n",
       "ADDRESS                  0\n",
       "LONGITUDE                0\n",
       "LATITUDE                 0\n",
       "TARGET(PRICE_IN_LACS)    0\n",
       "dtype: int64"
      ]
     },
     "execution_count": 4,
     "metadata": {},
     "output_type": "execute_result"
    }
   ],
   "source": [
    "train.isnull().sum()"
   ]
  },
  {
   "cell_type": "markdown",
   "metadata": {
    "papermill": {
     "duration": 0.038423,
     "end_time": "2020-11-19T04:33:47.586114",
     "exception": false,
     "start_time": "2020-11-19T04:33:47.547691",
     "status": "completed"
    },
    "tags": []
   },
   "source": [
    "### 2. Statistical information"
   ]
  },
  {
   "cell_type": "code",
   "execution_count": 5,
   "metadata": {
    "execution": {
     "iopub.execute_input": "2020-11-19T04:33:47.678824Z",
     "iopub.status.busy": "2020-11-19T04:33:47.677908Z",
     "iopub.status.idle": "2020-11-19T04:33:47.804356Z",
     "shell.execute_reply": "2020-11-19T04:33:47.804938Z"
    },
    "papermill": {
     "duration": 0.182272,
     "end_time": "2020-11-19T04:33:47.805112",
     "exception": false,
     "start_time": "2020-11-19T04:33:47.622840",
     "status": "completed"
    },
    "tags": []
   },
   "outputs": [
    {
     "data": {
      "text/html": [
       "<div>\n",
       "<style scoped>\n",
       "    .dataframe tbody tr th:only-of-type {\n",
       "        vertical-align: middle;\n",
       "    }\n",
       "\n",
       "    .dataframe tbody tr th {\n",
       "        vertical-align: top;\n",
       "    }\n",
       "\n",
       "    .dataframe thead th {\n",
       "        text-align: right;\n",
       "    }\n",
       "</style>\n",
       "<table border=\"1\" class=\"dataframe\">\n",
       "  <thead>\n",
       "    <tr style=\"text-align: right;\">\n",
       "      <th></th>\n",
       "      <th>count</th>\n",
       "      <th>unique</th>\n",
       "      <th>top</th>\n",
       "      <th>freq</th>\n",
       "      <th>mean</th>\n",
       "      <th>std</th>\n",
       "      <th>min</th>\n",
       "      <th>25%</th>\n",
       "      <th>50%</th>\n",
       "      <th>75%</th>\n",
       "      <th>max</th>\n",
       "    </tr>\n",
       "  </thead>\n",
       "  <tbody>\n",
       "    <tr>\n",
       "      <th>POSTED_BY</th>\n",
       "      <td>29451</td>\n",
       "      <td>3</td>\n",
       "      <td>Dealer</td>\n",
       "      <td>18291</td>\n",
       "      <td>NaN</td>\n",
       "      <td>NaN</td>\n",
       "      <td>NaN</td>\n",
       "      <td>NaN</td>\n",
       "      <td>NaN</td>\n",
       "      <td>NaN</td>\n",
       "      <td>NaN</td>\n",
       "    </tr>\n",
       "    <tr>\n",
       "      <th>UNDER_CONSTRUCTION</th>\n",
       "      <td>29451</td>\n",
       "      <td>NaN</td>\n",
       "      <td>NaN</td>\n",
       "      <td>NaN</td>\n",
       "      <td>0.179756</td>\n",
       "      <td>0.383991</td>\n",
       "      <td>0</td>\n",
       "      <td>0</td>\n",
       "      <td>0</td>\n",
       "      <td>0</td>\n",
       "      <td>1</td>\n",
       "    </tr>\n",
       "    <tr>\n",
       "      <th>RERA</th>\n",
       "      <td>29451</td>\n",
       "      <td>NaN</td>\n",
       "      <td>NaN</td>\n",
       "      <td>NaN</td>\n",
       "      <td>0.317918</td>\n",
       "      <td>0.465675</td>\n",
       "      <td>0</td>\n",
       "      <td>0</td>\n",
       "      <td>0</td>\n",
       "      <td>1</td>\n",
       "      <td>1</td>\n",
       "    </tr>\n",
       "    <tr>\n",
       "      <th>BHK_NO.</th>\n",
       "      <td>29451</td>\n",
       "      <td>NaN</td>\n",
       "      <td>NaN</td>\n",
       "      <td>NaN</td>\n",
       "      <td>2.39228</td>\n",
       "      <td>0.879091</td>\n",
       "      <td>1</td>\n",
       "      <td>2</td>\n",
       "      <td>2</td>\n",
       "      <td>3</td>\n",
       "      <td>20</td>\n",
       "    </tr>\n",
       "    <tr>\n",
       "      <th>BHK_OR_RK</th>\n",
       "      <td>29451</td>\n",
       "      <td>2</td>\n",
       "      <td>BHK</td>\n",
       "      <td>29427</td>\n",
       "      <td>NaN</td>\n",
       "      <td>NaN</td>\n",
       "      <td>NaN</td>\n",
       "      <td>NaN</td>\n",
       "      <td>NaN</td>\n",
       "      <td>NaN</td>\n",
       "      <td>NaN</td>\n",
       "    </tr>\n",
       "    <tr>\n",
       "      <th>SQUARE_FT</th>\n",
       "      <td>29451</td>\n",
       "      <td>NaN</td>\n",
       "      <td>NaN</td>\n",
       "      <td>NaN</td>\n",
       "      <td>19802.2</td>\n",
       "      <td>1.90133e+06</td>\n",
       "      <td>3</td>\n",
       "      <td>900.021</td>\n",
       "      <td>1175.06</td>\n",
       "      <td>1550.69</td>\n",
       "      <td>2.54545e+08</td>\n",
       "    </tr>\n",
       "    <tr>\n",
       "      <th>READY_TO_MOVE</th>\n",
       "      <td>29451</td>\n",
       "      <td>NaN</td>\n",
       "      <td>NaN</td>\n",
       "      <td>NaN</td>\n",
       "      <td>0.820244</td>\n",
       "      <td>0.383991</td>\n",
       "      <td>0</td>\n",
       "      <td>1</td>\n",
       "      <td>1</td>\n",
       "      <td>1</td>\n",
       "      <td>1</td>\n",
       "    </tr>\n",
       "    <tr>\n",
       "      <th>RESALE</th>\n",
       "      <td>29451</td>\n",
       "      <td>NaN</td>\n",
       "      <td>NaN</td>\n",
       "      <td>NaN</td>\n",
       "      <td>0.929578</td>\n",
       "      <td>0.255861</td>\n",
       "      <td>0</td>\n",
       "      <td>1</td>\n",
       "      <td>1</td>\n",
       "      <td>1</td>\n",
       "      <td>1</td>\n",
       "    </tr>\n",
       "    <tr>\n",
       "      <th>ADDRESS</th>\n",
       "      <td>29451</td>\n",
       "      <td>6899</td>\n",
       "      <td>Zirakpur,Chandigarh</td>\n",
       "      <td>509</td>\n",
       "      <td>NaN</td>\n",
       "      <td>NaN</td>\n",
       "      <td>NaN</td>\n",
       "      <td>NaN</td>\n",
       "      <td>NaN</td>\n",
       "      <td>NaN</td>\n",
       "      <td>NaN</td>\n",
       "    </tr>\n",
       "    <tr>\n",
       "      <th>LONGITUDE</th>\n",
       "      <td>29451</td>\n",
       "      <td>NaN</td>\n",
       "      <td>NaN</td>\n",
       "      <td>NaN</td>\n",
       "      <td>21.3003</td>\n",
       "      <td>6.20531</td>\n",
       "      <td>-37.713</td>\n",
       "      <td>18.4527</td>\n",
       "      <td>20.75</td>\n",
       "      <td>26.9009</td>\n",
       "      <td>59.9129</td>\n",
       "    </tr>\n",
       "    <tr>\n",
       "      <th>LATITUDE</th>\n",
       "      <td>29451</td>\n",
       "      <td>NaN</td>\n",
       "      <td>NaN</td>\n",
       "      <td>NaN</td>\n",
       "      <td>76.8377</td>\n",
       "      <td>10.5577</td>\n",
       "      <td>-121.761</td>\n",
       "      <td>73.7981</td>\n",
       "      <td>77.3241</td>\n",
       "      <td>77.8287</td>\n",
       "      <td>152.963</td>\n",
       "    </tr>\n",
       "    <tr>\n",
       "      <th>TARGET(PRICE_IN_LACS)</th>\n",
       "      <td>29451</td>\n",
       "      <td>NaN</td>\n",
       "      <td>NaN</td>\n",
       "      <td>NaN</td>\n",
       "      <td>142.899</td>\n",
       "      <td>656.881</td>\n",
       "      <td>0.25</td>\n",
       "      <td>38</td>\n",
       "      <td>62</td>\n",
       "      <td>100</td>\n",
       "      <td>30000</td>\n",
       "    </tr>\n",
       "  </tbody>\n",
       "</table>\n",
       "</div>"
      ],
      "text/plain": [
       "                       count unique                  top   freq      mean  \\\n",
       "POSTED_BY              29451      3               Dealer  18291       NaN   \n",
       "UNDER_CONSTRUCTION     29451    NaN                  NaN    NaN  0.179756   \n",
       "RERA                   29451    NaN                  NaN    NaN  0.317918   \n",
       "BHK_NO.                29451    NaN                  NaN    NaN   2.39228   \n",
       "BHK_OR_RK              29451      2                  BHK  29427       NaN   \n",
       "SQUARE_FT              29451    NaN                  NaN    NaN   19802.2   \n",
       "READY_TO_MOVE          29451    NaN                  NaN    NaN  0.820244   \n",
       "RESALE                 29451    NaN                  NaN    NaN  0.929578   \n",
       "ADDRESS                29451   6899  Zirakpur,Chandigarh    509       NaN   \n",
       "LONGITUDE              29451    NaN                  NaN    NaN   21.3003   \n",
       "LATITUDE               29451    NaN                  NaN    NaN   76.8377   \n",
       "TARGET(PRICE_IN_LACS)  29451    NaN                  NaN    NaN   142.899   \n",
       "\n",
       "                               std      min      25%      50%      75%  \\\n",
       "POSTED_BY                      NaN      NaN      NaN      NaN      NaN   \n",
       "UNDER_CONSTRUCTION        0.383991        0        0        0        0   \n",
       "RERA                      0.465675        0        0        0        1   \n",
       "BHK_NO.                   0.879091        1        2        2        3   \n",
       "BHK_OR_RK                      NaN      NaN      NaN      NaN      NaN   \n",
       "SQUARE_FT              1.90133e+06        3  900.021  1175.06  1550.69   \n",
       "READY_TO_MOVE             0.383991        0        1        1        1   \n",
       "RESALE                    0.255861        0        1        1        1   \n",
       "ADDRESS                        NaN      NaN      NaN      NaN      NaN   \n",
       "LONGITUDE                  6.20531  -37.713  18.4527    20.75  26.9009   \n",
       "LATITUDE                   10.5577 -121.761  73.7981  77.3241  77.8287   \n",
       "TARGET(PRICE_IN_LACS)      656.881     0.25       38       62      100   \n",
       "\n",
       "                               max  \n",
       "POSTED_BY                      NaN  \n",
       "UNDER_CONSTRUCTION               1  \n",
       "RERA                             1  \n",
       "BHK_NO.                         20  \n",
       "BHK_OR_RK                      NaN  \n",
       "SQUARE_FT              2.54545e+08  \n",
       "READY_TO_MOVE                    1  \n",
       "RESALE                           1  \n",
       "ADDRESS                        NaN  \n",
       "LONGITUDE                  59.9129  \n",
       "LATITUDE                   152.963  \n",
       "TARGET(PRICE_IN_LACS)        30000  "
      ]
     },
     "execution_count": 5,
     "metadata": {},
     "output_type": "execute_result"
    }
   ],
   "source": [
    "train.describe(include=\"all\").transpose()"
   ]
  },
  {
   "cell_type": "markdown",
   "metadata": {
    "papermill": {
     "duration": 0.045058,
     "end_time": "2020-11-19T04:33:47.891351",
     "exception": false,
     "start_time": "2020-11-19T04:33:47.846293",
     "status": "completed"
    },
    "tags": []
   },
   "source": [
    "### 3. The distribution of actual target value"
   ]
  },
  {
   "cell_type": "code",
   "execution_count": 6,
   "metadata": {
    "execution": {
     "iopub.execute_input": "2020-11-19T04:33:47.978833Z",
     "iopub.status.busy": "2020-11-19T04:33:47.976914Z",
     "iopub.status.idle": "2020-11-19T04:33:48.400218Z",
     "shell.execute_reply": "2020-11-19T04:33:48.399548Z"
    },
    "papermill": {
     "duration": 0.469605,
     "end_time": "2020-11-19T04:33:48.400396",
     "exception": false,
     "start_time": "2020-11-19T04:33:47.930791",
     "status": "completed"
    },
    "tags": []
   },
   "outputs": [
    {
     "name": "stderr",
     "output_type": "stream",
     "text": [
      "C:\\Users\\ASUS\\anaconda3\\lib\\site-packages\\seaborn\\distributions.py:2551: FutureWarning: `distplot` is a deprecated function and will be removed in a future version. Please adapt your code to use either `displot` (a figure-level function with similar flexibility) or `histplot` (an axes-level function for histograms).\n",
      "  warnings.warn(msg, FutureWarning)\n"
     ]
    },
    {
     "data": {
      "image/png": "[encoded data removed]",
      "text/plain": [
       "<Figure size 720x432 with 1 Axes>"
      ]
     },
     "metadata": {
      "needs_background": "light"
     },
     "output_type": "display_data"
    }
   ],
   "source": [
    "plt.figure(figsize=(10,6))\n",
    "sns.distplot(train[\"TARGET(PRICE_IN_LACS)\"], kde=True)\n",
    "plt.show()"
   ]
  },
  {
   "cell_type": "markdown",
   "metadata": {
    "papermill": {
     "duration": 0.03945,
     "end_time": "2020-11-19T04:33:48.479155",
     "exception": false,
     "start_time": "2020-11-19T04:33:48.439705",
     "status": "completed"
    },
    "tags": []
   },
   "source": [
    "There are some of outliers in this dataset and it may actually make sense to drop those outliers in analysis if they are just a few points that are very extreme because may not be really useful to actually have the model train on those extreme outliers."
   ]
  },
  {
   "cell_type": "code",
   "execution_count": 7,
   "metadata": {
    "execution": {
     "iopub.execute_input": "2020-11-19T04:33:48.579656Z",
     "iopub.status.busy": "2020-11-19T04:33:48.578359Z",
     "iopub.status.idle": "2020-11-19T04:33:48.611797Z",
     "shell.execute_reply": "2020-11-19T04:33:48.610789Z"
    },
    "papermill": {
     "duration": 0.09304,
     "end_time": "2020-11-19T04:33:48.612009",
     "exception": false,
     "start_time": "2020-11-19T04:33:48.518969",
     "status": "completed"
    },
    "tags": []
   },
   "outputs": [
    {
     "name": "stdout",
     "output_type": "stream",
     "text": [
      "The Dataset size before removing outliers : (29451, 12)\n",
      "The Dataset size after removing outliers : (26367, 12)\n"
     ]
    }
   ],
   "source": [
    "print(f\"The Dataset size before removing outliers : {train.shape}\")\n",
    "max_val = train['TARGET(PRICE_IN_LACS)'].describe()['75%'] + 1.5 * (train['TARGET(PRICE_IN_LACS)'].describe()['75%'] - train['TARGET(PRICE_IN_LACS)'].describe()['25%'])\n",
    "train = train[train['TARGET(PRICE_IN_LACS)'] < max_val]\n",
    "print(f\"The Dataset size after removing outliers : {train.shape}\")"
   ]
  },
  {
   "cell_type": "code",
   "execution_count": 8,
   "metadata": {
    "execution": {
     "iopub.execute_input": "2020-11-19T04:33:48.735137Z",
     "iopub.status.busy": "2020-11-19T04:33:48.734288Z",
     "iopub.status.idle": "2020-11-19T04:33:49.067493Z",
     "shell.execute_reply": "2020-11-19T04:33:49.066415Z"
    },
    "papermill": {
     "duration": 0.405738,
     "end_time": "2020-11-19T04:33:49.067736",
     "exception": false,
     "start_time": "2020-11-19T04:33:48.661998",
     "status": "completed"
    },
    "tags": []
   },
   "outputs": [
    {
     "name": "stderr",
     "output_type": "stream",
     "text": [
      "C:\\Users\\ASUS\\anaconda3\\lib\\site-packages\\seaborn\\distributions.py:2551: FutureWarning: `distplot` is a deprecated function and will be removed in a future version. Please adapt your code to use either `displot` (a figure-level function with similar flexibility) or `histplot` (an axes-level function for histograms).\n",
      "  warnings.warn(msg, FutureWarning)\n"
     ]
    },
    {
     "data": {
      "image/png": "[encoded data removed]",
      "text/plain": [
       "<Figure size 720x432 with 1 Axes>"
      ]
     },
     "metadata": {
      "needs_background": "light"
     },
     "output_type": "display_data"
    }
   ],
   "source": [
    "plt.figure(figsize=(10,6))\n",
    "sns.distplot(train[\"TARGET(PRICE_IN_LACS)\"], kde=True)\n",
    "plt.show()"
   ]
  },
  {
   "cell_type": "markdown",
   "metadata": {
    "papermill": {
     "duration": 0.060246,
     "end_time": "2020-11-19T04:33:49.196115",
     "exception": false,
     "start_time": "2020-11-19T04:33:49.135869",
     "status": "completed"
    },
    "tags": []
   },
   "source": [
    "### 4. `POSTED_BY` feature"
   ]
  },
  {
   "cell_type": "code",
   "execution_count": 9,
   "metadata": {
    "execution": {
     "iopub.execute_input": "2020-11-19T04:33:49.299686Z",
     "iopub.status.busy": "2020-11-19T04:33:49.298628Z",
     "iopub.status.idle": "2020-11-19T04:33:49.302512Z",
     "shell.execute_reply": "2020-11-19T04:33:49.303342Z"
    },
    "papermill": {
     "duration": 0.062793,
     "end_time": "2020-11-19T04:33:49.303523",
     "exception": false,
     "start_time": "2020-11-19T04:33:49.240730",
     "status": "completed"
    },
    "tags": []
   },
   "outputs": [
    {
     "name": "stdout",
     "output_type": "stream",
     "text": [
      "Dealer     15413\n",
      "Owner      10355\n",
      "Builder      599\n",
      "Name: POSTED_BY, dtype: int64\n",
      "\n"
     ]
    }
   ],
   "source": [
    "print(train[\"POSTED_BY\"].value_counts(), end='\\n\\n')"
   ]
  },
  {
   "cell_type": "markdown",
   "metadata": {
    "papermill": {
     "duration": 0.041545,
     "end_time": "2020-11-19T04:33:49.387594",
     "exception": false,
     "start_time": "2020-11-19T04:33:49.346049",
     "status": "completed"
    },
    "tags": []
   },
   "source": [
    "Since this feature values in string, all the values will be mapped into number."
   ]
  },
  {
   "cell_type": "code",
   "execution_count": 10,
   "metadata": {
    "execution": {
     "iopub.execute_input": "2020-11-19T04:33:49.482599Z",
     "iopub.status.busy": "2020-11-19T04:33:49.481764Z",
     "iopub.status.idle": "2020-11-19T04:33:49.508271Z",
     "shell.execute_reply": "2020-11-19T04:33:49.507371Z"
    },
    "papermill": {
     "duration": 0.078386,
     "end_time": "2020-11-19T04:33:49.508414",
     "exception": false,
     "start_time": "2020-11-19T04:33:49.430028",
     "status": "completed"
    },
    "tags": []
   },
   "outputs": [],
   "source": [
    "dic = {}\n",
    "for v, i in zip(train[\"POSTED_BY\"].unique(), range(len(train[\"POSTED_BY\"].unique()))):\n",
    "    dic[v] = i\n",
    "\n",
    "train[\"POSTED_BY\"] = train[\"POSTED_BY\"].map(dic)\n",
    "test[\"POSTED_BY\"] = test[\"POSTED_BY\"].map(dic)"
   ]
  },
  {
   "cell_type": "markdown",
   "metadata": {
    "papermill": {
     "duration": 0.044314,
     "end_time": "2020-11-19T04:33:49.593909",
     "exception": false,
     "start_time": "2020-11-19T04:33:49.549595",
     "status": "completed"
    },
    "tags": []
   },
   "source": [
    "### 5. `BHK_OR_RK` feature"
   ]
  },
  {
   "cell_type": "code",
   "execution_count": 11,
   "metadata": {
    "execution": {
     "iopub.execute_input": "2020-11-19T04:33:49.698316Z",
     "iopub.status.busy": "2020-11-19T04:33:49.696310Z",
     "iopub.status.idle": "2020-11-19T04:33:49.705263Z",
     "shell.execute_reply": "2020-11-19T04:33:49.704390Z"
    },
    "papermill": {
     "duration": 0.069959,
     "end_time": "2020-11-19T04:33:49.705400",
     "exception": false,
     "start_time": "2020-11-19T04:33:49.635441",
     "status": "completed"
    },
    "tags": []
   },
   "outputs": [
    {
     "name": "stdout",
     "output_type": "stream",
     "text": [
      "BHK    26343\n",
      "RK        24\n",
      "Name: BHK_OR_RK, dtype: int64\n",
      "\n"
     ]
    }
   ],
   "source": [
    "print(train[\"BHK_OR_RK\"].value_counts(), end='\\n\\n')"
   ]
  },
  {
   "cell_type": "markdown",
   "metadata": {
    "papermill": {
     "duration": 0.041386,
     "end_time": "2020-11-19T04:33:49.793688",
     "exception": false,
     "start_time": "2020-11-19T04:33:49.752302",
     "status": "completed"
    },
    "tags": []
   },
   "source": [
    "This feature has a very high skewed values, there will be no impact if we drop this feature from the dataset."
   ]
  },
  {
   "cell_type": "code",
   "execution_count": 12,
   "metadata": {
    "execution": {
     "iopub.execute_input": "2020-11-19T04:33:49.885463Z",
     "iopub.status.busy": "2020-11-19T04:33:49.884279Z",
     "iopub.status.idle": "2020-11-19T04:33:49.903756Z",
     "shell.execute_reply": "2020-11-19T04:33:49.903090Z"
    },
    "papermill": {
     "duration": 0.068177,
     "end_time": "2020-11-19T04:33:49.903897",
     "exception": false,
     "start_time": "2020-11-19T04:33:49.835720",
     "status": "completed"
    },
    "tags": []
   },
   "outputs": [],
   "source": [
    "train.drop(labels=[\"BHK_OR_RK\"], axis=1, inplace=True)\n",
    "test.drop(labels=[\"BHK_OR_RK\"], axis=1, inplace=True)"
   ]
  },
  {
   "cell_type": "markdown",
   "metadata": {
    "papermill": {
     "duration": 0.04571,
     "end_time": "2020-11-19T04:33:49.991957",
     "exception": false,
     "start_time": "2020-11-19T04:33:49.946247",
     "status": "completed"
    },
    "tags": []
   },
   "source": [
    "### 6. The correlation between target and features"
   ]
  },
  {
   "cell_type": "code",
   "execution_count": 13,
   "metadata": {
    "execution": {
     "iopub.execute_input": "2020-11-19T04:33:50.103088Z",
     "iopub.status.busy": "2020-11-19T04:33:50.102288Z",
     "iopub.status.idle": "2020-11-19T04:33:50.792658Z",
     "shell.execute_reply": "2020-11-19T04:33:50.793604Z"
    },
    "papermill": {
     "duration": 0.741199,
     "end_time": "2020-11-19T04:33:50.793826",
     "exception": false,
     "start_time": "2020-11-19T04:33:50.052627",
     "status": "completed"
    },
    "tags": []
   },
   "outputs": [
    {
     "data": {
      "image/png": "[encoded data removed]",
      "text/plain": [
       "<Figure size 720x432 with 2 Axes>"
      ]
     },
     "metadata": {
      "needs_background": "light"
     },
     "output_type": "display_data"
    }
   ],
   "source": [
    "plt.figure(figsize=(10,6))\n",
    "sns.heatmap(train.corr(), cmap=\"YlGnBu\", annot=True)\n",
    "plt.show()"
   ]
  },
  {
   "cell_type": "markdown",
   "metadata": {
    "papermill": {
     "duration": 0.046256,
     "end_time": "2020-11-19T04:33:50.885738",
     "exception": false,
     "start_time": "2020-11-19T04:33:50.839482",
     "status": "completed"
    },
    "tags": []
   },
   "source": [
    "`UNDER_CONSTRUCTION` feature has a perfect negative correlation with `READY_TO_MOVE` feature but their correlations with the target are very low!! `BHK_NO.` has the highest correlation with the target."
   ]
  },
  {
   "cell_type": "markdown",
   "metadata": {
    "papermill": {
     "duration": 0.05179,
     "end_time": "2020-11-19T04:33:50.986136",
     "exception": false,
     "start_time": "2020-11-19T04:33:50.934346",
     "status": "completed"
    },
    "tags": []
   },
   "source": [
    "### 7. Analyze features that have high correlation with the target"
   ]
  },
  {
   "cell_type": "code",
   "execution_count": 14,
   "metadata": {
    "execution": {
     "iopub.execute_input": "2020-11-19T04:33:51.093441Z",
     "iopub.status.busy": "2020-11-19T04:33:51.092063Z",
     "iopub.status.idle": "2020-11-19T04:33:51.485093Z",
     "shell.execute_reply": "2020-11-19T04:33:51.484274Z"
    },
    "papermill": {
     "duration": 0.449222,
     "end_time": "2020-11-19T04:33:51.485250",
     "exception": false,
     "start_time": "2020-11-19T04:33:51.036028",
     "status": "completed"
    },
    "tags": []
   },
   "outputs": [
    {
     "data": {
      "image/png": "[encoded data removed]",
      "text/plain": [
       "<Figure size 720x432 with 1 Axes>"
      ]
     },
     "metadata": {
      "needs_background": "light"
     },
     "output_type": "display_data"
    }
   ],
   "source": [
    "plt.figure(figsize=(10,6))\n",
    "sns.boxplot(x=\"BHK_NO.\", y=\"TARGET(PRICE_IN_LACS)\", data=train)\n",
    "plt.show()"
   ]
  },
  {
   "cell_type": "code",
   "execution_count": 15,
   "metadata": {
    "execution": {
     "iopub.execute_input": "2020-11-19T04:33:51.589716Z",
     "iopub.status.busy": "2020-11-19T04:33:51.588799Z",
     "iopub.status.idle": "2020-11-19T04:33:51.597094Z",
     "shell.execute_reply": "2020-11-19T04:33:51.598255Z"
    },
    "papermill": {
     "duration": 0.06525,
     "end_time": "2020-11-19T04:33:51.598502",
     "exception": false,
     "start_time": "2020-11-19T04:33:51.533252",
     "status": "completed"
    },
    "tags": []
   },
   "outputs": [
    {
     "name": "stdout",
     "output_type": "stream",
     "text": [
      "House that has 9 rooms in dataset :  1\n",
      "House that has 11 rooms in dataset :  1\n",
      "House that has 20 rooms in dataset :  1\n"
     ]
    }
   ],
   "source": [
    "print(\"House that has 9 rooms in dataset : \", len(train[train[\"BHK_NO.\"]==9]))\n",
    "print(\"House that has 11 rooms in dataset : \", len(train[train[\"BHK_NO.\"]==11]))\n",
    "print(\"House that has 20 rooms in dataset : \", len(train[train[\"BHK_NO.\"]==20]))"
   ]
  },
  {
   "cell_type": "markdown",
   "metadata": {
    "papermill": {
     "duration": 0.048263,
     "end_time": "2020-11-19T04:33:51.696450",
     "exception": false,
     "start_time": "2020-11-19T04:33:51.648187",
     "status": "completed"
    },
    "tags": []
   },
   "source": [
    "Since there is only 1 observation for each room (9, 11, and 20), it'd be better to remove them rather than use them to train the model."
   ]
  },
  {
   "cell_type": "code",
   "execution_count": 16,
   "metadata": {
    "execution": {
     "iopub.execute_input": "2020-11-19T04:33:51.798535Z",
     "iopub.status.busy": "2020-11-19T04:33:51.797622Z",
     "iopub.status.idle": "2020-11-19T04:33:51.806839Z",
     "shell.execute_reply": "2020-11-19T04:33:51.805950Z"
    },
    "papermill": {
     "duration": 0.063047,
     "end_time": "2020-11-19T04:33:51.806981",
     "exception": false,
     "start_time": "2020-11-19T04:33:51.743934",
     "status": "completed"
    },
    "tags": []
   },
   "outputs": [],
   "source": [
    "train = train[(train[\"BHK_NO.\"]!=9) & (train[\"BHK_NO.\"]!=11) & (train[\"BHK_NO.\"]!=20)]"
   ]
  },
  {
   "cell_type": "markdown",
   "metadata": {
    "papermill": {
     "duration": 0.049969,
     "end_time": "2020-11-19T04:33:51.904655",
     "exception": false,
     "start_time": "2020-11-19T04:33:51.854686",
     "status": "completed"
    },
    "tags": []
   },
   "source": [
    "### 8. Analyze features that have high correlations between them\n",
    "\n",
    "Features with high correlation are more linearly dependent and hence have almost the same effect on the dependent variable. So, when two features have high correlation, we can drop one of the two features."
   ]
  },
  {
   "cell_type": "code",
   "execution_count": 17,
   "metadata": {
    "execution": {
     "iopub.execute_input": "2020-11-19T04:33:52.029806Z",
     "iopub.status.busy": "2020-11-19T04:33:52.028183Z",
     "iopub.status.idle": "2020-11-19T04:33:52.054687Z",
     "shell.execute_reply": "2020-11-19T04:33:52.052563Z"
    },
    "papermill": {
     "duration": 0.10242,
     "end_time": "2020-11-19T04:33:52.054879",
     "exception": false,
     "start_time": "2020-11-19T04:33:51.952459",
     "status": "completed"
    },
    "tags": []
   },
   "outputs": [
    {
     "name": "stdout",
     "output_type": "stream",
     "text": [
      "21649\n",
      "4715\n",
      "4715\n",
      "21649\n"
     ]
    }
   ],
   "source": [
    "print(len(train[train[\"UNDER_CONSTRUCTION\"]==0]))\n",
    "print(len(train[train[\"UNDER_CONSTRUCTION\"]==1]))\n",
    "print(len(train[train[\"READY_TO_MOVE\"]==0]))\n",
    "print(len(train[train[\"READY_TO_MOVE\"]==1]))"
   ]
  },
  {
   "cell_type": "markdown",
   "metadata": {
    "papermill": {
     "duration": 0.061212,
     "end_time": "2020-11-19T04:33:52.168422",
     "exception": false,
     "start_time": "2020-11-19T04:33:52.107210",
     "status": "completed"
    },
    "tags": []
   },
   "source": [
    "This really explains why both of those features are very high correlated, in short that if the house is under construction (value of 1) means `READY_TO_MOVE` will be 0 and vice versa."
   ]
  },
  {
   "cell_type": "code",
   "execution_count": 18,
   "metadata": {
    "execution": {
     "iopub.execute_input": "2020-11-19T04:33:52.295273Z",
     "iopub.status.busy": "2020-11-19T04:33:52.292820Z",
     "iopub.status.idle": "2020-11-19T04:33:52.299700Z",
     "shell.execute_reply": "2020-11-19T04:33:52.298828Z"
    },
    "papermill": {
     "duration": 0.073668,
     "end_time": "2020-11-19T04:33:52.299840",
     "exception": false,
     "start_time": "2020-11-19T04:33:52.226172",
     "status": "completed"
    },
    "tags": []
   },
   "outputs": [],
   "source": [
    "train.drop(labels=[\"UNDER_CONSTRUCTION\"], axis=1, inplace=True)\n",
    "test.drop(labels=[\"UNDER_CONSTRUCTION\"], axis=1, inplace=True)"
   ]
  },
  {
   "cell_type": "markdown",
   "metadata": {
    "papermill": {
     "duration": 0.049525,
     "end_time": "2020-11-19T04:33:52.404211",
     "exception": false,
     "start_time": "2020-11-19T04:33:52.354686",
     "status": "completed"
    },
    "tags": []
   },
   "source": [
    "### 9. Get the distribution of prices per geographical (latitude & longitude)"
   ]
  },
  {
   "cell_type": "code",
   "execution_count": 19,
   "metadata": {
    "execution": {
     "iopub.execute_input": "2020-11-19T04:33:52.515822Z",
     "iopub.status.busy": "2020-11-19T04:33:52.514645Z",
     "iopub.status.idle": "2020-11-19T04:33:53.597354Z",
     "shell.execute_reply": "2020-11-19T04:33:53.595965Z"
    },
    "papermill": {
     "duration": 1.139808,
     "end_time": "2020-11-19T04:33:53.597576",
     "exception": false,
     "start_time": "2020-11-19T04:33:52.457768",
     "status": "completed"
    },
    "tags": []
   },
   "outputs": [
    {
     "data": {
      "image/png": "[encoded data removed]",
      "text/plain": [
       "<Figure size 864x576 with 1 Axes>"
      ]
     },
     "metadata": {
      "needs_background": "light"
     },
     "output_type": "display_data"
    }
   ],
   "source": [
    "plt.figure(figsize=(12,8))\n",
    "sns.scatterplot(x='LONGITUDE', y='LATITUDE', hue='TARGET(PRICE_IN_LACS)', alpha=0.4, palette='RdYlGn', data=train)\n",
    "plt.show()"
   ]
  },
  {
   "cell_type": "markdown",
   "metadata": {
    "papermill": {
     "duration": 0.056895,
     "end_time": "2020-11-19T04:33:53.706213",
     "exception": false,
     "start_time": "2020-11-19T04:33:53.649318",
     "status": "completed"
    },
    "tags": []
   },
   "source": [
    "### 10. `ADDRESS` feature\n",
    "\n",
    "There are city information in this feature that maybe can give some information related to the price."
   ]
  },
  {
   "cell_type": "code",
   "execution_count": 20,
   "metadata": {
    "execution": {
     "iopub.execute_input": "2020-11-19T04:33:53.830180Z",
     "iopub.status.busy": "2020-11-19T04:33:53.819088Z",
     "iopub.status.idle": "2020-11-19T04:33:53.856364Z",
     "shell.execute_reply": "2020-11-19T04:33:53.857335Z"
    },
    "papermill": {
     "duration": 0.100806,
     "end_time": "2020-11-19T04:33:53.857649",
     "exception": false,
     "start_time": "2020-11-19T04:33:53.756843",
     "status": "completed"
    },
    "tags": []
   },
   "outputs": [
    {
     "name": "stdout",
     "output_type": "stream",
     "text": [
      "Bangalore                     3851\n",
      "Lalitpur                      2184\n",
      "Pune                          1826\n",
      "Noida                         1629\n",
      "Kolkata                       1598\n",
      "                              ... \n",
      " Near Salua Bazar                1\n",
      "Malappuram                       1\n",
      " near ram lila maidan            1\n",
      " Uttarahalli                     1\n",
      " Near Kasar Managal Bhavan       1\n",
      "Name: ADDRESS, Length: 428, dtype: int64\n",
      "\n",
      "Total of unique values : 428\n"
     ]
    }
   ],
   "source": [
    "city = train['ADDRESS'].apply(lambda x : x.split(',')[1])\n",
    "print(city.value_counts(), end='\\n\\n')\n",
    "print(\"Total of unique values :\", city.nunique())"
   ]
  },
  {
   "cell_type": "markdown",
   "metadata": {
    "papermill": {
     "duration": 0.050334,
     "end_time": "2020-11-19T04:33:53.961728",
     "exception": false,
     "start_time": "2020-11-19T04:33:53.911394",
     "status": "completed"
    },
    "tags": []
   },
   "source": [
    "There are 428 unique values in this feature and that won't be possible to do OneHot encoding with it. For now, this feature will be dropped. (FYI, this feature actually can be useful if we know how to group them based on province or maybe higher level. Since I'm not from India this task would be difficult because I don't know administrative area in India.)"
   ]
  },
  {
   "cell_type": "code",
   "execution_count": 21,
   "metadata": {
    "execution": {
     "iopub.execute_input": "2020-11-19T04:33:54.131393Z",
     "iopub.status.busy": "2020-11-19T04:33:54.130523Z",
     "iopub.status.idle": "2020-11-19T04:33:54.133509Z",
     "shell.execute_reply": "2020-11-19T04:33:54.132618Z"
    },
    "papermill": {
     "duration": 0.088162,
     "end_time": "2020-11-19T04:33:54.133665",
     "exception": false,
     "start_time": "2020-11-19T04:33:54.045503",
     "status": "completed"
    },
    "tags": []
   },
   "outputs": [],
   "source": [
    "train.drop(labels=[\"ADDRESS\"], axis=1, inplace=True)\n",
    "test.drop(labels=[\"ADDRESS\"], axis=1, inplace=True)"
   ]
  },
  {
   "cell_type": "markdown",
   "metadata": {
    "papermill": {
     "duration": 0.054877,
     "end_time": "2020-11-19T04:33:54.246673",
     "exception": false,
     "start_time": "2020-11-19T04:33:54.191796",
     "status": "completed"
    },
    "tags": []
   },
   "source": [
    "---\n",
    "# Feature Engineering"
   ]
  },
  {
   "cell_type": "code",
   "execution_count": 41,
   "metadata": {
    "execution": {
     "iopub.execute_input": "2020-11-19T04:33:54.365767Z",
     "iopub.status.busy": "2020-11-19T04:33:54.364609Z",
     "iopub.status.idle": "2020-11-19T04:33:54.371033Z",
     "shell.execute_reply": "2020-11-19T04:33:54.370126Z"
    },
    "papermill": {
     "duration": 0.073455,
     "end_time": "2020-11-19T04:33:54.371212",
     "exception": false,
     "start_time": "2020-11-19T04:33:54.297757",
     "status": "completed"
    },
    "tags": []
   },
   "outputs": [
    {
     "data": {
      "text/html": [
       "<div>\n",
       "<style scoped>\n",
       "    .dataframe tbody tr th:only-of-type {\n",
       "        vertical-align: middle;\n",
       "    }\n",
       "\n",
       "    .dataframe tbody tr th {\n",
       "        vertical-align: top;\n",
       "    }\n",
       "\n",
       "    .dataframe thead th {\n",
       "        text-align: right;\n",
       "    }\n",
       "</style>\n",
       "<table border=\"1\" class=\"dataframe\">\n",
       "  <thead>\n",
       "    <tr style=\"text-align: right;\">\n",
       "      <th></th>\n",
       "      <th>RERA</th>\n",
       "      <th>BHK_NO.</th>\n",
       "      <th>SQUARE_FT</th>\n",
       "      <th>READY_TO_MOVE</th>\n",
       "      <th>RESALE</th>\n",
       "      <th>LONGITUDE</th>\n",
       "      <th>LATITUDE</th>\n",
       "      <th>TARGET(PRICE_IN_LACS)</th>\n",
       "      <th>POSTED_BY_1</th>\n",
       "      <th>POSTED_BY_2</th>\n",
       "    </tr>\n",
       "  </thead>\n",
       "  <tbody>\n",
       "    <tr>\n",
       "      <th>0</th>\n",
       "      <td>0</td>\n",
       "      <td>2</td>\n",
       "      <td>1300.236407</td>\n",
       "      <td>1</td>\n",
       "      <td>1</td>\n",
       "      <td>12.969910</td>\n",
       "      <td>77.597960</td>\n",
       "      <td>55.0</td>\n",
       "      <td>0</td>\n",
       "      <td>0</td>\n",
       "    </tr>\n",
       "    <tr>\n",
       "      <th>1</th>\n",
       "      <td>0</td>\n",
       "      <td>2</td>\n",
       "      <td>1275.000000</td>\n",
       "      <td>1</td>\n",
       "      <td>1</td>\n",
       "      <td>12.274538</td>\n",
       "      <td>76.644605</td>\n",
       "      <td>51.0</td>\n",
       "      <td>1</td>\n",
       "      <td>0</td>\n",
       "    </tr>\n",
       "    <tr>\n",
       "      <th>2</th>\n",
       "      <td>0</td>\n",
       "      <td>2</td>\n",
       "      <td>933.159722</td>\n",
       "      <td>1</td>\n",
       "      <td>1</td>\n",
       "      <td>12.778033</td>\n",
       "      <td>77.632191</td>\n",
       "      <td>43.0</td>\n",
       "      <td>0</td>\n",
       "      <td>0</td>\n",
       "    </tr>\n",
       "    <tr>\n",
       "      <th>3</th>\n",
       "      <td>1</td>\n",
       "      <td>2</td>\n",
       "      <td>929.921143</td>\n",
       "      <td>1</td>\n",
       "      <td>1</td>\n",
       "      <td>28.642300</td>\n",
       "      <td>77.344500</td>\n",
       "      <td>62.5</td>\n",
       "      <td>0</td>\n",
       "      <td>0</td>\n",
       "    </tr>\n",
       "    <tr>\n",
       "      <th>4</th>\n",
       "      <td>0</td>\n",
       "      <td>2</td>\n",
       "      <td>999.009247</td>\n",
       "      <td>0</td>\n",
       "      <td>1</td>\n",
       "      <td>22.592200</td>\n",
       "      <td>88.484911</td>\n",
       "      <td>60.5</td>\n",
       "      <td>1</td>\n",
       "      <td>0</td>\n",
       "    </tr>\n",
       "  </tbody>\n",
       "</table>\n",
       "</div>"
      ],
      "text/plain": [
       "   RERA  BHK_NO.    SQUARE_FT  READY_TO_MOVE  RESALE  LONGITUDE   LATITUDE  \\\n",
       "0     0        2  1300.236407              1       1  12.969910  77.597960   \n",
       "1     0        2  1275.000000              1       1  12.274538  76.644605   \n",
       "2     0        2   933.159722              1       1  12.778033  77.632191   \n",
       "3     1        2   929.921143              1       1  28.642300  77.344500   \n",
       "4     0        2   999.009247              0       1  22.592200  88.484911   \n",
       "\n",
       "   TARGET(PRICE_IN_LACS)  POSTED_BY_1  POSTED_BY_2  \n",
       "0                   55.0            0            0  \n",
       "1                   51.0            1            0  \n",
       "2                   43.0            0            0  \n",
       "3                   62.5            0            0  \n",
       "4                   60.5            1            0  "
      ]
     },
     "execution_count": 41,
     "metadata": {},
     "output_type": "execute_result"
    }
   ],
   "source": [
    "train.head()"
   ]
  },
  {
   "cell_type": "markdown",
   "metadata": {
    "papermill": {
     "duration": 0.050802,
     "end_time": "2020-11-19T04:33:54.478852",
     "exception": false,
     "start_time": "2020-11-19T04:33:54.428050",
     "status": "completed"
    },
    "tags": []
   },
   "source": [
    "### 1. OneHot encoding `POSTED_BY` feature"
   ]
  },
  {
   "cell_type": "code",
   "execution_count": 23,
   "metadata": {
    "execution": {
     "iopub.execute_input": "2020-11-19T04:33:54.593580Z",
     "iopub.status.busy": "2020-11-19T04:33:54.592604Z",
     "iopub.status.idle": "2020-11-19T04:33:54.610096Z",
     "shell.execute_reply": "2020-11-19T04:33:54.609244Z"
    },
    "papermill": {
     "duration": 0.079353,
     "end_time": "2020-11-19T04:33:54.610254",
     "exception": false,
     "start_time": "2020-11-19T04:33:54.530901",
     "status": "completed"
    },
    "tags": []
   },
   "outputs": [],
   "source": [
    "# train dataset\n",
    "ohe = pd.get_dummies(train['POSTED_BY'], prefix=\"POSTED_BY\", drop_first=True)\n",
    "train.drop(labels=[\"POSTED_BY\"], axis=1, inplace=True)\n",
    "train = pd.concat([train, ohe], axis=1)\n",
    "\n",
    "# test dataset\n",
    "ohe = pd.get_dummies(test['POSTED_BY'], prefix=\"POSTED_BY\", drop_first=True)\n",
    "test.drop(labels=[\"POSTED_BY\"], axis=1, inplace=True)\n",
    "test = pd.concat([test, ohe], axis=1)"
   ]
  },
  {
   "cell_type": "code",
   "execution_count": 43,
   "metadata": {},
   "outputs": [
    {
     "data": {
      "text/html": [
       "<div>\n",
       "<style scoped>\n",
       "    .dataframe tbody tr th:only-of-type {\n",
       "        vertical-align: middle;\n",
       "    }\n",
       "\n",
       "    .dataframe tbody tr th {\n",
       "        vertical-align: top;\n",
       "    }\n",
       "\n",
       "    .dataframe thead th {\n",
       "        text-align: right;\n",
       "    }\n",
       "</style>\n",
       "<table border=\"1\" class=\"dataframe\">\n",
       "  <thead>\n",
       "    <tr style=\"text-align: right;\">\n",
       "      <th></th>\n",
       "      <th>RERA</th>\n",
       "      <th>BHK_NO.</th>\n",
       "      <th>SQUARE_FT</th>\n",
       "      <th>READY_TO_MOVE</th>\n",
       "      <th>RESALE</th>\n",
       "      <th>LONGITUDE</th>\n",
       "      <th>LATITUDE</th>\n",
       "      <th>TARGET(PRICE_IN_LACS)</th>\n",
       "      <th>POSTED_BY_1</th>\n",
       "      <th>POSTED_BY_2</th>\n",
       "    </tr>\n",
       "  </thead>\n",
       "  <tbody>\n",
       "    <tr>\n",
       "      <th>0</th>\n",
       "      <td>0</td>\n",
       "      <td>2</td>\n",
       "      <td>1300.236407</td>\n",
       "      <td>1</td>\n",
       "      <td>1</td>\n",
       "      <td>12.969910</td>\n",
       "      <td>77.597960</td>\n",
       "      <td>55.0</td>\n",
       "      <td>0</td>\n",
       "      <td>0</td>\n",
       "    </tr>\n",
       "    <tr>\n",
       "      <th>1</th>\n",
       "      <td>0</td>\n",
       "      <td>2</td>\n",
       "      <td>1275.000000</td>\n",
       "      <td>1</td>\n",
       "      <td>1</td>\n",
       "      <td>12.274538</td>\n",
       "      <td>76.644605</td>\n",
       "      <td>51.0</td>\n",
       "      <td>1</td>\n",
       "      <td>0</td>\n",
       "    </tr>\n",
       "    <tr>\n",
       "      <th>2</th>\n",
       "      <td>0</td>\n",
       "      <td>2</td>\n",
       "      <td>933.159722</td>\n",
       "      <td>1</td>\n",
       "      <td>1</td>\n",
       "      <td>12.778033</td>\n",
       "      <td>77.632191</td>\n",
       "      <td>43.0</td>\n",
       "      <td>0</td>\n",
       "      <td>0</td>\n",
       "    </tr>\n",
       "    <tr>\n",
       "      <th>3</th>\n",
       "      <td>1</td>\n",
       "      <td>2</td>\n",
       "      <td>929.921143</td>\n",
       "      <td>1</td>\n",
       "      <td>1</td>\n",
       "      <td>28.642300</td>\n",
       "      <td>77.344500</td>\n",
       "      <td>62.5</td>\n",
       "      <td>0</td>\n",
       "      <td>0</td>\n",
       "    </tr>\n",
       "    <tr>\n",
       "      <th>4</th>\n",
       "      <td>0</td>\n",
       "      <td>2</td>\n",
       "      <td>999.009247</td>\n",
       "      <td>0</td>\n",
       "      <td>1</td>\n",
       "      <td>22.592200</td>\n",
       "      <td>88.484911</td>\n",
       "      <td>60.5</td>\n",
       "      <td>1</td>\n",
       "      <td>0</td>\n",
       "    </tr>\n",
       "    <tr>\n",
       "      <th>...</th>\n",
       "      <td>...</td>\n",
       "      <td>...</td>\n",
       "      <td>...</td>\n",
       "      <td>...</td>\n",
       "      <td>...</td>\n",
       "      <td>...</td>\n",
       "      <td>...</td>\n",
       "      <td>...</td>\n",
       "      <td>...</td>\n",
       "      <td>...</td>\n",
       "    </tr>\n",
       "    <tr>\n",
       "      <th>29446</th>\n",
       "      <td>0</td>\n",
       "      <td>3</td>\n",
       "      <td>2500.000000</td>\n",
       "      <td>1</td>\n",
       "      <td>1</td>\n",
       "      <td>27.140626</td>\n",
       "      <td>78.043277</td>\n",
       "      <td>45.0</td>\n",
       "      <td>0</td>\n",
       "      <td>0</td>\n",
       "    </tr>\n",
       "    <tr>\n",
       "      <th>29447</th>\n",
       "      <td>0</td>\n",
       "      <td>2</td>\n",
       "      <td>769.230769</td>\n",
       "      <td>1</td>\n",
       "      <td>1</td>\n",
       "      <td>39.945409</td>\n",
       "      <td>-86.150721</td>\n",
       "      <td>16.0</td>\n",
       "      <td>0</td>\n",
       "      <td>0</td>\n",
       "    </tr>\n",
       "    <tr>\n",
       "      <th>29448</th>\n",
       "      <td>0</td>\n",
       "      <td>2</td>\n",
       "      <td>1022.641509</td>\n",
       "      <td>1</td>\n",
       "      <td>1</td>\n",
       "      <td>26.928785</td>\n",
       "      <td>75.828002</td>\n",
       "      <td>27.1</td>\n",
       "      <td>1</td>\n",
       "      <td>0</td>\n",
       "    </tr>\n",
       "    <tr>\n",
       "      <th>29449</th>\n",
       "      <td>0</td>\n",
       "      <td>2</td>\n",
       "      <td>927.079009</td>\n",
       "      <td>1</td>\n",
       "      <td>1</td>\n",
       "      <td>12.900150</td>\n",
       "      <td>80.227910</td>\n",
       "      <td>67.0</td>\n",
       "      <td>0</td>\n",
       "      <td>0</td>\n",
       "    </tr>\n",
       "    <tr>\n",
       "      <th>29450</th>\n",
       "      <td>1</td>\n",
       "      <td>2</td>\n",
       "      <td>896.774194</td>\n",
       "      <td>1</td>\n",
       "      <td>1</td>\n",
       "      <td>26.832353</td>\n",
       "      <td>75.841749</td>\n",
       "      <td>27.8</td>\n",
       "      <td>1</td>\n",
       "      <td>0</td>\n",
       "    </tr>\n",
       "  </tbody>\n",
       "</table>\n",
       "<p>26364 rows × 10 columns</p>\n",
       "</div>"
      ],
      "text/plain": [
       "       RERA  BHK_NO.    SQUARE_FT  READY_TO_MOVE  RESALE  LONGITUDE  \\\n",
       "0         0        2  1300.236407              1       1  12.969910   \n",
       "1         0        2  1275.000000              1       1  12.274538   \n",
       "2         0        2   933.159722              1       1  12.778033   \n",
       "3         1        2   929.921143              1       1  28.642300   \n",
       "4         0        2   999.009247              0       1  22.592200   \n",
       "...     ...      ...          ...            ...     ...        ...   \n",
       "29446     0        3  2500.000000              1       1  27.140626   \n",
       "29447     0        2   769.230769              1       1  39.945409   \n",
       "29448     0        2  1022.641509              1       1  26.928785   \n",
       "29449     0        2   927.079009              1       1  12.900150   \n",
       "29450     1        2   896.774194              1       1  26.832353   \n",
       "\n",
       "        LATITUDE  TARGET(PRICE_IN_LACS)  POSTED_BY_1  POSTED_BY_2  \n",
       "0      77.597960                   55.0            0            0  \n",
       "1      76.644605                   51.0            1            0  \n",
       "2      77.632191                   43.0            0            0  \n",
       "3      77.344500                   62.5            0            0  \n",
       "4      88.484911                   60.5            1            0  \n",
       "...          ...                    ...          ...          ...  \n",
       "29446  78.043277                   45.0            0            0  \n",
       "29447 -86.150721                   16.0            0            0  \n",
       "29448  75.828002                   27.1            1            0  \n",
       "29449  80.227910                   67.0            0            0  \n",
       "29450  75.841749                   27.8            1            0  \n",
       "\n",
       "[26364 rows x 10 columns]"
      ]
     },
     "execution_count": 43,
     "metadata": {},
     "output_type": "execute_result"
    }
   ],
   "source": [
    "train"
   ]
  },
  {
   "cell_type": "markdown",
   "metadata": {
    "papermill": {
     "duration": 0.053692,
     "end_time": "2020-11-19T04:33:54.717967",
     "exception": false,
     "start_time": "2020-11-19T04:33:54.664275",
     "status": "completed"
    },
    "tags": []
   },
   "source": [
    "---\n",
    "# Splitting The Dataset into Train and Test"
   ]
  },
  {
   "cell_type": "code",
   "execution_count": 24,
   "metadata": {
    "execution": {
     "iopub.execute_input": "2020-11-19T04:33:54.834958Z",
     "iopub.status.busy": "2020-11-19T04:33:54.834153Z",
     "iopub.status.idle": "2020-11-19T04:33:55.038885Z",
     "shell.execute_reply": "2020-11-19T04:33:55.037648Z"
    },
    "papermill": {
     "duration": 0.265388,
     "end_time": "2020-11-19T04:33:55.039052",
     "exception": false,
     "start_time": "2020-11-19T04:33:54.773664",
     "status": "completed"
    },
    "tags": []
   },
   "outputs": [],
   "source": [
    "from sklearn.model_selection import train_test_split\n",
    "\n",
    "x = train.drop('TARGET(PRICE_IN_LACS)', axis=1).values\n",
    "y = train['TARGET(PRICE_IN_LACS)'].values\n",
    "\n",
    "x_tr, x_ts, y_tr, y_ts = train_test_split(x, y, test_size=0.1, random_state=42)"
   ]
  },
  {
   "cell_type": "code",
   "execution_count": 45,
   "metadata": {},
   "outputs": [
    {
     "data": {
      "text/plain": [
       "array([[0.00000000e+00, 2.00000000e+00, 1.30023641e+03, ...,\n",
       "        7.75979600e+01, 0.00000000e+00, 0.00000000e+00],\n",
       "       [0.00000000e+00, 2.00000000e+00, 1.27500000e+03, ...,\n",
       "        7.66446050e+01, 1.00000000e+00, 0.00000000e+00],\n",
       "       [0.00000000e+00, 2.00000000e+00, 9.33159722e+02, ...,\n",
       "        7.76321910e+01, 0.00000000e+00, 0.00000000e+00],\n",
       "       ...,\n",
       "       [0.00000000e+00, 2.00000000e+00, 1.02264151e+03, ...,\n",
       "        7.58280020e+01, 1.00000000e+00, 0.00000000e+00],\n",
       "       [0.00000000e+00, 2.00000000e+00, 9.27079009e+02, ...,\n",
       "        8.02279100e+01, 0.00000000e+00, 0.00000000e+00],\n",
       "       [1.00000000e+00, 2.00000000e+00, 8.96774194e+02, ...,\n",
       "        7.58417490e+01, 1.00000000e+00, 0.00000000e+00]])"
      ]
     },
     "execution_count": 45,
     "metadata": {},
     "output_type": "execute_result"
    }
   ],
   "source": [
    "x"
   ]
  },
  {
   "cell_type": "code",
   "execution_count": 25,
   "metadata": {
    "execution": {
     "iopub.execute_input": "2020-11-19T04:33:55.154736Z",
     "iopub.status.busy": "2020-11-19T04:33:55.153891Z",
     "iopub.status.idle": "2020-11-19T04:33:55.163422Z",
     "shell.execute_reply": "2020-11-19T04:33:55.162524Z"
    },
    "papermill": {
     "duration": 0.06922,
     "end_time": "2020-11-19T04:33:55.163567",
     "exception": false,
     "start_time": "2020-11-19T04:33:55.094347",
     "status": "completed"
    },
    "tags": []
   },
   "outputs": [],
   "source": [
    "from sklearn.preprocessing import MinMaxScaler\n",
    "\n",
    "scaler = MinMaxScaler().fit(x_tr)\n",
    "x_tr_scaled = scaler.transform(x_tr)\n",
    "x_ts_scaled = scaler.transform(x_ts)"
   ]
  },
  {
   "cell_type": "code",
   "execution_count": 40,
   "metadata": {},
   "outputs": [
    {
     "data": {
      "text/plain": [
       "array([0.00000000e+00, 2.00000000e+00, 1.27635648e+03, 1.00000000e+00,\n",
       "       1.00000000e+00, 2.83682690e+01, 7.73727300e+01, 1.00000000e+00,\n",
       "       0.00000000e+00])"
      ]
     },
     "execution_count": 40,
     "metadata": {},
     "output_type": "execute_result"
    }
   ],
   "source": [
    "x_ts[1]"
   ]
  },
  {
   "cell_type": "markdown",
   "metadata": {
    "papermill": {
     "duration": 0.053472,
     "end_time": "2020-11-19T04:33:55.271871",
     "exception": false,
     "start_time": "2020-11-19T04:33:55.218399",
     "status": "completed"
    },
    "tags": []
   },
   "source": [
    "---\n",
    "# Create The Model"
   ]
  },
  {
   "cell_type": "code",
   "execution_count": 26,
   "metadata": {
    "execution": {
     "iopub.execute_input": "2020-11-19T04:33:55.389937Z",
     "iopub.status.busy": "2020-11-19T04:33:55.384557Z",
     "iopub.status.idle": "2020-11-19T04:33:55.584852Z",
     "shell.execute_reply": "2020-11-19T04:33:55.584151Z"
    },
    "papermill": {
     "duration": 0.261916,
     "end_time": "2020-11-19T04:33:55.584996",
     "exception": false,
     "start_time": "2020-11-19T04:33:55.323080",
     "status": "completed"
    },
    "tags": []
   },
   "outputs": [
    {
     "name": "stdout",
     "output_type": "stream",
     "text": [
      "Model: \"sequential\"\n",
      "_________________________________________________________________\n",
      "Layer (type)                 Output Shape              Param #   \n",
      "=================================================================\n",
      "dense (Dense)                (None, 32)                320       \n",
      "_________________________________________________________________\n",
      "dense_1 (Dense)              (None, 64)                2112      \n",
      "_________________________________________________________________\n",
      "dense_2 (Dense)              (None, 64)                4160      \n",
      "_________________________________________________________________\n",
      "dense_3 (Dense)              (None, 128)               8320      \n",
      "_________________________________________________________________\n",
      "dense_4 (Dense)              (None, 256)               33024     \n",
      "_________________________________________________________________\n",
      "dense_5 (Dense)              (None, 1)                 257       \n",
      "=================================================================\n",
      "Total params: 48,193\n",
      "Trainable params: 48,193\n",
      "Non-trainable params: 0\n",
      "_________________________________________________________________\n"
     ]
    }
   ],
   "source": [
    "from tensorflow.keras.models import Sequential\n",
    "from tensorflow.keras.layers import Dense, Dropout\n",
    "from tensorflow.keras.optimizers import Adam, SGD\n",
    "from tensorflow.keras.losses import mae\n",
    "from tensorflow.keras.callbacks import Callback, ModelCheckpoint\n",
    "from tensorflow.keras.activations import linear, relu\n",
    "\n",
    "class stopLearn(Callback):\n",
    "    def on_epoch_end(self, epoch, logs={}):\n",
    "        if logs.get('val_loss') < 21:\n",
    "            print(\"\\nStop training!!\")\n",
    "            self.model.stop_training=True\n",
    "\n",
    "cb = stopLearn()\n",
    "# checkpoint_name = 'models/Weights-{epoch:03d}--{val_loss:.5f}.hdf5' \n",
    "# cp = ModelCheckpoint(checkpoint_name, monitor='val_loss', verbose = 1, save_best_only = True, mode ='auto')\n",
    "# callbacks_list = [cp, cb]\n",
    "\n",
    "model = Sequential()\n",
    "model.add(Dense(units=32, kernel_initializer='normal', input_dim=x_tr_scaled.shape[1], activation=relu))\n",
    "model.add(Dense(units=64, activation=relu))\n",
    "model.add(Dense(units=64, activation=relu))\n",
    "model.add(Dense(units=128, activation=relu))\n",
    "model.add(Dense(units=256, activation=relu))\n",
    "model.add(Dense(units=1, activation=linear))\n",
    "\n",
    "model.compile(optimizer=Adam(learning_rate=0.001), loss=mae)\n",
    "# model.compile(optimizer=SGD(learning_rate=0.001), loss=mae)\n",
    "\n",
    "model.summary()"
   ]
  },
  {
   "cell_type": "code",
   "execution_count": 28,
   "metadata": {
    "execution": {
     "iopub.execute_input": "2020-11-19T04:33:55.701452Z",
     "iopub.status.busy": "2020-11-19T04:33:55.700562Z",
     "iopub.status.idle": "2020-11-19T04:36:38.401921Z",
     "shell.execute_reply": "2020-11-19T04:36:38.401100Z"
    },
    "papermill": {
     "duration": 162.76496,
     "end_time": "2020-11-19T04:36:38.402058",
     "exception": false,
     "start_time": "2020-11-19T04:33:55.637098",
     "status": "completed"
    },
    "scrolled": true,
    "tags": [
     "outputPrepend"
    ]
   },
   "outputs": [
    {
     "name": "stdout",
     "output_type": "stream",
     "text": [
      "Epoch 1/50\n",
      "186/186 [==============================] - 1s 3ms/step - loss: 22.1435 - val_loss: 21.4361\n",
      "Epoch 2/50\n",
      "186/186 [==============================] - 1s 3ms/step - loss: 22.0939 - val_loss: 22.7417\n",
      "Epoch 3/50\n",
      "186/186 [==============================] - 1s 4ms/step - loss: 22.1922 - val_loss: 21.6795\n",
      "Epoch 4/50\n",
      "186/186 [==============================] - 1s 3ms/step - loss: 22.0412 - val_loss: 23.6202\n",
      "Epoch 5/50\n",
      "186/186 [==============================] - 1s 3ms/step - loss: 22.3816 - val_loss: 21.7162\n",
      "Epoch 6/50\n",
      "186/186 [==============================] - 1s 3ms/step - loss: 22.0128 - val_loss: 21.4885\n",
      "Epoch 7/50\n",
      "186/186 [==============================] - 1s 3ms/step - loss: 22.0450 - val_loss: 21.4361\n",
      "Epoch 8/50\n",
      "186/186 [==============================] - 1s 3ms/step - loss: 22.0255 - val_loss: 22.7123\n",
      "Epoch 9/50\n",
      "186/186 [==============================] - 1s 3ms/step - loss: 22.0234 - val_loss: 21.7308\n",
      "Epoch 10/50\n",
      "186/186 [==============================] - 1s 3ms/step - loss: 22.0916 - val_loss: 22.0366\n",
      "Epoch 11/50\n",
      "186/186 [==============================] - 1s 4ms/step - loss: 22.1367 - val_loss: 21.2123\n",
      "Epoch 12/50\n",
      "186/186 [==============================] - 1s 4ms/step - loss: 22.1464 - val_loss: 23.4538\n",
      "Epoch 13/50\n",
      "186/186 [==============================] - 1s 3ms/step - loss: 21.9814 - val_loss: 22.2530\n",
      "Epoch 14/50\n",
      "186/186 [==============================] - 1s 4ms/step - loss: 22.0685 - val_loss: 21.5896\n",
      "Epoch 15/50\n",
      "186/186 [==============================] - 1s 4ms/step - loss: 22.1075 - val_loss: 22.1255\n",
      "Epoch 16/50\n",
      "186/186 [==============================] - 1s 6ms/step - loss: 22.1483 - val_loss: 21.5536\n",
      "Epoch 17/50\n",
      "186/186 [==============================] - 1s 6ms/step - loss: 22.1435 - val_loss: 21.4094\n",
      "Epoch 18/50\n",
      "186/186 [==============================] - 1s 4ms/step - loss: 21.9923 - val_loss: 22.0362\n",
      "Epoch 19/50\n",
      "186/186 [==============================] - 1s 4ms/step - loss: 22.0076 - val_loss: 21.3056\n",
      "Epoch 20/50\n",
      "186/186 [==============================] - 1s 4ms/step - loss: 21.9934 - val_loss: 22.0402\n",
      "Epoch 21/50\n",
      "186/186 [==============================] - 1s 4ms/step - loss: 21.9520 - val_loss: 21.3131\n",
      "Epoch 22/50\n",
      "186/186 [==============================] - 1s 4ms/step - loss: 21.9712 - val_loss: 23.2129\n",
      "Epoch 23/50\n",
      "186/186 [==============================] - 1s 3ms/step - loss: 21.8520 - val_loss: 21.1993\n",
      "Epoch 24/50\n",
      "186/186 [==============================] - 1s 3ms/step - loss: 21.6887 - val_loss: 21.3270\n",
      "Epoch 25/50\n",
      "186/186 [==============================] - 1s 3ms/step - loss: 21.9569 - val_loss: 21.9087\n",
      "Epoch 26/50\n",
      "186/186 [==============================] - 1s 3ms/step - loss: 21.9398 - val_loss: 21.1175\n",
      "Epoch 27/50\n",
      "186/186 [==============================] - 1s 3ms/step - loss: 21.7392 - val_loss: 21.2930\n",
      "Epoch 28/50\n",
      "186/186 [==============================] - 1s 3ms/step - loss: 22.0841 - val_loss: 21.2275\n",
      "Epoch 29/50\n",
      "186/186 [==============================] - 1s 3ms/step - loss: 21.9122 - val_loss: 21.3831\n",
      "Epoch 30/50\n",
      "186/186 [==============================] - 1s 3ms/step - loss: 21.9346 - val_loss: 21.5402\n",
      "Epoch 31/50\n",
      "186/186 [==============================] - 1s 3ms/step - loss: 21.7690 - val_loss: 21.5560\n",
      "Epoch 32/50\n",
      "186/186 [==============================] - 1s 3ms/step - loss: 21.8544 - val_loss: 21.2678\n",
      "Epoch 33/50\n",
      "186/186 [==============================] - 1s 3ms/step - loss: 21.6878 - val_loss: 21.3093\n",
      "Epoch 34/50\n",
      "186/186 [==============================] - 1s 3ms/step - loss: 21.7369 - val_loss: 22.1876\n",
      "Epoch 35/50\n",
      "186/186 [==============================] - 1s 4ms/step - loss: 21.8046 - val_loss: 21.8899\n",
      "Epoch 36/50\n",
      "186/186 [==============================] - 1s 3ms/step - loss: 21.8151 - val_loss: 21.4195\n",
      "Epoch 37/50\n",
      "186/186 [==============================] - 1s 3ms/step - loss: 21.9605 - val_loss: 21.3458\n",
      "Epoch 38/50\n",
      "186/186 [==============================] - 1s 4ms/step - loss: 21.7993 - val_loss: 21.4990\n",
      "Epoch 39/50\n",
      "186/186 [==============================] - 1s 4ms/step - loss: 22.0701 - val_loss: 21.9317\n",
      "Epoch 40/50\n",
      "186/186 [==============================] - 1s 4ms/step - loss: 21.9856 - val_loss: 23.2940\n",
      "Epoch 41/50\n",
      "186/186 [==============================] - 1s 4ms/step - loss: 21.8481 - val_loss: 21.0703\n",
      "Epoch 42/50\n",
      "186/186 [==============================] - 1s 4ms/step - loss: 21.6840 - val_loss: 21.9158\n",
      "Epoch 43/50\n",
      "186/186 [==============================] - 1s 4ms/step - loss: 21.7346 - val_loss: 21.8325\n",
      "Epoch 44/50\n",
      "186/186 [==============================] - 1s 4ms/step - loss: 21.7259 - val_loss: 21.1437\n",
      "Epoch 45/50\n",
      "186/186 [==============================] - 1s 4ms/step - loss: 21.6576 - val_loss: 21.8714\n",
      "Epoch 46/50\n",
      "186/186 [==============================] - 1s 4ms/step - loss: 22.0479 - val_loss: 21.9120\n",
      "Epoch 47/50\n",
      "186/186 [==============================] - 1s 4ms/step - loss: 21.8593 - val_loss: 21.5163\n",
      "Epoch 48/50\n",
      "186/186 [==============================] - 1s 3ms/step - loss: 21.8541 - val_loss: 21.2689\n",
      "Epoch 49/50\n",
      "186/186 [==============================] - 1s 4ms/step - loss: 21.6755 - val_loss: 21.5439\n",
      "Epoch 50/50\n",
      "186/186 [==============================] - 1s 3ms/step - loss: 21.8334 - val_loss: 21.7354\n"
     ]
    },
    {
     "data": {
      "text/plain": [
       "<tensorflow.python.keras.callbacks.History at 0x21091da4460>"
      ]
     },
     "execution_count": 28,
     "metadata": {},
     "output_type": "execute_result"
    }
   ],
   "source": [
    "model.fit(x=x_tr_scaled, y=y_tr, validation_data=(x_ts_scaled, y_ts), batch_size=128, epochs=50, callbacks=[cb])"
   ]
  },
  {
   "cell_type": "markdown",
   "metadata": {
    "papermill": {
     "duration": 1.369724,
     "end_time": "2020-11-19T04:36:41.151858",
     "exception": false,
     "start_time": "2020-11-19T04:36:39.782134",
     "status": "completed"
    },
    "tags": []
   },
   "source": [
    "# Evaluate The Model"
   ]
  },
  {
   "cell_type": "code",
   "execution_count": 29,
   "metadata": {
    "execution": {
     "iopub.execute_input": "2020-11-19T04:36:43.916380Z",
     "iopub.status.busy": "2020-11-19T04:36:43.915537Z",
     "iopub.status.idle": "2020-11-19T04:36:44.148076Z",
     "shell.execute_reply": "2020-11-19T04:36:44.147275Z"
    },
    "papermill": {
     "duration": 1.613637,
     "end_time": "2020-11-19T04:36:44.148208",
     "exception": false,
     "start_time": "2020-11-19T04:36:42.534571",
     "status": "completed"
    },
    "tags": []
   },
   "outputs": [
    {
     "data": {
      "text/plain": [
       "<Figure size 720x432 with 0 Axes>"
      ]
     },
     "metadata": {},
     "output_type": "display_data"
    },
    {
     "data": {
      "image/png": "[encoded data removed]",
      "text/plain": [
       "<Figure size 432x288 with 1 Axes>"
      ]
     },
     "metadata": {
      "needs_background": "light"
     },
     "output_type": "display_data"
    }
   ],
   "source": [
    "plt.figure(figsize=(10,6))\n",
    "pd.DataFrame(model.history.history).plot()\n",
    "plt.show()"
   ]
  },
  {
   "cell_type": "code",
   "execution_count": 30,
   "metadata": {
    "execution": {
     "iopub.execute_input": "2020-11-19T04:36:46.986421Z",
     "iopub.status.busy": "2020-11-19T04:36:46.985538Z",
     "iopub.status.idle": "2020-11-19T04:36:47.215879Z",
     "shell.execute_reply": "2020-11-19T04:36:47.217047Z"
    },
    "papermill": {
     "duration": 1.639952,
     "end_time": "2020-11-19T04:36:47.217304",
     "exception": false,
     "start_time": "2020-11-19T04:36:45.577352",
     "status": "completed"
    },
    "tags": []
   },
   "outputs": [
    {
     "name": "stdout",
     "output_type": "stream",
     "text": [
      "   Actual value  Predicted value\n",
      "0         100.0        74.997444\n",
      "1          45.4        43.083618\n",
      "2          35.0        39.330780\n",
      "3          97.0       140.185272\n",
      "4         170.0        89.336884\n",
      "\n",
      "from the MAE result, on average the model about 21.74 off from true price point in mean of actual values which is not really good and quite bad prediction because it off around 30% based on the mean of the target value.\n"
     ]
    }
   ],
   "source": [
    "y_pred = model.predict(x_ts_scaled).reshape(x_ts_scaled.shape[0],)\n",
    "pred_df = pd.DataFrame({'Actual value':y_ts, 'Predicted value':y_pred})\n",
    "\n",
    "print(pred_df.head())\n",
    "\n",
    "from sklearn.metrics import mean_absolute_error\n",
    "\n",
    "MAE_val = mean_absolute_error(y_true=pred_df['Actual value'], y_pred=pred_df['Predicted value'])\n",
    "print(\"\\nfrom the MAE result, on average the model about {:.2f} off from true price point in mean of actual values which is not really good and quite bad prediction because it off around 30% based on the mean of the target value.\".format(MAE_val))"
   ]
  },
  {
   "cell_type": "code",
   "execution_count": 31,
   "metadata": {
    "execution": {
     "iopub.execute_input": "2020-11-19T04:36:50.313309Z",
     "iopub.status.busy": "2020-11-19T04:36:50.312057Z",
     "iopub.status.idle": "2020-11-19T04:36:50.316811Z",
     "shell.execute_reply": "2020-11-19T04:36:50.315970Z"
    },
    "papermill": {
     "duration": 1.540379,
     "end_time": "2020-11-19T04:36:50.316950",
     "exception": false,
     "start_time": "2020-11-19T04:36:48.776571",
     "status": "completed"
    },
    "tags": []
   },
   "outputs": [
    {
     "data": {
      "text/plain": [
       "0.43692896155856054"
      ]
     },
     "execution_count": 31,
     "metadata": {},
     "output_type": "execute_result"
    }
   ],
   "source": [
    "'''\n",
    "This score metric is for explain variance regression score function.\n",
    "Best possible score is 1.0, lower values are worse.\n",
    "'''\n",
    "from sklearn.metrics import explained_variance_score\n",
    "\n",
    "explained_variance_score(y_ts, y_pred)"
   ]
  },
  {
   "cell_type": "code",
   "execution_count": null,
   "metadata": {},
   "outputs": [],
   "source": []
  },
  {
   "cell_type": "code",
   "execution_count": null,
   "metadata": {},
   "outputs": [],
   "source": []
  }
 ],
 "metadata": {
  "kernelspec": {
   "display_name": "Python 3",
   "language": "python",
   "name": "python3"
  },
  "language_info": {
   "codemirror_mode": {
    "name": "ipython",
    "version": 3
   },
   "file_extension": ".py",
   "mimetype": "text/x-python",
   "name": "python",
   "nbconvert_exporter": "python",
   "pygments_lexer": "ipython3",
   "version": "3.8.5"
  },
  "papermill": {
   "duration": 201.323721,
   "end_time": "2020-11-19T04:36:51.817116",
   "environment_variables": {},
   "exception": null,
   "input_path": "__notebook__.ipynb",
   "output_path": "__notebook__.ipynb",
   "parameters": {},
   "start_time": "2020-11-19T04:33:30.493395",
   "version": "2.1.0"
  }
 },
 "nbformat": 4,
 "nbformat_minor": 4
}
