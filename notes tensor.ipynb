{
 "cells": [
  {
   "cell_type": "code",
   "execution_count": 10,
   "id": "44895a77",
   "metadata": {},
   "outputs": [],
   "source": [
    "import tensorflow as tf\n",
    "import tensorflow.data as td\n",
    "\n",
    "import numpy as np"
   ]
  },
  {
   "cell_type": "code",
   "execution_count": 11,
   "id": "73841c33",
   "metadata": {},
   "outputs": [],
   "source": [
    "sl_num = [23, 22, 32, -43, -1, 52, 23, 12, 32, -9, 0, 22]"
   ]
  },
  {
   "cell_type": "code",
   "execution_count": 26,
   "id": "ef292b55",
   "metadata": {},
   "outputs": [
    {
     "name": "stdout",
     "output_type": "stream",
     "text": [
      "23\n",
      "22\n",
      "32\n",
      "-43\n",
      "-1\n",
      "52\n",
      "23\n",
      "12\n",
      "32\n",
      "-9\n",
      "0\n",
      "22\n"
     ]
    }
   ],
   "source": [
    "tf_data = tf.data.Dataset.from_tensor_slices(sl_num)\n",
    "for sl in tf_data.as_numpy_iterator():\n",
    "    print(sl)"
   ]
  },
  {
   "cell_type": "code",
   "execution_count": 34,
   "id": "37a57bdc",
   "metadata": {},
   "outputs": [
    {
     "name": "stdout",
     "output_type": "stream",
     "text": [
      "23\n",
      "22\n",
      "32\n",
      "52\n",
      "23\n",
      "12\n",
      "32\n",
      "22\n"
     ]
    }
   ],
   "source": [
    "tf_data1 = tf_data.filter(lambda x: x>0)\n",
    "for sl in tf_data1:\n",
    "    print(sl.numpy())"
   ]
  },
  {
   "cell_type": "code",
   "execution_count": 37,
   "id": "fa553350",
   "metadata": {},
   "outputs": [
    {
     "name": "stdout",
     "output_type": "stream",
     "text": [
      "2300\n",
      "2200\n",
      "3200\n",
      "5200\n",
      "2300\n",
      "1200\n",
      "3200\n",
      "2200\n"
     ]
    }
   ],
   "source": [
    "tf_data2 = tf_data1.map(lambda x: x*100)\n",
    "for sl in tf_data2:\n",
    "    print(sl.numpy())"
   ]
  },
  {
   "cell_type": "code",
   "execution_count": 38,
   "id": "243a3b92",
   "metadata": {},
   "outputs": [
    {
     "name": "stdout",
     "output_type": "stream",
     "text": [
      "5200\n",
      "2300\n",
      "1200\n",
      "3200\n",
      "3200\n",
      "2300\n",
      "2200\n",
      "2200\n"
     ]
    }
   ],
   "source": [
    "tf_data3 = tf_data2.shuffle(4)\n",
    "for sl in tf_data3:\n",
    "    print(sl.numpy())"
   ]
  },
  {
   "cell_type": "code",
   "execution_count": 43,
   "id": "7ec7e634",
   "metadata": {},
   "outputs": [
    {
     "name": "stdout",
     "output_type": "stream",
     "text": [
      "[2300 2200 3200 5200 2300]\n",
      "[1200 3200 2200]\n"
     ]
    }
   ],
   "source": [
    "tf_data3 = tf_data2.batch(5)\n",
    "for sl in tf_data3:\n",
    "    print(sl.numpy())"
   ]
  },
  {
   "cell_type": "markdown",
   "id": "55668f6f",
   "metadata": {},
   "source": [
    "# All in one line"
   ]
  },
  {
   "cell_type": "code",
   "execution_count": null,
   "id": "d1dad0bb",
   "metadata": {},
   "outputs": [],
   "source": [
    "sl_num = [23, 22, 32, -43, -1, 52, 23, 12, 32, -9, 0, 22]"
   ]
  },
  {
   "cell_type": "code",
   "execution_count": 47,
   "id": "d6dc5d48",
   "metadata": {},
   "outputs": [
    {
     "name": "stdout",
     "output_type": "stream",
     "text": [
      "[2300 2300 3200 1200 2200]\n",
      "[2200 3200 5200]\n"
     ]
    }
   ],
   "source": [
    "data = tf.data.Dataset.from_tensor_slices(sl_num).filter(lambda x: x>0).map(lambda y: y*100).shuffle(4).batch(5)\n",
    "\n",
    "for sl in data.as_numpy_iterator():\n",
    "    print(sl)"
   ]
  },
  {
   "cell_type": "code",
   "execution_count": null,
   "id": "80de72fa",
   "metadata": {},
   "outputs": [],
   "source": []
  },
  {
   "cell_type": "code",
   "execution_count": null,
   "id": "228a0ff6",
   "metadata": {},
   "outputs": [],
   "source": []
  }
 ],
 "metadata": {
  "kernelspec": {
   "display_name": "Python 3 (ipykernel)",
   "language": "python",
   "name": "python3"
  },
  "language_info": {
   "codemirror_mode": {
    "name": "ipython",
    "version": 3
   },
   "file_extension": ".py",
   "mimetype": "text/x-python",
   "name": "python",
   "nbconvert_exporter": "python",
   "pygments_lexer": "ipython3",
   "version": "3.9.6"
  }
 },
 "nbformat": 4,
 "nbformat_minor": 5
}
