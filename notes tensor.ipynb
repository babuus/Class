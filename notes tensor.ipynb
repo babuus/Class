{
 "cells": [
  {
   "cell_type": "code",
   "execution_count": 10,
   "source": [
    "import tensorflow as tf\n",
    "import tensorflow.data as td\n",
    "\n",
    "import numpy as np"
   ],
   "outputs": [],
   "metadata": {}
  },
  {
   "cell_type": "code",
   "execution_count": 11,
   "source": [
    "sl_num = [23, 22, 32, -43, -1, 52, 23, 12, 32, -9, 0, 22]"
   ],
   "outputs": [],
   "metadata": {}
  },
  {
   "cell_type": "code",
   "execution_count": 26,
   "source": [
    "tf_data = tf.data.Dataset.from_tensor_slices(sl_num)\n",
    "for sl in tf_data.as_numpy_iterator():\n",
    "    print(sl)"
   ],
   "outputs": [
    {
     "output_type": "stream",
     "name": "stdout",
     "text": [
      "23\n",
      "22\n",
      "32\n",
      "-43\n",
      "-1\n",
      "52\n",
      "23\n",
      "12\n",
      "32\n",
      "-9\n",
      "0\n",
      "22\n"
     ]
    }
   ],
   "metadata": {}
  },
  {
   "cell_type": "code",
   "execution_count": 34,
   "source": [
    "tf_data1 = tf_data.filter(lambda x: x>0)\n",
    "for sl in tf_data1:\n",
    "    print(sl.numpy())"
   ],
   "outputs": [
    {
     "output_type": "stream",
     "name": "stdout",
     "text": [
      "23\n",
      "22\n",
      "32\n",
      "52\n",
      "23\n",
      "12\n",
      "32\n",
      "22\n"
     ]
    }
   ],
   "metadata": {}
  },
  {
   "cell_type": "code",
   "execution_count": 37,
   "source": [
    "tf_data2 = tf_data1.map(lambda x: x*100)\r\n",
    "for sl in tf_data2:\r\n",
    "    print(sl.numpy())"
   ],
   "outputs": [
    {
     "output_type": "stream",
     "name": "stdout",
     "text": [
      "2300\n",
      "2200\n",
      "3200\n",
      "5200\n",
      "2300\n",
      "1200\n",
      "3200\n",
      "2200\n"
     ]
    }
   ],
   "metadata": {}
  },
  {
   "cell_type": "code",
   "execution_count": 38,
   "source": [
    "tf_data3 = tf_data2.shuffle(4)\r\n",
    "for sl in tf_data3:\r\n",
    "    print(sl.numpy())"
   ],
   "outputs": [
    {
     "output_type": "stream",
     "name": "stdout",
     "text": [
      "5200\n",
      "2300\n",
      "1200\n",
      "3200\n",
      "3200\n",
      "2300\n",
      "2200\n",
      "2200\n"
     ]
    }
   ],
   "metadata": {}
  },
  {
   "cell_type": "code",
   "execution_count": 43,
   "source": [
    "tf_data3 = tf_data2.batch(5)\r\n",
    "for sl in tf_data3:\r\n",
    "    print(sl.numpy())"
   ],
   "outputs": [
    {
     "output_type": "stream",
     "name": "stdout",
     "text": [
      "[2300 2200 3200 5200 2300]\n",
      "[1200 3200 2200]\n"
     ]
    }
   ],
   "metadata": {}
  },
  {
   "cell_type": "markdown",
   "source": [
    "# All in one line"
   ],
   "metadata": {}
  },
  {
   "cell_type": "code",
   "execution_count": null,
   "source": [
    "sl_num = [23, 22, 32, -43, -1, 52, 23, 12, 32, -9, 0, 22]"
   ],
   "outputs": [],
   "metadata": {}
  },
  {
   "cell_type": "code",
   "execution_count": 47,
   "source": [
    "data = tf.data.Dataset.from_tensor_slices(sl_num).filter(lambda x: x>0).map(lambda y: y*100).shuffle(4).batch(5)\r\n",
    "\r\n",
    "for sl in data.as_numpy_iterator():\r\n",
    "    print(sl)"
   ],
   "outputs": [
    {
     "output_type": "stream",
     "name": "stdout",
     "text": [
      "[2300 2300 3200 1200 2200]\n",
      "[2200 3200 5200]\n"
     ]
    }
   ],
   "metadata": {}
  },
  {
   "cell_type": "code",
   "execution_count": null,
   "source": [
    "\r\n",
    "#input X_train\r\n",
    "#import plt and standardscaler\r\n",
    "\r\n",
    "def plots(df, var, t):\r\n",
    "    plt.figure(figsize=(13,5))\r\n",
    "    plt.subplot(121)\r\n",
    "    sns.kdeplot(df[var])\r\n",
    "    plt.title('before ' + str(t).split('(')[0])\r\n",
    "    \r\n",
    "    plt.subplot(122)\r\n",
    "    p1 = t.fit_transform(df[[var]]).flatten()\r\n",
    "    sns.kdeplot(p1)\r\n",
    "    plt.title('after ' + str(t).split('(')[0])\r\n",
    "    \r\n",
    "\r\n",
    "    \r\n",
    "for col in X_train.columns:\r\n",
    "    plots(X_train, col, StandardScaler())"
   ],
   "outputs": [],
   "metadata": {}
  },
  {
   "cell_type": "code",
   "execution_count": null,
   "source": [],
   "outputs": [],
   "metadata": {}
  }
 ],
 "metadata": {
  "kernelspec": {
   "display_name": "Python 3 (ipykernel)",
   "language": "python",
   "name": "python3"
  },
  "language_info": {
   "codemirror_mode": {
    "name": "ipython",
    "version": 3
   },
   "file_extension": ".py",
   "mimetype": "text/x-python",
   "name": "python",
   "nbconvert_exporter": "python",
   "pygments_lexer": "ipython3",
   "version": "3.9.6"
  }
 },
 "nbformat": 4,
 "nbformat_minor": 5
}