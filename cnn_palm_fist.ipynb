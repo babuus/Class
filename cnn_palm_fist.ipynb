{
  "nbformat": 4,
  "nbformat_minor": 0,
  "metadata": {
    "colab": {
      "name": "cnn_palm_fist.ipynb",
      "provenance": [],
      "collapsed_sections": [],
      "authorship_tag": "ABX9TyN0LibHsyKpiSPYMvp3RtIK",
      "include_colab_link": true
    },
    "kernelspec": {
      "display_name": "Python 3",
      "name": "python3"
    },
    "language_info": {
      "name": "python"
    }
  },
  "cells": [
    {
      "cell_type": "markdown",
      "metadata": {
        "id": "view-in-github",
        "colab_type": "text"
      },
      "source": [
        "<a href=\"https://colab.research.google.com/github/babuus/Machine-Learning/blob/master/cnn_palm_fist.ipynb\" target=\"_parent\"><img src=\"https://colab.research.google.com/assets/colab-badge.svg\" alt=\"Open In Colab\"/></a>"
      ]
    },
    {
      "cell_type": "code",
      "metadata": {
        "id": "F_O-lhHcpjxG"
      },
      "source": [
        "!wget https://www.gti.ssr.upm.es/images/Data/Downloads/HandGestureDatabase/set_1.rar\n",
        "!unrar x '/content/set_1.rar'"
      ],
      "execution_count": null,
      "outputs": []
    },
    {
      "cell_type": "code",
      "metadata": {
        "id": "7eJqu_44o45J"
      },
      "source": [
        "import os\n",
        "import PIL\n",
        "import cv2\n",
        "import pathlib\n",
        "import numpy as np\n",
        "import tensorflow as tf\n",
        "from tensorflow import keras\n",
        "import matplotlib.pyplot as plt\n",
        "from tensorflow.keras import layers\n",
        "from tensorflow.keras.models import Sequential\n",
        "from sklearn.model_selection import train_test_split"
      ],
      "execution_count": null,
      "outputs": []
    },
    {
      "cell_type": "code",
      "metadata": {
        "colab": {
          "base_uri": "https://localhost:8080/"
        },
        "id": "y-2-7WsvlFEV",
        "outputId": "a79f5c77-9c1e-420f-f583-11f98caef1a9"
      },
      "source": [
        "from google.colab import drive\n",
        "drive.mount('/content/drive')"
      ],
      "execution_count": null,
      "outputs": [
        {
          "output_type": "stream",
          "text": [
            "Mounted at /content/drive\n"
          ],
          "name": "stdout"
        }
      ]
    },
    {
      "cell_type": "code",
      "metadata": {
        "colab": {
          "base_uri": "https://localhost:8080/"
        },
        "id": "cFSnlppzmPMD",
        "collapsed": true,
        "outputId": "2b5480a5-796a-42b6-8768-949c950ab2ad"
      },
      "source": [
        "!unrar x '/content/drive/MyDrive/Dataset/palm_fist.rar' '/content/'"
      ],
      "execution_count": null,
      "outputs": [
        {
          "output_type": "stream",
          "text": [
            "\n",
            "UNRAR 5.50 freeware      Copyright (c) 1993-2017 Alexander Roshal\n",
            "\n",
            "\n",
            "Extracting from /content/drive/MyDrive/Dataset/palm_fist.rar\n",
            "\n",
            "Creating    /content/Training                                         OK\n",
            "Creating    /content/Training/fist                                    OK\n",
            "Creating    /content/Training/fist/fist_set_01                        OK\n",
            "Extracting  /content/Training/fist/fist_set_01/dr_0_1327.png             \b\b\b\b  0%\b\b\b\b\b  OK \n",
            "Extracting  /content/Training/fist/fist_set_01/dr_0_1327.xml             \b\b\b\b  0%\b\b\b\b\b  OK \n",
            "Extracting  /content/Training/fist/fist_set_01/dr_0_149.png              \b\b\b\b  0%\b\b\b\b\b  OK \n",
            "Extracting  /content/Training/fist/fist_set_01/dr_0_149.xml              \b\b\b\b  0%\b\b\b\b\b  OK \n",
            "Extracting  /content/Training/fist/fist_set_01/dr_0_1760.png             \b\b\b\b  0%\b\b\b\b\b  OK \n",
            "Extracting  /content/Training/fist/fist_set_01/dr_0_1760.xml             \b\b\b\b  0%\b\b\b\b\b  OK \n",
            "Extracting  /content/Training/fist/fist_set_01/dr_0_2330.png             \b\b\b\b  0%\b\b\b\b\b  OK \n",
            "Extracting  /content/Training/fist/fist_set_01/dr_0_2330.xml             \b\b\b\b  0%\b\b\b\b\b  OK \n",
            "Extracting  /content/Training/fist/fist_set_01/dr_0_2344.png             \b\b\b\b  0%\b\b\b\b\b  OK \n",
            "Extracting  /content/Training/fist/fist_set_01/dr_0_2344.xml             \b\b\b\b  0%\b\b\b\b\b  OK \n",
            "Extracting  /content/Training/fist/fist_set_01/dr_0_2520.png             \b\b\b\b  1%\b\b\b\b\b  OK \n",
            "Extracting  /content/Training/fist/fist_set_01/dr_0_2520.xml             \b\b\b\b  1%\b\b\b\b\b  OK \n",
            "Extracting  /content/Training/fist/fist_set_01/dr_0_2900.png             \b\b\b\b  1%\b\b\b\b\b  OK \n",
            "Extracting  /content/Training/fist/fist_set_01/dr_0_2900.xml             \b\b\b\b  1%\b\b\b\b\b  OK \n",
            "Extracting  /content/Training/fist/fist_set_01/dr_0_2932.png             \b\b\b\b  1%\b\b\b\b\b  OK \n",
            "Extracting  /content/Training/fist/fist_set_01/dr_0_2932.xml             \b\b\b\b  1%\b\b\b\b\b  OK \n",
            "Extracting  /content/Training/fist/fist_set_01/dr_0_3146.png             \b\b\b\b  1%\b\b\b\b\b  OK \n",
            "Extracting  /content/Training/fist/fist_set_01/dr_0_3146.xml             \b\b\b\b  1%\b\b\b\b\b  OK \n",
            "Extracting  /content/Training/fist/fist_set_01/dr_0_3314.png             \b\b\b\b  1%\b\b\b\b\b  OK \n",
            "Extracting  /content/Training/fist/fist_set_01/dr_0_3314.xml             \b\b\b\b  1%\b\b\b\b\b  OK \n",
            "Extracting  /content/Training/fist/fist_set_01/dr_0_3379.png             \b\b\b\b  2%\b\b\b\b\b  OK \n",
            "Extracting  /content/Training/fist/fist_set_01/dr_0_3379.xml             \b\b\b\b  2%\b\b\b\b\b  OK \n",
            "Extracting  /content/Training/fist/fist_set_01/dr_0_3462.png             \b\b\b\b  2%\b\b\b\b\b  OK \n",
            "Extracting  /content/Training/fist/fist_set_01/dr_0_3462.xml             \b\b\b\b  2%\b\b\b\b\b  OK \n",
            "Extracting  /content/Training/fist/fist_set_01/dr_0_3732.png             \b\b\b\b  2%\b\b\b\b\b  OK \n",
            "Extracting  /content/Training/fist/fist_set_01/dr_0_3732.xml             \b\b\b\b  2%\b\b\b\b\b  OK \n",
            "Extracting  /content/Training/fist/fist_set_01/dr_0_3896.png             \b\b\b\b  2%\b\b\b\b\b  OK \n",
            "Extracting  /content/Training/fist/fist_set_01/dr_0_3896.xml             \b\b\b\b  2%\b\b\b\b\b  OK \n",
            "Extracting  /content/Training/fist/fist_set_01/dr_0_4026.png             \b\b\b\b  2%\b\b\b\b\b  OK \n",
            "Extracting  /content/Training/fist/fist_set_01/dr_0_4026.xml             \b\b\b\b  2%\b\b\b\b\b  OK \n",
            "Extracting  /content/Training/fist/fist_set_01/dr_0_4063.png             \b\b\b\b  3%\b\b\b\b\b  OK \n",
            "Extracting  /content/Training/fist/fist_set_01/dr_0_4063.xml             \b\b\b\b  3%\b\b\b\b\b  OK \n",
            "Extracting  /content/Training/fist/fist_set_01/dr_0_4621.png             \b\b\b\b  3%\b\b\b\b\b  OK \n",
            "Extracting  /content/Training/fist/fist_set_01/dr_0_4621.xml             \b\b\b\b  3%\b\b\b\b\b  OK \n",
            "Extracting  /content/Training/fist/fist_set_01/dr_0_4661.png             \b\b\b\b  3%\b\b\b\b\b  OK \n",
            "Extracting  /content/Training/fist/fist_set_01/dr_0_4661.xml             \b\b\b\b  3%\b\b\b\b\b  OK \n",
            "Extracting  /content/Training/fist/fist_set_01/dr_0_4888.png             \b\b\b\b  3%\b\b\b\b\b  OK \n",
            "Extracting  /content/Training/fist/fist_set_01/dr_0_4888.xml             \b\b\b\b  3%\b\b\b\b\b  OK \n",
            "Extracting  /content/Training/fist/fist_set_01/dr_0_5029.png             \b\b\b\b  3%\b\b\b\b\b  OK \n",
            "Extracting  /content/Training/fist/fist_set_01/dr_0_5029.xml             \b\b\b\b  3%\b\b\b\b\b  OK \n",
            "Extracting  /content/Training/fist/fist_set_01/dr_0_5083.png             \b\b\b\b  4%\b\b\b\b\b  OK \n",
            "Extracting  /content/Training/fist/fist_set_01/dr_0_5083.xml             \b\b\b\b  4%\b\b\b\b\b  OK \n",
            "Extracting  /content/Training/fist/fist_set_01/dr_0_5307.png             \b\b\b\b  4%\b\b\b\b\b  OK \n",
            "Extracting  /content/Training/fist/fist_set_01/dr_0_5307.xml             \b\b\b\b  4%\b\b\b\b\b  OK \n",
            "Extracting  /content/Training/fist/fist_set_01/dr_0_5356.png             \b\b\b\b  4%\b\b\b\b\b  OK \n",
            "Extracting  /content/Training/fist/fist_set_01/dr_0_5356.xml             \b\b\b\b  4%\b\b\b\b\b  OK \n",
            "Extracting  /content/Training/fist/fist_set_01/dr_0_5560.png             \b\b\b\b  4%\b\b\b\b\b  OK \n",
            "Extracting  /content/Training/fist/fist_set_01/dr_0_5560.xml             \b\b\b\b  4%\b\b\b\b\b  OK \n",
            "Extracting  /content/Training/fist/fist_set_01/dr_0_5671.png             \b\b\b\b  4%\b\b\b\b\b  OK \n",
            "Extracting  /content/Training/fist/fist_set_01/dr_0_5671.xml             \b\b\b\b  4%\b\b\b\b\b  OK \n",
            "Extracting  /content/Training/fist/fist_set_01/dr_0_6004.png             \b\b\b\b  5%\b\b\b\b\b  OK \n",
            "Extracting  /content/Training/fist/fist_set_01/dr_0_6004.xml             \b\b\b\b  5%\b\b\b\b\b  OK \n",
            "Extracting  /content/Training/fist/fist_set_01/dr_0_6093.png             \b\b\b\b  5%\b\b\b\b\b  OK \n",
            "Extracting  /content/Training/fist/fist_set_01/dr_0_6093.xml             \b\b\b\b  5%\b\b\b\b\b  OK \n",
            "Extracting  /content/Training/fist/fist_set_01/dr_0_625.png              \b\b\b\b  5%\b\b\b\b\b  OK \n",
            "Extracting  /content/Training/fist/fist_set_01/dr_0_625.xml              \b\b\b\b  5%\b\b\b\b\b  OK \n",
            "Extracting  /content/Training/fist/fist_set_01/dr_0_630.png              \b\b\b\b  5%\b\b\b\b\b  OK \n",
            "Extracting  /content/Training/fist/fist_set_01/dr_0_630.xml              \b\b\b\b  5%\b\b\b\b\b  OK \n",
            "Extracting  /content/Training/fist/fist_set_01/dr_0_6609.png             \b\b\b\b  5%\b\b\b\b\b  OK \n",
            "Extracting  /content/Training/fist/fist_set_01/dr_0_6609.xml             \b\b\b\b  5%\b\b\b\b\b  OK \n",
            "Extracting  /content/Training/fist/fist_set_01/dr_0_6823.png             \b\b\b\b  6%\b\b\b\b\b  OK \n",
            "Extracting  /content/Training/fist/fist_set_01/dr_0_6823.xml             \b\b\b\b  6%\b\b\b\b\b  OK \n",
            "Extracting  /content/Training/fist/fist_set_01/dr_0_7067.png             \b\b\b\b  6%\b\b\b\b\b  OK \n",
            "Extracting  /content/Training/fist/fist_set_01/dr_0_7067.xml             \b\b\b\b  6%\b\b\b\b\b  OK \n",
            "Extracting  /content/Training/fist/fist_set_01/dr_0_7309.png             \b\b\b\b  6%\b\b\b\b\b  OK \n",
            "Extracting  /content/Training/fist/fist_set_01/dr_0_7309.xml             \b\b\b\b  6%\b\b\b\b\b  OK \n",
            "Extracting  /content/Training/fist/fist_set_01/dr_0_7338.png             \b\b\b\b  6%\b\b\b\b\b  OK \n",
            "Extracting  /content/Training/fist/fist_set_01/dr_0_7338.xml             \b\b\b\b  6%\b\b\b\b\b  OK \n",
            "Extracting  /content/Training/fist/fist_set_01/dr_0_7725.png             \b\b\b\b  6%\b\b\b\b\b  OK \n",
            "Extracting  /content/Training/fist/fist_set_01/dr_0_7725.xml             \b\b\b\b  6%\b\b\b\b\b  OK \n",
            "Extracting  /content/Training/fist/fist_set_01/dr_0_7768.png             \b\b\b\b  7%\b\b\b\b\b  OK \n",
            "Extracting  /content/Training/fist/fist_set_01/dr_0_7768.xml             \b\b\b\b  7%\b\b\b\b\b  OK \n",
            "Extracting  /content/Training/fist/fist_set_01/dr_0_8010.png             \b\b\b\b  7%\b\b\b\b\b  OK \n",
            "Extracting  /content/Training/fist/fist_set_01/dr_0_8010.xml             \b\b\b\b  7%\b\b\b\b\b  OK \n",
            "Extracting  /content/Training/fist/fist_set_01/dr_0_804.png              \b\b\b\b  7%\b\b\b\b\b  OK \n",
            "Extracting  /content/Training/fist/fist_set_01/dr_0_804.xml              \b\b\b\b  7%\b\b\b\b\b  OK \n",
            "Extracting  /content/Training/fist/fist_set_01/dr_0_8156.png             \b\b\b\b  7%\b\b\b\b\b  OK \n",
            "Extracting  /content/Training/fist/fist_set_01/dr_0_8156.xml             \b\b\b\b  7%\b\b\b\b\b  OK \n",
            "Extracting  /content/Training/fist/fist_set_01/dr_0_8211.png             \b\b\b\b  7%\b\b\b\b\b  OK \n",
            "Extracting  /content/Training/fist/fist_set_01/dr_0_8211.xml             \b\b\b\b  7%\b\b\b\b\b  OK \n",
            "Extracting  /content/Training/fist/fist_set_01/dr_0_8256.png             \b\b\b\b  8%\b\b\b\b\b  OK \n",
            "Extracting  /content/Training/fist/fist_set_01/dr_0_8256.xml             \b\b\b\b  8%\b\b\b\b\b  OK \n",
            "Extracting  /content/Training/fist/fist_set_01/dr_0_8436.png             \b\b\b\b  8%\b\b\b\b\b  OK \n",
            "Extracting  /content/Training/fist/fist_set_01/dr_0_8436.xml             \b\b\b\b  8%\b\b\b\b\b  OK \n",
            "Extracting  /content/Training/fist/fist_set_01/dr_0_8634.png             \b\b\b\b  8%\b\b\b\b\b  OK \n",
            "Extracting  /content/Training/fist/fist_set_01/dr_0_8634.xml             \b\b\b\b  8%\b\b\b\b\b  OK \n",
            "Extracting  /content/Training/fist/fist_set_01/dr_0_891.png              \b\b\b\b  8%\b\b\b\b\b  OK \n",
            "Extracting  /content/Training/fist/fist_set_01/dr_0_891.xml              \b\b\b\b  8%\b\b\b\b\b  OK \n",
            "Extracting  /content/Training/fist/fist_set_01/dr_0_9018.png             \b\b\b\b  8%\b\b\b\b\b  OK \n",
            "Extracting  /content/Training/fist/fist_set_01/dr_0_9018.xml             \b\b\b\b  8%\b\b\b\b\b  OK \n",
            "Extracting  /content/Training/fist/fist_set_01/dr_0_9020.png             \b\b\b\b  9%\b\b\b\b\b  OK \n",
            "Extracting  /content/Training/fist/fist_set_01/dr_0_9020.xml             \b\b\b\b  9%\b\b\b\b\b  OK \n",
            "Extracting  /content/Training/fist/fist_set_01/dr_0_9096.png             \b\b\b\b  9%\b\b\b\b\b  OK \n",
            "Extracting  /content/Training/fist/fist_set_01/dr_0_9096.xml             \b\b\b\b  9%\b\b\b\b\b  OK \n",
            "Extracting  /content/Training/fist/fist_set_01/dr_0_9386.png             \b\b\b\b  9%\b\b\b\b\b  OK \n",
            "Extracting  /content/Training/fist/fist_set_01/dr_0_9386.xml             \b\b\b\b  9%\b\b\b\b\b  OK \n",
            "Extracting  /content/Training/fist/fist_set_01/dr_0_9632.png             \b\b\b\b  9%\b\b\b\b\b  OK \n",
            "Extracting  /content/Training/fist/fist_set_01/dr_0_9632.xml             \b\b\b\b  9%\b\b\b\b\b  OK \n",
            "Extracting  /content/Training/fist/fist_set_01/dr_0_9817.png             \b\b\b\b  9%\b\b\b\b\b  OK \n",
            "Extracting  /content/Training/fist/fist_set_01/dr_0_9817.xml             \b\b\b\b  9%\b\b\b\b\b  OK \n",
            "Extracting  /content/Training/fist/fist_set_01/dr_0_9938.png             \b\b\b\b 10%\b\b\b\b\b  OK \n",
            "Extracting  /content/Training/fist/fist_set_01/dr_0_9938.xml             \b\b\b\b 10%\b\b\b\b\b  OK \n",
            "Extracting  /content/Training/fist/fist_set_01/frame_20011.png           \b\b\b\b 10%\b\b\b\b\b  OK \n",
            "Extracting  /content/Training/fist/fist_set_01/frame_20011.xml           \b\b\b\b 10%\b\b\b\b\b  OK \n",
            "Creating    /content/Training/fist/fist_set_02                        OK\n",
            "Extracting  /content/Training/fist/fist_set_02/dr_0_1164.png             \b\b\b\b 10%\b\b\b\b\b  OK \n",
            "Extracting  /content/Training/fist/fist_set_02/dr_0_1164.xml             \b\b\b\b 10%\b\b\b\b\b  OK \n",
            "Extracting  /content/Training/fist/fist_set_02/dr_0_1363.png             \b\b\b\b 10%\b\b\b\b\b  OK \n",
            "Extracting  /content/Training/fist/fist_set_02/dr_0_1363.xml             \b\b\b\b 10%\b\b\b\b\b  OK \n",
            "Extracting  /content/Training/fist/fist_set_02/dr_0_180.png              \b\b\b\b 11%\b\b\b\b\b  OK \n",
            "Extracting  /content/Training/fist/fist_set_02/dr_0_180.xml              \b\b\b\b 11%\b\b\b\b\b  OK \n",
            "Extracting  /content/Training/fist/fist_set_02/dr_0_1829.png             \b\b\b\b 11%\b\b\b\b\b  OK \n",
            "Extracting  /content/Training/fist/fist_set_02/dr_0_1829.xml             \b\b\b\b 11%\b\b\b\b\b  OK \n",
            "Extracting  /content/Training/fist/fist_set_02/dr_0_1903.png             \b\b\b\b 11%\b\b\b\b\b  OK \n",
            "Extracting  /content/Training/fist/fist_set_02/dr_0_1903.xml             \b\b\b\b 11%\b\b\b\b\b  OK \n",
            "Extracting  /content/Training/fist/fist_set_02/dr_0_2027.png             \b\b\b\b 11%\b\b\b\b\b  OK \n",
            "Extracting  /content/Training/fist/fist_set_02/dr_0_2027.xml             \b\b\b\b 11%\b\b\b\b\b  OK \n",
            "Extracting  /content/Training/fist/fist_set_02/dr_0_208.png              \b\b\b\b 11%\b\b\b\b\b  OK \n",
            "Extracting  /content/Training/fist/fist_set_02/dr_0_208.xml              \b\b\b\b 11%\b\b\b\b\b  OK \n",
            "Extracting  /content/Training/fist/fist_set_02/dr_0_223.png              \b\b\b\b 12%\b\b\b\b\b  OK \n",
            "Extracting  /content/Training/fist/fist_set_02/dr_0_223.xml              \b\b\b\b 12%\b\b\b\b\b  OK \n",
            "Extracting  /content/Training/fist/fist_set_02/dr_0_2282.png             \b\b\b\b 12%\b\b\b\b\b  OK \n",
            "Extracting  /content/Training/fist/fist_set_02/dr_0_2282.xml             \b\b\b\b 12%\b\b\b\b\b  OK \n",
            "Extracting  /content/Training/fist/fist_set_02/dr_0_2328.png             \b\b\b\b 12%\b\b\b\b\b  OK \n",
            "Extracting  /content/Training/fist/fist_set_02/dr_0_2328.xml             \b\b\b\b 12%\b\b\b\b\b  OK \n",
            "Extracting  /content/Training/fist/fist_set_02/dr_0_2507.png             \b\b\b\b 12%\b\b\b\b\b  OK \n",
            "Extracting  /content/Training/fist/fist_set_02/dr_0_2507.xml             \b\b\b\b 12%\b\b\b\b\b  OK \n",
            "Extracting  /content/Training/fist/fist_set_02/dr_0_2822.png             \b\b\b\b 12%\b\b\b\b\b  OK \n",
            "Extracting  /content/Training/fist/fist_set_02/dr_0_2822.xml             \b\b\b\b 12%\b\b\b\b\b  OK \n",
            "Extracting  /content/Training/fist/fist_set_02/dr_0_3264.png             \b\b\b\b 13%\b\b\b\b\b  OK \n",
            "Extracting  /content/Training/fist/fist_set_02/dr_0_3264.xml             \b\b\b\b 13%\b\b\b\b\b  OK \n",
            "Extracting  /content/Training/fist/fist_set_02/dr_0_3793.png             \b\b\b\b 13%\b\b\b\b\b  OK \n",
            "Extracting  /content/Training/fist/fist_set_02/dr_0_3793.xml             \b\b\b\b 13%\b\b\b\b\b  OK \n",
            "Extracting  /content/Training/fist/fist_set_02/dr_0_3855.png             \b\b\b\b 13%\b\b\b\b\b  OK \n",
            "Extracting  /content/Training/fist/fist_set_02/dr_0_3855.xml             \b\b\b\b 13%\b\b\b\b\b  OK \n",
            "Extracting  /content/Training/fist/fist_set_02/dr_0_398.png              \b\b\b\b 13%\b\b\b\b\b  OK \n",
            "Extracting  /content/Training/fist/fist_set_02/dr_0_398.xml              \b\b\b\b 13%\b\b\b\b\b  OK \n",
            "Extracting  /content/Training/fist/fist_set_02/dr_0_4271.png             \b\b\b\b 13%\b\b\b\b\b  OK \n",
            "Extracting  /content/Training/fist/fist_set_02/dr_0_4271.xml             \b\b\b\b 13%\b\b\b\b\b  OK \n",
            "Extracting  /content/Training/fist/fist_set_02/dr_0_477.png              \b\b\b\b 14%\b\b\b\b\b  OK \n",
            "Extracting  /content/Training/fist/fist_set_02/dr_0_477.xml              \b\b\b\b 14%\b\b\b\b\b  OK \n",
            "Extracting  /content/Training/fist/fist_set_02/dr_0_4847.png             \b\b\b\b 14%\b\b\b\b\b  OK \n",
            "Extracting  /content/Training/fist/fist_set_02/dr_0_4847.xml             \b\b\b\b 14%\b\b\b\b\b  OK \n",
            "Extracting  /content/Training/fist/fist_set_02/dr_0_4989.png             \b\b\b\b 14%\b\b\b\b\b  OK \n",
            "Extracting  /content/Training/fist/fist_set_02/dr_0_4989.xml             \b\b\b\b 14%\b\b\b\b\b  OK \n",
            "Extracting  /content/Training/fist/fist_set_02/dr_0_4996.png             \b\b\b\b 14%\b\b\b\b\b  OK \n",
            "Extracting  /content/Training/fist/fist_set_02/dr_0_4996.xml             \b\b\b\b 14%\b\b\b\b\b  OK \n",
            "Extracting  /content/Training/fist/fist_set_02/dr_0_5081.png             \b\b\b\b 14%\b\b\b\b\b  OK \n",
            "Extracting  /content/Training/fist/fist_set_02/dr_0_5081.xml             \b\b\b\b 14%\b\b\b\b\b  OK \n",
            "Extracting  /content/Training/fist/fist_set_02/dr_0_5285.png             \b\b\b\b 15%\b\b\b\b\b  OK \n",
            "Extracting  /content/Training/fist/fist_set_02/dr_0_5285.xml             \b\b\b\b 15%\b\b\b\b\b  OK \n",
            "Extracting  /content/Training/fist/fist_set_02/dr_0_5483.png             \b\b\b\b 15%\b\b\b\b\b  OK \n",
            "Extracting  /content/Training/fist/fist_set_02/dr_0_5483.xml             \b\b\b\b 15%\b\b\b\b\b  OK \n",
            "Extracting  /content/Training/fist/fist_set_02/dr_0_5921.png             \b\b\b\b 15%\b\b\b\b\b  OK \n",
            "Extracting  /content/Training/fist/fist_set_02/dr_0_5921.xml             \b\b\b\b 15%\b\b\b\b\b  OK \n",
            "Extracting  /content/Training/fist/fist_set_02/dr_0_5967.png             \b\b\b\b 15%\b\b\b\b\b  OK \n",
            "Extracting  /content/Training/fist/fist_set_02/dr_0_5967.xml             \b\b\b\b 15%\b\b\b\b\b  OK \n",
            "Extracting  /content/Training/fist/fist_set_02/dr_0_6347.png             \b\b\b\b 15%\b\b\b\b\b  OK \n",
            "Extracting  /content/Training/fist/fist_set_02/dr_0_6347.xml             \b\b\b\b 15%\b\b\b\b\b  OK \n",
            "Extracting  /content/Training/fist/fist_set_02/dr_0_6952.png             \b\b\b\b 16%\b\b\b\b\b  OK \n",
            "Extracting  /content/Training/fist/fist_set_02/dr_0_6952.xml             \b\b\b\b 16%\b\b\b\b\b  OK \n",
            "Extracting  /content/Training/fist/fist_set_02/dr_0_7035.png             \b\b\b\b 16%\b\b\b\b\b  OK \n",
            "Extracting  /content/Training/fist/fist_set_02/dr_0_7035.xml             \b\b\b\b 16%\b\b\b\b\b  OK \n",
            "Extracting  /content/Training/fist/fist_set_02/dr_0_7051.png             \b\b\b\b 16%\b\b\b\b\b  OK \n",
            "Extracting  /content/Training/fist/fist_set_02/dr_0_7051.xml             \b\b\b\b 16%\b\b\b\b\b  OK \n",
            "Extracting  /content/Training/fist/fist_set_02/dr_0_7123.png             \b\b\b\b 16%\b\b\b\b\b  OK \n",
            "Extracting  /content/Training/fist/fist_set_02/dr_0_7123.xml             \b\b\b\b 16%\b\b\b\b\b  OK \n",
            "Extracting  /content/Training/fist/fist_set_02/dr_0_7322.png             \b\b\b\b 16%\b\b\b\b 17%\b\b\b\b\b  OK \n",
            "Extracting  /content/Training/fist/fist_set_02/dr_0_7322.xml             \b\b\b\b 17%\b\b\b\b\b  OK \n",
            "Extracting  /content/Training/fist/fist_set_02/dr_0_7337.png             \b\b\b\b 17%\b\b\b\b\b  OK \n",
            "Extracting  /content/Training/fist/fist_set_02/dr_0_7337.xml             \b\b\b\b 17%\b\b\b\b\b  OK \n",
            "Extracting  /content/Training/fist/fist_set_02/dr_0_7468.png             \b\b\b\b 17%\b\b\b\b\b  OK \n",
            "Extracting  /content/Training/fist/fist_set_02/dr_0_7468.xml             \b\b\b\b 17%\b\b\b\b\b  OK \n",
            "Extracting  /content/Training/fist/fist_set_02/dr_0_7784.png             \b\b\b\b 17%\b\b\b\b\b  OK \n",
            "Extracting  /content/Training/fist/fist_set_02/dr_0_7784.xml             \b\b\b\b 17%\b\b\b\b\b  OK \n",
            "Extracting  /content/Training/fist/fist_set_02/dr_0_7840.png             \b\b\b\b 17%\b\b\b\b\b  OK \n",
            "Extracting  /content/Training/fist/fist_set_02/dr_0_7840.xml             \b\b\b\b 17%\b\b\b\b\b  OK \n",
            "Extracting  /content/Training/fist/fist_set_02/dr_0_7919.png             \b\b\b\b 17%\b\b\b\b 18%\b\b\b\b\b  OK \n",
            "Extracting  /content/Training/fist/fist_set_02/dr_0_7919.xml             \b\b\b\b 18%\b\b\b\b\b  OK \n",
            "Extracting  /content/Training/fist/fist_set_02/dr_0_8170.png             \b\b\b\b 18%\b\b\b\b\b  OK \n",
            "Extracting  /content/Training/fist/fist_set_02/dr_0_8170.xml             \b\b\b\b 18%\b\b\b\b\b  OK \n",
            "Extracting  /content/Training/fist/fist_set_02/dr_0_8208.png             \b\b\b\b 18%\b\b\b\b\b  OK \n",
            "Extracting  /content/Training/fist/fist_set_02/dr_0_8208.xml             \b\b\b\b 18%\b\b\b\b\b  OK \n",
            "Extracting  /content/Training/fist/fist_set_02/dr_0_8274.png             \b\b\b\b 18%\b\b\b\b\b  OK \n",
            "Extracting  /content/Training/fist/fist_set_02/dr_0_8274.xml             \b\b\b\b 18%\b\b\b\b\b  OK \n",
            "Extracting  /content/Training/fist/fist_set_02/dr_0_8381.png             \b\b\b\b 18%\b\b\b\b\b  OK \n",
            "Extracting  /content/Training/fist/fist_set_02/dr_0_8381.xml             \b\b\b\b 18%\b\b\b\b\b  OK \n",
            "Extracting  /content/Training/fist/fist_set_02/dr_0_854.png              \b\b\b\b 19%\b\b\b\b\b  OK \n",
            "Extracting  /content/Training/fist/fist_set_02/dr_0_854.xml              \b\b\b\b 19%\b\b\b\b\b  OK \n",
            "Extracting  /content/Training/fist/fist_set_02/dr_0_8622.png             \b\b\b\b 19%\b\b\b\b\b  OK \n",
            "Extracting  /content/Training/fist/fist_set_02/dr_0_8622.xml             \b\b\b\b 19%\b\b\b\b\b  OK \n",
            "Extracting  /content/Training/fist/fist_set_02/dr_0_8967.png             \b\b\b\b 19%\b\b\b\b\b  OK \n",
            "Extracting  /content/Training/fist/fist_set_02/dr_0_8967.xml             \b\b\b\b 19%\b\b\b\b\b  OK \n",
            "Extracting  /content/Training/fist/fist_set_02/dr_0_901.png              \b\b\b\b 19%\b\b\b\b\b  OK \n",
            "Extracting  /content/Training/fist/fist_set_02/dr_0_901.xml              \b\b\b\b 19%\b\b\b\b\b  OK \n",
            "Extracting  /content/Training/fist/fist_set_02/dr_0_9241.png             \b\b\b\b 19%\b\b\b\b\b  OK \n",
            "Extracting  /content/Training/fist/fist_set_02/dr_0_9241.xml             \b\b\b\b 19%\b\b\b\b\b  OK \n",
            "Extracting  /content/Training/fist/fist_set_02/dr_0_9304.png             \b\b\b\b 19%\b\b\b\b 20%\b\b\b\b\b  OK \n",
            "Extracting  /content/Training/fist/fist_set_02/dr_0_9304.xml             \b\b\b\b 20%\b\b\b\b\b  OK \n",
            "Extracting  /content/Training/fist/fist_set_02/dr_0_9499.png             \b\b\b\b 20%\b\b\b\b\b  OK \n",
            "Extracting  /content/Training/fist/fist_set_02/dr_0_9499.xml             \b\b\b\b 20%\b\b\b\b\b  OK \n",
            "Extracting  /content/Training/fist/fist_set_02/dr_0_9553.png             \b\b\b\b 20%\b\b\b\b\b  OK \n",
            "Extracting  /content/Training/fist/fist_set_02/dr_0_9553.xml             \b\b\b\b 20%\b\b\b\b\b  OK \n",
            "Extracting  /content/Training/fist/fist_set_02/dr_0_9807.png             \b\b\b\b 20%\b\b\b\b\b  OK \n",
            "Extracting  /content/Training/fist/fist_set_02/dr_0_9807.xml             \b\b\b\b 20%\b\b\b\b\b  OK \n",
            "Extracting  /content/Training/fist/fist_set_02/dr_0_9869.png             \b\b\b\b 20%\b\b\b\b\b  OK \n",
            "Extracting  /content/Training/fist/fist_set_02/dr_0_9869.xml             \b\b\b\b 20%\b\b\b\b\b  OK \n",
            "Extracting  /content/Training/fist/fist_set_02/male_fist_unkno.png       \b\b\b\b 21%\b\b\b\b\b  OK \n",
            "Extracting  /content/Training/fist/fist_set_02/male_fist_unkno.xml       \b\b\b\b 21%\b\b\b\b\b  OK \n",
            "Creating    /content/Training/fist/fist_set_03                        OK\n",
            "Extracting  /content/Training/fist/fist_set_03/babu_fist_right.jpeg      \b\b\b\b 21%\b\b\b\b\b  OK \n",
            "Extracting  /content/Training/fist/fist_set_03/babu_fist_right.xml       \b\b\b\b 21%\b\b\b\b\b  OK \n",
            "Extracting  /content/Training/fist/fist_set_03/dr_0_1126.png             \b\b\b\b 21%\b\b\b\b\b  OK \n",
            "Extracting  /content/Training/fist/fist_set_03/dr_0_1126.xml             \b\b\b\b 21%\b\b\b\b\b  OK \n",
            "Extracting  /content/Training/fist/fist_set_03/dr_0_1691.png             \b\b\b\b 21%\b\b\b\b\b  OK \n",
            "Extracting  /content/Training/fist/fist_set_03/dr_0_1691.xml             \b\b\b\b 21%\b\b\b\b\b  OK \n",
            "Extracting  /content/Training/fist/fist_set_03/dr_0_1746.png             \b\b\b\b 21%\b\b\b\b\b  OK \n",
            "Extracting  /content/Training/fist/fist_set_03/dr_0_1746.xml             \b\b\b\b 21%\b\b\b\b\b  OK \n",
            "Extracting  /content/Training/fist/fist_set_03/dr_0_180.png              \b\b\b\b 21%\b\b\b\b\b  OK \n",
            "Extracting  /content/Training/fist/fist_set_03/dr_0_180.xml              \b\b\b\b 21%\b\b\b\b\b  OK \n",
            "Extracting  /content/Training/fist/fist_set_03/dr_0_1864.png             \b\b\b\b 22%\b\b\b\b\b  OK \n",
            "Extracting  /content/Training/fist/fist_set_03/dr_0_1864.xml             \b\b\b\b 22%\b\b\b\b\b  OK \n",
            "Extracting  /content/Training/fist/fist_set_03/dr_0_2097.png             \b\b\b\b 22%\b\b\b\b\b  OK \n",
            "Extracting  /content/Training/fist/fist_set_03/dr_0_2097.xml             \b\b\b\b 22%\b\b\b\b\b  OK \n",
            "Extracting  /content/Training/fist/fist_set_03/dr_0_2265.png             \b\b\b\b 22%\b\b\b\b\b  OK \n",
            "Extracting  /content/Training/fist/fist_set_03/dr_0_2265.xml             \b\b\b\b 22%\b\b\b\b\b  OK \n",
            "Extracting  /content/Training/fist/fist_set_03/dr_0_2266.png             \b\b\b\b 22%\b\b\b\b\b  OK \n",
            "Extracting  /content/Training/fist/fist_set_03/dr_0_2266.xml             \b\b\b\b 22%\b\b\b\b\b  OK \n",
            "Extracting  /content/Training/fist/fist_set_03/dr_0_2546.png             \b\b\b\b 22%\b\b\b\b\b  OK \n",
            "Extracting  /content/Training/fist/fist_set_03/dr_0_2546.xml             \b\b\b\b 22%\b\b\b\b\b  OK \n",
            "Extracting  /content/Training/fist/fist_set_03/dr_0_2567.png             \b\b\b\b 22%\b\b\b\b\b  OK \n",
            "Extracting  /content/Training/fist/fist_set_03/dr_0_2567.xml             \b\b\b\b 22%\b\b\b\b\b  OK \n",
            "Extracting  /content/Training/fist/fist_set_03/dr_0_2657.png             \b\b\b\b 23%\b\b\b\b\b  OK \n",
            "Extracting  /content/Training/fist/fist_set_03/dr_0_2657.xml             \b\b\b\b 23%\b\b\b\b\b  OK \n",
            "Extracting  /content/Training/fist/fist_set_03/dr_0_2749.png             \b\b\b\b 23%\b\b\b\b\b  OK \n",
            "Extracting  /content/Training/fist/fist_set_03/dr_0_2749.xml             \b\b\b\b 23%\b\b\b\b\b  OK \n",
            "Extracting  /content/Training/fist/fist_set_03/dr_0_3025.png             \b\b\b\b 23%\b\b\b\b\b  OK \n",
            "Extracting  /content/Training/fist/fist_set_03/dr_0_3025.xml             \b\b\b\b 23%\b\b\b\b\b  OK \n",
            "Extracting  /content/Training/fist/fist_set_03/dr_0_3123.png             \b\b\b\b 23%\b\b\b\b\b  OK \n",
            "Extracting  /content/Training/fist/fist_set_03/dr_0_3123.xml             \b\b\b\b 23%\b\b\b\b\b  OK \n",
            "Extracting  /content/Training/fist/fist_set_03/dr_0_3132.png             \b\b\b\b 23%\b\b\b\b\b  OK \n",
            "Extracting  /content/Training/fist/fist_set_03/dr_0_3132.xml             \b\b\b\b 23%\b\b\b\b\b  OK \n",
            "Extracting  /content/Training/fist/fist_set_03/dr_0_3857.png             \b\b\b\b 23%\b\b\b\b\b  OK \n",
            "Extracting  /content/Training/fist/fist_set_03/dr_0_3857.xml             \b\b\b\b 23%\b\b\b\b\b  OK \n",
            "Extracting  /content/Training/fist/fist_set_03/dr_0_3985.png             \b\b\b\b 24%\b\b\b\b\b  OK \n",
            "Extracting  /content/Training/fist/fist_set_03/dr_0_3985.xml             \b\b\b\b 24%\b\b\b\b\b  OK \n",
            "Extracting  /content/Training/fist/fist_set_03/dr_0_4059.png             \b\b\b\b 24%\b\b\b\b\b  OK \n",
            "Extracting  /content/Training/fist/fist_set_03/dr_0_4059.xml             \b\b\b\b 24%\b\b\b\b\b  OK \n",
            "Extracting  /content/Training/fist/fist_set_03/dr_0_4201.png             \b\b\b\b 24%\b\b\b\b\b  OK \n",
            "Extracting  /content/Training/fist/fist_set_03/dr_0_4201.xml             \b\b\b\b 24%\b\b\b\b\b  OK \n",
            "Extracting  /content/Training/fist/fist_set_03/dr_0_4542.png             \b\b\b\b 24%\b\b\b\b\b  OK \n",
            "Extracting  /content/Training/fist/fist_set_03/dr_0_4542.xml             \b\b\b\b 24%\b\b\b\b\b  OK \n",
            "Extracting  /content/Training/fist/fist_set_03/dr_0_4740.png             \b\b\b\b 24%\b\b\b\b\b  OK \n",
            "Extracting  /content/Training/fist/fist_set_03/dr_0_4740.xml             \b\b\b\b 24%\b\b\b\b\b  OK \n",
            "Extracting  /content/Training/fist/fist_set_03/dr_0_5110.png             \b\b\b\b 24%\b\b\b\b\b  OK \n",
            "Extracting  /content/Training/fist/fist_set_03/dr_0_5110.xml             \b\b\b\b 24%\b\b\b\b\b  OK \n",
            "Extracting  /content/Training/fist/fist_set_03/dr_0_5305.png             \b\b\b\b 25%\b\b\b\b\b  OK \n",
            "Extracting  /content/Training/fist/fist_set_03/dr_0_5305.xml             \b\b\b\b 25%\b\b\b\b\b  OK \n",
            "Extracting  /content/Training/fist/fist_set_03/dr_0_5332.png             \b\b\b\b 25%\b\b\b\b\b  OK \n",
            "Extracting  /content/Training/fist/fist_set_03/dr_0_5332.xml             \b\b\b\b 25%\b\b\b\b\b  OK \n",
            "Extracting  /content/Training/fist/fist_set_03/dr_0_5394.png             \b\b\b\b 25%\b\b\b\b\b  OK \n",
            "Extracting  /content/Training/fist/fist_set_03/dr_0_5394.xml             \b\b\b\b 25%\b\b\b\b\b  OK \n",
            "Extracting  /content/Training/fist/fist_set_03/dr_0_5460.png             \b\b\b\b 25%\b\b\b\b\b  OK \n",
            "Extracting  /content/Training/fist/fist_set_03/dr_0_5460.xml             \b\b\b\b 25%\b\b\b\b\b  OK \n",
            "Extracting  /content/Training/fist/fist_set_03/dr_0_5498.png             \b\b\b\b 25%\b\b\b\b\b  OK \n",
            "Extracting  /content/Training/fist/fist_set_03/dr_0_5498.xml             \b\b\b\b 25%\b\b\b\b\b  OK \n",
            "Extracting  /content/Training/fist/fist_set_03/dr_0_5574.png             \b\b\b\b 25%\b\b\b\b\b  OK \n",
            "Extracting  /content/Training/fist/fist_set_03/dr_0_5574.xml             \b\b\b\b 25%\b\b\b\b\b  OK \n",
            "Extracting  /content/Training/fist/fist_set_03/dr_0_5897.png             \b\b\b\b 26%\b\b\b\b\b  OK \n",
            "Extracting  /content/Training/fist/fist_set_03/dr_0_5897.xml             \b\b\b\b 26%\b\b\b\b\b  OK \n",
            "Extracting  /content/Training/fist/fist_set_03/dr_0_5955.png             \b\b\b\b 26%\b\b\b\b\b  OK \n",
            "Extracting  /content/Training/fist/fist_set_03/dr_0_5955.xml             \b\b\b\b 26%\b\b\b\b\b  OK \n",
            "Extracting  /content/Training/fist/fist_set_03/dr_0_5959.png             \b\b\b\b 26%\b\b\b\b\b  OK \n",
            "Extracting  /content/Training/fist/fist_set_03/dr_0_5959.xml             \b\b\b\b 26%\b\b\b\b\b  OK \n",
            "Extracting  /content/Training/fist/fist_set_03/dr_0_6225.png             \b\b\b\b 26%\b\b\b\b\b  OK \n",
            "Extracting  /content/Training/fist/fist_set_03/dr_0_6225.xml             \b\b\b\b 26%\b\b\b\b\b  OK \n",
            "Extracting  /content/Training/fist/fist_set_03/dr_0_6891.png             \b\b\b\b 26%\b\b\b\b\b  OK \n",
            "Extracting  /content/Training/fist/fist_set_03/dr_0_6891.xml             \b\b\b\b 26%\b\b\b\b\b  OK \n",
            "Extracting  /content/Training/fist/fist_set_03/dr_0_7018.png             \b\b\b\b 26%\b\b\b\b\b  OK \n",
            "Extracting  /content/Training/fist/fist_set_03/dr_0_7018.xml             \b\b\b\b 26%\b\b\b\b\b  OK \n",
            "Extracting  /content/Training/fist/fist_set_03/dr_0_7286.png             \b\b\b\b 27%\b\b\b\b\b  OK \n",
            "Extracting  /content/Training/fist/fist_set_03/dr_0_7286.xml             \b\b\b\b 27%\b\b\b\b\b  OK \n",
            "Extracting  /content/Training/fist/fist_set_03/dr_0_7560.png             \b\b\b\b 27%\b\b\b\b\b  OK \n",
            "Extracting  /content/Training/fist/fist_set_03/dr_0_7560.xml             \b\b\b\b 27%\b\b\b\b\b  OK \n",
            "Extracting  /content/Training/fist/fist_set_03/dr_0_763.png              \b\b\b\b 27%\b\b\b\b\b  OK \n",
            "Extracting  /content/Training/fist/fist_set_03/dr_0_763.xml              \b\b\b\b 27%\b\b\b\b\b  OK \n",
            "Extracting  /content/Training/fist/fist_set_03/dr_0_8054.png             \b\b\b\b 27%\b\b\b\b\b  OK \n",
            "Extracting  /content/Training/fist/fist_set_03/dr_0_8054.xml             \b\b\b\b 27%\b\b\b\b\b  OK \n",
            "Extracting  /content/Training/fist/fist_set_03/dr_0_8082.png             \b\b\b\b 27%\b\b\b\b\b  OK \n",
            "Extracting  /content/Training/fist/fist_set_03/dr_0_8082.xml             \b\b\b\b 27%\b\b\b\b\b  OK \n",
            "Extracting  /content/Training/fist/fist_set_03/dr_0_8111.png             \b\b\b\b 27%\b\b\b\b\b  OK \n",
            "Extracting  /content/Training/fist/fist_set_03/dr_0_8111.xml             \b\b\b\b 27%\b\b\b\b\b  OK \n",
            "Extracting  /content/Training/fist/fist_set_03/dr_0_834.png              \b\b\b\b 27%\b\b\b\b 28%\b\b\b\b\b  OK \n",
            "Extracting  /content/Training/fist/fist_set_03/dr_0_834.xml              \b\b\b\b 28%\b\b\b\b\b  OK \n",
            "Extracting  /content/Training/fist/fist_set_03/dr_0_8452.png             \b\b\b\b 28%\b\b\b\b\b  OK \n",
            "Extracting  /content/Training/fist/fist_set_03/dr_0_8452.xml             \b\b\b\b 28%\b\b\b\b\b  OK \n",
            "Extracting  /content/Training/fist/fist_set_03/dr_0_8455.png             \b\b\b\b 28%\b\b\b\b\b  OK \n",
            "Extracting  /content/Training/fist/fist_set_03/dr_0_8455.xml             \b\b\b\b 28%\b\b\b\b\b  OK \n",
            "Extracting  /content/Training/fist/fist_set_03/dr_0_8568.png             \b\b\b\b 28%\b\b\b\b\b  OK \n",
            "Extracting  /content/Training/fist/fist_set_03/dr_0_8568.xml             \b\b\b\b 28%\b\b\b\b\b  OK \n",
            "Extracting  /content/Training/fist/fist_set_03/dr_0_8721.png             \b\b\b\b 28%\b\b\b\b\b  OK \n",
            "Extracting  /content/Training/fist/fist_set_03/dr_0_8721.xml             \b\b\b\b 28%\b\b\b\b\b  OK \n",
            "Extracting  /content/Training/fist/fist_set_03/dr_0_8790.png             \b\b\b\b 28%\b\b\b\b\b  OK \n",
            "Extracting  /content/Training/fist/fist_set_03/dr_0_8790.xml             \b\b\b\b 28%\b\b\b\b\b  OK \n",
            "Extracting  /content/Training/fist/fist_set_03/dr_0_9063.png             \b\b\b\b 28%\b\b\b\b 29%\b\b\b\b\b  OK \n",
            "Extracting  /content/Training/fist/fist_set_03/dr_0_9063.xml             \b\b\b\b 29%\b\b\b\b\b  OK \n",
            "Extracting  /content/Training/fist/fist_set_03/dr_0_9442.png             \b\b\b\b 29%\b\b\b\b\b  OK \n",
            "Extracting  /content/Training/fist/fist_set_03/dr_0_9442.xml             \b\b\b\b 29%\b\b\b\b\b  OK \n",
            "Extracting  /content/Training/fist/fist_set_03/dr_0_9452.png             \b\b\b\b 29%\b\b\b\b\b  OK \n",
            "Extracting  /content/Training/fist/fist_set_03/dr_0_9452.xml             \b\b\b\b 29%\b\b\b\b\b  OK \n",
            "Extracting  /content/Training/fist/fist_set_03/dr_0_9886.png             \b\b\b\b 29%\b\b\b\b\b  OK \n",
            "Extracting  /content/Training/fist/fist_set_03/dr_0_9886.xml             \b\b\b\b 29%\b\b\b\b\b  OK \n",
            "Extracting  /content/Training/fist/fist_set_03/dr_0_9966.png             \b\b\b\b 29%\b\b\b\b\b  OK \n",
            "Extracting  /content/Training/fist/fist_set_03/dr_0_9966.xml             \b\b\b\b 29%\b\b\b\b\b  OK \n",
            "Creating    /content/Training/fist/fist_set_04                        OK\n",
            "Extracting  /content/Training/fist/fist_set_04/babu_fist_down.jpeg       \b\b\b\b 29%\b\b\b\b\b  OK \n",
            "Extracting  /content/Training/fist/fist_set_04/babu_fist_down.xml        \b\b\b\b 29%\b\b\b\b\b  OK \n",
            "Extracting  /content/Training/fist/fist_set_04/dr_0_1253.png             \b\b\b\b 29%\b\b\b\b\b  OK \n",
            "Extracting  /content/Training/fist/fist_set_04/dr_0_1253.xml             \b\b\b\b 29%\b\b\b\b\b  OK \n",
            "Extracting  /content/Training/fist/fist_set_04/dr_0_1275.png             \b\b\b\b 29%\b\b\b\b 30%\b\b\b\b\b  OK \n",
            "Extracting  /content/Training/fist/fist_set_04/dr_0_1275.xml             \b\b\b\b 30%\b\b\b\b\b  OK \n",
            "Extracting  /content/Training/fist/fist_set_04/dr_0_1560.png             \b\b\b\b 30%\b\b\b\b\b  OK \n",
            "Extracting  /content/Training/fist/fist_set_04/dr_0_1560.xml             \b\b\b\b 30%\b\b\b\b\b  OK \n",
            "Extracting  /content/Training/fist/fist_set_04/dr_0_1806.png             \b\b\b\b 30%\b\b\b\b\b  OK \n",
            "Extracting  /content/Training/fist/fist_set_04/dr_0_1806.xml             \b\b\b\b 30%\b\b\b\b\b  OK \n",
            "Extracting  /content/Training/fist/fist_set_04/dr_0_2189.png             \b\b\b\b 30%\b\b\b\b\b  OK \n",
            "Extracting  /content/Training/fist/fist_set_04/dr_0_2189.xml             \b\b\b\b 30%\b\b\b\b\b  OK \n",
            "Extracting  /content/Training/fist/fist_set_04/dr_0_2322.png             \b\b\b\b 30%\b\b\b\b\b  OK \n",
            "Extracting  /content/Training/fist/fist_set_04/dr_0_2322.xml             \b\b\b\b 30%\b\b\b\b\b  OK \n",
            "Extracting  /content/Training/fist/fist_set_04/dr_0_2412.png             \b\b\b\b 30%\b\b\b\b\b  OK \n",
            "Extracting  /content/Training/fist/fist_set_04/dr_0_2412.xml             \b\b\b\b 30%\b\b\b\b\b  OK \n",
            "Extracting  /content/Training/fist/fist_set_04/dr_0_250.png              \b\b\b\b 30%\b\b\b\b 31%\b\b\b\b\b  OK \n",
            "Extracting  /content/Training/fist/fist_set_04/dr_0_250.xml              \b\b\b\b 31%\b\b\b\b\b  OK \n",
            "Extracting  /content/Training/fist/fist_set_04/dr_0_2864.png             \b\b\b\b 31%\b\b\b\b\b  OK \n",
            "Extracting  /content/Training/fist/fist_set_04/dr_0_2864.xml             \b\b\b\b 31%\b\b\b\b\b  OK \n",
            "Extracting  /content/Training/fist/fist_set_04/dr_0_3157.png             \b\b\b\b 31%\b\b\b\b\b  OK \n",
            "Extracting  /content/Training/fist/fist_set_04/dr_0_3157.xml             \b\b\b\b 31%\b\b\b\b\b  OK \n",
            "Extracting  /content/Training/fist/fist_set_04/dr_0_3240.png             \b\b\b\b 31%\b\b\b\b\b  OK \n",
            "Extracting  /content/Training/fist/fist_set_04/dr_0_3240.xml             \b\b\b\b 31%\b\b\b\b\b  OK \n",
            "Extracting  /content/Training/fist/fist_set_04/dr_0_333.png              \b\b\b\b 31%\b\b\b\b\b  OK \n",
            "Extracting  /content/Training/fist/fist_set_04/dr_0_333.xml              \b\b\b\b 31%\b\b\b\b\b  OK \n",
            "Extracting  /content/Training/fist/fist_set_04/dr_0_3354.png             \b\b\b\b 31%\b\b\b\b\b  OK \n",
            "Extracting  /content/Training/fist/fist_set_04/dr_0_3354.xml             \b\b\b\b 31%\b\b\b\b\b  OK \n",
            "Extracting  /content/Training/fist/fist_set_04/dr_0_3362.png             \b\b\b\b 31%\b\b\b\b\b  OK \n",
            "Extracting  /content/Training/fist/fist_set_04/dr_0_3362.xml             \b\b\b\b 31%\b\b\b\b\b  OK \n",
            "Extracting  /content/Training/fist/fist_set_04/dr_0_3455.png             \b\b\b\b 32%\b\b\b\b\b  OK \n",
            "Extracting  /content/Training/fist/fist_set_04/dr_0_3455.xml             \b\b\b\b 32%\b\b\b\b\b  OK \n",
            "Extracting  /content/Training/fist/fist_set_04/dr_0_3516.png             \b\b\b\b 32%\b\b\b\b\b  OK \n",
            "Extracting  /content/Training/fist/fist_set_04/dr_0_3516.xml             \b\b\b\b 32%\b\b\b\b\b  OK \n",
            "Extracting  /content/Training/fist/fist_set_04/dr_0_3606.png             \b\b\b\b 32%\b\b\b\b\b  OK \n",
            "Extracting  /content/Training/fist/fist_set_04/dr_0_3606.xml             \b\b\b\b 32%\b\b\b\b\b  OK \n",
            "Extracting  /content/Training/fist/fist_set_04/dr_0_3656.png             \b\b\b\b 32%\b\b\b\b\b  OK \n",
            "Extracting  /content/Training/fist/fist_set_04/dr_0_3656.xml             \b\b\b\b 32%\b\b\b\b\b  OK \n",
            "Extracting  /content/Training/fist/fist_set_04/dr_0_3870.png             \b\b\b\b 32%\b\b\b\b\b  OK \n",
            "Extracting  /content/Training/fist/fist_set_04/dr_0_3870.xml             \b\b\b\b 32%\b\b\b\b\b  OK \n",
            "Extracting  /content/Training/fist/fist_set_04/dr_0_4156.png             \b\b\b\b 32%\b\b\b\b\b  OK \n",
            "Extracting  /content/Training/fist/fist_set_04/dr_0_4156.xml             \b\b\b\b 32%\b\b\b\b\b  OK \n",
            "Extracting  /content/Training/fist/fist_set_04/dr_0_4164.png             \b\b\b\b 33%\b\b\b\b\b  OK \n",
            "Extracting  /content/Training/fist/fist_set_04/dr_0_4164.xml             \b\b\b\b 33%\b\b\b\b\b  OK \n",
            "Extracting  /content/Training/fist/fist_set_04/dr_0_4171.png             \b\b\b\b 33%\b\b\b\b\b  OK \n",
            "Extracting  /content/Training/fist/fist_set_04/dr_0_4171.xml             \b\b\b\b 33%\b\b\b\b\b  OK \n",
            "Extracting  /content/Training/fist/fist_set_04/dr_0_4487.png             \b\b\b\b 33%\b\b\b\b\b  OK \n",
            "Extracting  /content/Training/fist/fist_set_04/dr_0_4487.xml             \b\b\b\b 33%\b\b\b\b\b  OK \n",
            "Extracting  /content/Training/fist/fist_set_04/dr_0_4564.png             \b\b\b\b 33%\b\b\b\b\b  OK \n",
            "Extracting  /content/Training/fist/fist_set_04/dr_0_4564.xml             \b\b\b\b 33%\b\b\b\b\b  OK \n",
            "Extracting  /content/Training/fist/fist_set_04/dr_0_4601.png             \b\b\b\b 33%\b\b\b\b\b  OK \n",
            "Extracting  /content/Training/fist/fist_set_04/dr_0_4601.xml             \b\b\b\b 33%\b\b\b\b\b  OK \n",
            "Extracting  /content/Training/fist/fist_set_04/dr_0_4655.png             \b\b\b\b 33%\b\b\b\b\b  OK \n",
            "Extracting  /content/Training/fist/fist_set_04/dr_0_4655.xml             \b\b\b\b 33%\b\b\b\b\b  OK \n",
            "Extracting  /content/Training/fist/fist_set_04/dr_0_4761.png             \b\b\b\b 34%\b\b\b\b\b  OK \n",
            "Extracting  /content/Training/fist/fist_set_04/dr_0_4761.xml             \b\b\b\b 34%\b\b\b\b\b  OK \n",
            "Extracting  /content/Training/fist/fist_set_04/dr_0_4858.png             \b\b\b\b 34%\b\b\b\b\b  OK \n",
            "Extracting  /content/Training/fist/fist_set_04/dr_0_4858.xml             \b\b\b\b 34%\b\b\b\b\b  OK \n",
            "Extracting  /content/Training/fist/fist_set_04/dr_0_4964.png             \b\b\b\b 34%\b\b\b\b\b  OK \n",
            "Extracting  /content/Training/fist/fist_set_04/dr_0_4964.xml             \b\b\b\b 34%\b\b\b\b\b  OK \n",
            "Extracting  /content/Training/fist/fist_set_04/dr_0_5485.png             \b\b\b\b 34%\b\b\b\b\b  OK \n",
            "Extracting  /content/Training/fist/fist_set_04/dr_0_5485.xml             \b\b\b\b 34%\b\b\b\b\b  OK \n",
            "Extracting  /content/Training/fist/fist_set_04/dr_0_560.png              \b\b\b\b 34%\b\b\b\b\b  OK \n",
            "Extracting  /content/Training/fist/fist_set_04/dr_0_560.xml              \b\b\b\b 34%\b\b\b\b\b  OK \n",
            "Extracting  /content/Training/fist/fist_set_04/dr_0_5805.png             \b\b\b\b 34%\b\b\b\b\b  OK \n",
            "Extracting  /content/Training/fist/fist_set_04/dr_0_5805.xml             \b\b\b\b 34%\b\b\b\b\b  OK \n",
            "Extracting  /content/Training/fist/fist_set_04/dr_0_6131.png             \b\b\b\b 35%\b\b\b\b\b  OK \n",
            "Extracting  /content/Training/fist/fist_set_04/dr_0_6131.xml             \b\b\b\b 35%\b\b\b\b\b  OK \n",
            "Extracting  /content/Training/fist/fist_set_04/dr_0_6300.png             \b\b\b\b 35%\b\b\b\b\b  OK \n",
            "Extracting  /content/Training/fist/fist_set_04/dr_0_6300.xml             \b\b\b\b 35%\b\b\b\b\b  OK \n",
            "Extracting  /content/Training/fist/fist_set_04/dr_0_6712.png             \b\b\b\b 35%\b\b\b\b\b  OK \n",
            "Extracting  /content/Training/fist/fist_set_04/dr_0_6712.xml             \b\b\b\b 35%\b\b\b\b\b  OK \n",
            "Extracting  /content/Training/fist/fist_set_04/dr_0_6741.png             \b\b\b\b 35%\b\b\b\b\b  OK \n",
            "Extracting  /content/Training/fist/fist_set_04/dr_0_6741.xml             \b\b\b\b 35%\b\b\b\b\b  OK \n",
            "Extracting  /content/Training/fist/fist_set_04/dr_0_7216.png             \b\b\b\b 35%\b\b\b\b\b  OK \n",
            "Extracting  /content/Training/fist/fist_set_04/dr_0_7216.xml             \b\b\b\b 35%\b\b\b\b\b  OK \n",
            "Extracting  /content/Training/fist/fist_set_04/dr_0_7224.png             \b\b\b\b 35%\b\b\b\b\b  OK \n",
            "Extracting  /content/Training/fist/fist_set_04/dr_0_7224.xml             \b\b\b\b 35%\b\b\b\b\b  OK \n",
            "Extracting  /content/Training/fist/fist_set_04/dr_0_7580.png             \b\b\b\b 36%\b\b\b\b\b  OK \n",
            "Extracting  /content/Training/fist/fist_set_04/dr_0_7580.xml             \b\b\b\b 36%\b\b\b\b\b  OK \n",
            "Extracting  /content/Training/fist/fist_set_04/dr_0_7592.png             \b\b\b\b 36%\b\b\b\b\b  OK \n",
            "Extracting  /content/Training/fist/fist_set_04/dr_0_7592.xml             \b\b\b\b 36%\b\b\b\b\b  OK \n",
            "Extracting  /content/Training/fist/fist_set_04/dr_0_762.png              \b\b\b\b 36%\b\b\b\b\b  OK \n",
            "Extracting  /content/Training/fist/fist_set_04/dr_0_762.xml              \b\b\b\b 36%\b\b\b\b\b  OK \n",
            "Extracting  /content/Training/fist/fist_set_04/dr_0_8217.png             \b\b\b\b 36%\b\b\b\b\b  OK \n",
            "Extracting  /content/Training/fist/fist_set_04/dr_0_8217.xml             \b\b\b\b 36%\b\b\b\b\b  OK \n",
            "Extracting  /content/Training/fist/fist_set_04/dr_0_8233.png             \b\b\b\b 36%\b\b\b\b\b  OK \n",
            "Extracting  /content/Training/fist/fist_set_04/dr_0_8233.xml             \b\b\b\b 36%\b\b\b\b\b  OK \n",
            "Extracting  /content/Training/fist/fist_set_04/dr_0_8362.png             \b\b\b\b 36%\b\b\b\b\b  OK \n",
            "Extracting  /content/Training/fist/fist_set_04/dr_0_8362.xml             \b\b\b\b 36%\b\b\b\b\b  OK \n",
            "Extracting  /content/Training/fist/fist_set_04/dr_0_8645.png             \b\b\b\b 37%\b\b\b\b\b  OK \n",
            "Extracting  /content/Training/fist/fist_set_04/dr_0_8645.xml             \b\b\b\b 37%\b\b\b\b\b  OK \n",
            "Extracting  /content/Training/fist/fist_set_04/dr_0_873.png              \b\b\b\b 37%\b\b\b\b\b  OK \n",
            "Extracting  /content/Training/fist/fist_set_04/dr_0_873.xml              \b\b\b\b 37%\b\b\b\b\b  OK \n",
            "Extracting  /content/Training/fist/fist_set_04/dr_0_8995.png             \b\b\b\b 37%\b\b\b\b\b  OK \n",
            "Extracting  /content/Training/fist/fist_set_04/dr_0_8995.xml             \b\b\b\b 37%\b\b\b\b\b  OK \n",
            "Extracting  /content/Training/fist/fist_set_04/dr_0_9086.png             \b\b\b\b 37%\b\b\b\b\b  OK \n",
            "Extracting  /content/Training/fist/fist_set_04/dr_0_9086.xml             \b\b\b\b 37%\b\b\b\b\b  OK \n",
            "Extracting  /content/Training/fist/fist_set_04/dr_0_9092.png             \b\b\b\b 37%\b\b\b\b\b  OK \n",
            "Extracting  /content/Training/fist/fist_set_04/dr_0_9092.xml             \b\b\b\b 37%\b\b\b\b\b  OK \n",
            "Extracting  /content/Training/fist/fist_set_04/dr_0_9927.png             \b\b\b\b 37%\b\b\b\b\b  OK \n",
            "Extracting  /content/Training/fist/fist_set_04/dr_0_9927.xml             \b\b\b\b 37%\b\b\b\b\b  OK \n",
            "Extracting  /content/Training/fist/fist_set_04/dr_0_9990.png             \b\b\b\b 37%\b\b\b\b 38%\b\b\b\b\b  OK \n",
            "Extracting  /content/Training/fist/fist_set_04/dr_0_9990.xml             \b\b\b\b 38%\b\b\b\b\b  OK \n",
            "Creating    /content/Training/fist/fist_set_05                        OK\n",
            "Extracting  /content/Training/fist/fist_set_05/dr_0_139.png              \b\b\b\b 38%\b\b\b\b\b  OK \n",
            "Extracting  /content/Training/fist/fist_set_05/dr_0_139.xml              \b\b\b\b 38%\b\b\b\b\b  OK \n",
            "Extracting  /content/Training/fist/fist_set_05/dr_0_15.png               \b\b\b\b 38%\b\b\b\b\b  OK \n",
            "Extracting  /content/Training/fist/fist_set_05/dr_0_15.xml               \b\b\b\b 38%\b\b\b\b\b  OK \n",
            "Extracting  /content/Training/fist/fist_set_05/dr_0_169.png              \b\b\b\b 38%\b\b\b\b\b  OK \n",
            "Extracting  /content/Training/fist/fist_set_05/dr_0_169.xml              \b\b\b\b 38%\b\b\b\b\b  OK \n",
            "Extracting  /content/Training/fist/fist_set_05/dr_0_1700.png             \b\b\b\b 38%\b\b\b\b\b  OK \n",
            "Extracting  /content/Training/fist/fist_set_05/dr_0_1700.xml             \b\b\b\b 38%\b\b\b\b\b  OK \n",
            "Extracting  /content/Training/fist/fist_set_05/dr_0_1747.png             \b\b\b\b 38%\b\b\b\b\b  OK \n",
            "Extracting  /content/Training/fist/fist_set_05/dr_0_1747.xml             \b\b\b\b 38%\b\b\b\b\b  OK \n",
            "Extracting  /content/Training/fist/fist_set_05/dr_0_217.png              \b\b\b\b 38%\b\b\b\b 39%\b\b\b\b\b  OK \n",
            "Extracting  /content/Training/fist/fist_set_05/dr_0_217.xml              \b\b\b\b 39%\b\b\b\b\b  OK \n",
            "Extracting  /content/Training/fist/fist_set_05/dr_0_2433.png             \b\b\b\b 39%\b\b\b\b\b  OK \n",
            "Extracting  /content/Training/fist/fist_set_05/dr_0_2433.xml             \b\b\b\b 39%\b\b\b\b\b  OK \n",
            "Extracting  /content/Training/fist/fist_set_05/dr_0_2500.png             \b\b\b\b 39%\b\b\b\b\b  OK \n",
            "Extracting  /content/Training/fist/fist_set_05/dr_0_2500.xml             \b\b\b\b 39%\b\b\b\b\b  OK \n",
            "Extracting  /content/Training/fist/fist_set_05/dr_0_2739.png             \b\b\b\b 39%\b\b\b\b\b  OK \n",
            "Extracting  /content/Training/fist/fist_set_05/dr_0_2739.xml             \b\b\b\b 39%\b\b\b\b\b  OK \n",
            "Extracting  /content/Training/fist/fist_set_05/dr_0_2807.png             \b\b\b\b 39%\b\b\b\b\b  OK \n",
            "Extracting  /content/Training/fist/fist_set_05/dr_0_2807.xml             \b\b\b\b 39%\b\b\b\b\b  OK \n",
            "Extracting  /content/Training/fist/fist_set_05/dr_0_293.png              \b\b\b\b 39%\b\b\b\b\b  OK \n",
            "Extracting  /content/Training/fist/fist_set_05/dr_0_293.xml              \b\b\b\b 39%\b\b\b\b\b  OK \n",
            "Extracting  /content/Training/fist/fist_set_05/dr_0_2935.png             \b\b\b\b 39%\b\b\b\b 40%\b\b\b\b\b  OK \n",
            "Extracting  /content/Training/fist/fist_set_05/dr_0_2935.xml             \b\b\b\b 40%\b\b\b\b\b  OK \n",
            "Extracting  /content/Training/fist/fist_set_05/dr_0_3091.png             \b\b\b\b 40%\b\b\b\b\b  OK \n",
            "Extracting  /content/Training/fist/fist_set_05/dr_0_3091.xml             \b\b\b\b 40%\b\b\b\b\b  OK \n",
            "Extracting  /content/Training/fist/fist_set_05/dr_0_3103.png             \b\b\b\b 40%\b\b\b\b\b  OK \n",
            "Extracting  /content/Training/fist/fist_set_05/dr_0_3103.xml             \b\b\b\b 40%\b\b\b\b\b  OK \n",
            "Extracting  /content/Training/fist/fist_set_05/dr_0_3115.png             \b\b\b\b 40%\b\b\b\b\b  OK \n",
            "Extracting  /content/Training/fist/fist_set_05/dr_0_3115.xml             \b\b\b\b 40%\b\b\b\b\b  OK \n",
            "Extracting  /content/Training/fist/fist_set_05/dr_0_3286.png             \b\b\b\b 40%\b\b\b\b\b  OK \n",
            "Extracting  /content/Training/fist/fist_set_05/dr_0_3286.xml             \b\b\b\b 40%\b\b\b\b\b  OK \n",
            "Extracting  /content/Training/fist/fist_set_05/dr_0_3354.png             \b\b\b\b 40%\b\b\b\b\b  OK \n",
            "Extracting  /content/Training/fist/fist_set_05/dr_0_3354.xml             \b\b\b\b 40%\b\b\b\b\b  OK \n",
            "Extracting  /content/Training/fist/fist_set_05/dr_0_3515.png             \b\b\b\b 41%\b\b\b\b\b  OK \n",
            "Extracting  /content/Training/fist/fist_set_05/dr_0_3515.xml             \b\b\b\b 41%\b\b\b\b\b  OK \n",
            "Extracting  /content/Training/fist/fist_set_05/dr_0_3692.png             \b\b\b\b 41%\b\b\b\b\b  OK \n",
            "Extracting  /content/Training/fist/fist_set_05/dr_0_3692.xml             \b\b\b\b 41%\b\b\b\b\b  OK \n",
            "Extracting  /content/Training/fist/fist_set_05/dr_0_3805.png             \b\b\b\b 41%\b\b\b\b\b  OK \n",
            "Extracting  /content/Training/fist/fist_set_05/dr_0_3805.xml             \b\b\b\b 41%\b\b\b\b\b  OK \n",
            "Extracting  /content/Training/fist/fist_set_05/dr_0_3931.png             \b\b\b\b 41%\b\b\b\b\b  OK \n",
            "Extracting  /content/Training/fist/fist_set_05/dr_0_3931.xml             \b\b\b\b 41%\b\b\b\b\b  OK \n",
            "Extracting  /content/Training/fist/fist_set_05/dr_0_4197.png             \b\b\b\b 41%\b\b\b\b\b  OK \n",
            "Extracting  /content/Training/fist/fist_set_05/dr_0_4197.xml             \b\b\b\b 41%\b\b\b\b\b  OK \n",
            "Extracting  /content/Training/fist/fist_set_05/dr_0_436.png              \b\b\b\b 41%\b\b\b\b\b  OK \n",
            "Extracting  /content/Training/fist/fist_set_05/dr_0_436.xml              \b\b\b\b 41%\b\b\b\b\b  OK \n",
            "Extracting  /content/Training/fist/fist_set_05/dr_0_4738.png             \b\b\b\b 42%\b\b\b\b\b  OK \n",
            "Extracting  /content/Training/fist/fist_set_05/dr_0_4738.xml             \b\b\b\b 42%\b\b\b\b\b  OK \n",
            "Extracting  /content/Training/fist/fist_set_05/dr_0_4872.png             \b\b\b\b 42%\b\b\b\b\b  OK \n",
            "Extracting  /content/Training/fist/fist_set_05/dr_0_4872.xml             \b\b\b\b 42%\b\b\b\b\b  OK \n",
            "Extracting  /content/Training/fist/fist_set_05/dr_0_4993.png             \b\b\b\b 42%\b\b\b\b\b  OK \n",
            "Extracting  /content/Training/fist/fist_set_05/dr_0_4993.xml             \b\b\b\b 42%\b\b\b\b\b  OK \n",
            "Extracting  /content/Training/fist/fist_set_05/dr_0_5289.png             \b\b\b\b 42%\b\b\b\b\b  OK \n",
            "Extracting  /content/Training/fist/fist_set_05/dr_0_5289.xml             \b\b\b\b 42%\b\b\b\b\b  OK \n",
            "Extracting  /content/Training/fist/fist_set_05/dr_0_529.png              \b\b\b\b 42%\b\b\b\b\b  OK \n",
            "Extracting  /content/Training/fist/fist_set_05/dr_0_529.xml              \b\b\b\b 42%\b\b\b\b\b  OK \n",
            "Extracting  /content/Training/fist/fist_set_05/dr_0_5460.png             \b\b\b\b 42%\b\b\b\b 43%\b\b\b\b\b  OK \n",
            "Extracting  /content/Training/fist/fist_set_05/dr_0_5460.xml             \b\b\b\b 43%\b\b\b\b\b  OK \n",
            "Extracting  /content/Training/fist/fist_set_05/dr_0_590.png              \b\b\b\b 43%\b\b\b\b\b  OK \n",
            "Extracting  /content/Training/fist/fist_set_05/dr_0_590.xml              \b\b\b\b 43%\b\b\b\b\b  OK \n",
            "Extracting  /content/Training/fist/fist_set_05/dr_0_5999.png             \b\b\b\b 43%\b\b\b\b\b  OK \n",
            "Extracting  /content/Training/fist/fist_set_05/dr_0_5999.xml             \b\b\b\b 43%\b\b\b\b\b  OK \n",
            "Extracting  /content/Training/fist/fist_set_05/dr_0_613.png              \b\b\b\b 43%\b\b\b\b\b  OK \n",
            "Extracting  /content/Training/fist/fist_set_05/dr_0_613.xml              \b\b\b\b 43%\b\b\b\b\b  OK \n",
            "Extracting  /content/Training/fist/fist_set_05/dr_0_6300.png             \b\b\b\b 43%\b\b\b\b\b  OK \n",
            "Extracting  /content/Training/fist/fist_set_05/dr_0_6300.xml             \b\b\b\b 43%\b\b\b\b\b  OK \n",
            "Extracting  /content/Training/fist/fist_set_05/dr_0_6459.png             \b\b\b\b 43%\b\b\b\b\b  OK \n",
            "Extracting  /content/Training/fist/fist_set_05/dr_0_6459.xml             \b\b\b\b 43%\b\b\b\b\b  OK \n",
            "Extracting  /content/Training/fist/fist_set_05/dr_0_6503.png             \b\b\b\b 43%\b\b\b\b 44%\b\b\b\b\b  OK \n",
            "Extracting  /content/Training/fist/fist_set_05/dr_0_6503.xml             \b\b\b\b 44%\b\b\b\b\b  OK \n",
            "Extracting  /content/Training/fist/fist_set_05/dr_0_6586.png             \b\b\b\b 44%\b\b\b\b\b  OK \n",
            "Extracting  /content/Training/fist/fist_set_05/dr_0_6586.xml             \b\b\b\b 44%\b\b\b\b\b  OK \n",
            "Extracting  /content/Training/fist/fist_set_05/dr_0_6843.png             \b\b\b\b 44%\b\b\b\b\b  OK \n",
            "Extracting  /content/Training/fist/fist_set_05/dr_0_6843.xml             \b\b\b\b 44%\b\b\b\b\b  OK \n",
            "Extracting  /content/Training/fist/fist_set_05/dr_0_7034.png             \b\b\b\b 44%\b\b\b\b\b  OK \n",
            "Extracting  /content/Training/fist/fist_set_05/dr_0_7034.xml             \b\b\b\b 44%\b\b\b\b\b  OK \n",
            "Extracting  /content/Training/fist/fist_set_05/dr_0_7328.png             \b\b\b\b 44%\b\b\b\b\b  OK \n",
            "Extracting  /content/Training/fist/fist_set_05/dr_0_7328.xml             \b\b\b\b 44%\b\b\b\b\b  OK \n",
            "Extracting  /content/Training/fist/fist_set_05/dr_0_7639.png             \b\b\b\b 44%\b\b\b\b\b  OK \n",
            "Extracting  /content/Training/fist/fist_set_05/dr_0_7639.xml             \b\b\b\b 44%\b\b\b\b\b  OK \n",
            "Extracting  /content/Training/fist/fist_set_05/dr_0_8218.png             \b\b\b\b 45%\b\b\b\b\b  OK \n",
            "Extracting  /content/Training/fist/fist_set_05/dr_0_8218.xml             \b\b\b\b 45%\b\b\b\b\b  OK \n",
            "Extracting  /content/Training/fist/fist_set_05/dr_0_8251.png             \b\b\b\b 45%\b\b\b\b\b  OK \n",
            "Extracting  /content/Training/fist/fist_set_05/dr_0_8251.xml             \b\b\b\b 45%\b\b\b\b\b  OK \n",
            "Extracting  /content/Training/fist/fist_set_05/dr_0_8340.png             \b\b\b\b 45%\b\b\b\b\b  OK \n",
            "Extracting  /content/Training/fist/fist_set_05/dr_0_8340.xml             \b\b\b\b 45%\b\b\b\b\b  OK \n",
            "Extracting  /content/Training/fist/fist_set_05/dr_0_8367.png             \b\b\b\b 45%\b\b\b\b\b  OK \n",
            "Extracting  /content/Training/fist/fist_set_05/dr_0_8367.xml             \b\b\b\b 45%\b\b\b\b\b  OK \n",
            "Extracting  /content/Training/fist/fist_set_05/dr_0_8453.png             \b\b\b\b 45%\b\b\b\b\b  OK \n",
            "Extracting  /content/Training/fist/fist_set_05/dr_0_8453.xml             \b\b\b\b 45%\b\b\b\b\b  OK \n",
            "Extracting  /content/Training/fist/fist_set_05/dr_0_8785.png             \b\b\b\b 45%\b\b\b\b\b  OK \n",
            "Extracting  /content/Training/fist/fist_set_05/dr_0_8785.xml             \b\b\b\b 45%\b\b\b\b\b  OK \n",
            "Extracting  /content/Training/fist/fist_set_05/dr_0_9133.png             \b\b\b\b 46%\b\b\b\b\b  OK \n",
            "Extracting  /content/Training/fist/fist_set_05/dr_0_9133.xml             \b\b\b\b 46%\b\b\b\b\b  OK \n",
            "Extracting  /content/Training/fist/fist_set_05/dr_0_9185.png             \b\b\b\b 46%\b\b\b\b\b  OK \n",
            "Extracting  /content/Training/fist/fist_set_05/dr_0_9185.xml             \b\b\b\b 46%\b\b\b\b\b  OK \n",
            "Extracting  /content/Training/fist/fist_set_05/dr_0_9227.png             \b\b\b\b 46%\b\b\b\b\b  OK \n",
            "Extracting  /content/Training/fist/fist_set_05/dr_0_9227.xml             \b\b\b\b 46%\b\b\b\b\b  OK \n",
            "Extracting  /content/Training/fist/fist_set_05/dr_0_9551.png             \b\b\b\b 46%\b\b\b\b\b  OK \n",
            "Extracting  /content/Training/fist/fist_set_05/dr_0_9551.xml             \b\b\b\b 46%\b\b\b\b\b  OK \n",
            "Extracting  /content/Training/fist/fist_set_05/dr_0_960.png              \b\b\b\b 46%\b\b\b\b\b  OK \n",
            "Extracting  /content/Training/fist/fist_set_05/dr_0_960.xml              \b\b\b\b 46%\b\b\b\b\b  OK \n",
            "Extracting  /content/Training/fist/fist_set_05/nan_left.jpeg             \b\b\b\b 46%\b\b\b\b\b  OK \n",
            "Extracting  /content/Training/fist/fist_set_05/nan_left.xml              \b\b\b\b 46%\b\b\b\b\b  OK \n",
            "Creating    /content/Training/fist/fist_set_06                        OK\n",
            "Extracting  /content/Training/fist/fist_set_06/dr_0_1013.png             \b\b\b\b 46%\b\b\b\b 47%\b\b\b\b\b  OK \n",
            "Extracting  /content/Training/fist/fist_set_06/dr_0_1013.xml             \b\b\b\b 47%\b\b\b\b\b  OK \n",
            "Extracting  /content/Training/fist/fist_set_06/dr_0_1058.png             \b\b\b\b 47%\b\b\b\b\b  OK \n",
            "Extracting  /content/Training/fist/fist_set_06/dr_0_1058.xml             \b\b\b\b 47%\b\b\b\b\b  OK \n",
            "Extracting  /content/Training/fist/fist_set_06/dr_0_121.png              \b\b\b\b 47%\b\b\b\b\b  OK \n",
            "Extracting  /content/Training/fist/fist_set_06/dr_0_121.xml              \b\b\b\b 47%\b\b\b\b\b  OK \n",
            "Extracting  /content/Training/fist/fist_set_06/dr_0_1355.png             \b\b\b\b 47%\b\b\b\b\b  OK \n",
            "Extracting  /content/Training/fist/fist_set_06/dr_0_1355.xml             \b\b\b\b 47%\b\b\b\b\b  OK \n",
            "Extracting  /content/Training/fist/fist_set_06/dr_0_1367.png             \b\b\b\b 47%\b\b\b\b\b  OK \n",
            "Extracting  /content/Training/fist/fist_set_06/dr_0_1367.xml             \b\b\b\b 47%\b\b\b\b\b  OK \n",
            "Extracting  /content/Training/fist/fist_set_06/dr_0_1432.png             \b\b\b\b 47%\b\b\b\b\b  OK \n",
            "Extracting  /content/Training/fist/fist_set_06/dr_0_1432.xml             \b\b\b\b 47%\b\b\b\b\b  OK \n",
            "Extracting  /content/Training/fist/fist_set_06/dr_0_1659.png             \b\b\b\b 48%\b\b\b\b\b  OK \n",
            "Extracting  /content/Training/fist/fist_set_06/dr_0_1659.xml             \b\b\b\b 48%\b\b\b\b\b  OK \n",
            "Extracting  /content/Training/fist/fist_set_06/dr_0_1670.png             \b\b\b\b 48%\b\b\b\b\b  OK \n",
            "Extracting  /content/Training/fist/fist_set_06/dr_0_1670.xml             \b\b\b\b 48%\b\b\b\b\b  OK \n",
            "Extracting  /content/Training/fist/fist_set_06/dr_0_2306.png             \b\b\b\b 48%\b\b\b\b\b  OK \n",
            "Extracting  /content/Training/fist/fist_set_06/dr_0_2306.xml             \b\b\b\b 48%\b\b\b\b\b  OK \n",
            "Extracting  /content/Training/fist/fist_set_06/dr_0_2534.png             \b\b\b\b 48%\b\b\b\b\b  OK \n",
            "Extracting  /content/Training/fist/fist_set_06/dr_0_2534.xml             \b\b\b\b 48%\b\b\b\b\b  OK \n",
            "Extracting  /content/Training/fist/fist_set_06/dr_0_262.png              \b\b\b\b 48%\b\b\b\b\b  OK \n",
            "Extracting  /content/Training/fist/fist_set_06/dr_0_262.xml              \b\b\b\b 48%\b\b\b\b\b  OK \n",
            "Extracting  /content/Training/fist/fist_set_06/dr_0_2771.png             \b\b\b\b 48%\b\b\b\b 49%\b\b\b\b\b  OK \n",
            "Extracting  /content/Training/fist/fist_set_06/dr_0_2771.xml             \b\b\b\b 49%\b\b\b\b\b  OK \n",
            "Extracting  /content/Training/fist/fist_set_06/dr_0_2800.png             \b\b\b\b 49%\b\b\b\b\b  OK \n",
            "Extracting  /content/Training/fist/fist_set_06/dr_0_2800.xml             \b\b\b\b 49%\b\b\b\b\b  OK \n",
            "Extracting  /content/Training/fist/fist_set_06/dr_0_2925.png             \b\b\b\b 49%\b\b\b\b\b  OK \n",
            "Extracting  /content/Training/fist/fist_set_06/dr_0_2925.xml             \b\b\b\b 49%\b\b\b\b\b  OK \n",
            "Extracting  /content/Training/fist/fist_set_06/dr_0_299.png              \b\b\b\b 49%\b\b\b\b\b  OK \n",
            "Extracting  /content/Training/fist/fist_set_06/dr_0_299.xml              \b\b\b\b 49%\b\b\b\b\b  OK \n",
            "Extracting  /content/Training/fist/fist_set_06/dr_0_3222.png             \b\b\b\b 49%\b\b\b\b\b  OK \n",
            "Extracting  /content/Training/fist/fist_set_06/dr_0_3222.xml             \b\b\b\b 49%\b\b\b\b\b  OK \n",
            "Extracting  /content/Training/fist/fist_set_06/dr_0_3851.png             \b\b\b\b 49%\b\b\b\b\b  OK \n",
            "Extracting  /content/Training/fist/fist_set_06/dr_0_3851.xml             \b\b\b\b 49%\b\b\b\b\b  OK \n",
            "Extracting  /content/Training/fist/fist_set_06/dr_0_392.png              \b\b\b\b 50%\b\b\b\b\b  OK \n",
            "Extracting  /content/Training/fist/fist_set_06/dr_0_392.xml              \b\b\b\b 50%\b\b\b\b\b  OK \n",
            "Extracting  /content/Training/fist/fist_set_06/dr_0_3939.png             \b\b\b\b 50%\b\b\b\b\b  OK \n",
            "Extracting  /content/Training/fist/fist_set_06/dr_0_3939.xml             \b\b\b\b 50%\b\b\b\b\b  OK \n",
            "Extracting  /content/Training/fist/fist_set_06/dr_0_4046.png             \b\b\b\b 50%\b\b\b\b\b  OK \n",
            "Extracting  /content/Training/fist/fist_set_06/dr_0_4046.xml             \b\b\b\b 50%\b\b\b\b\b  OK \n",
            "Extracting  /content/Training/fist/fist_set_06/dr_0_4063.png             \b\b\b\b 50%\b\b\b\b\b  OK \n",
            "Extracting  /content/Training/fist/fist_set_06/dr_0_4063.xml             \b\b\b\b 50%\b\b\b\b\b  OK \n",
            "Extracting  /content/Training/fist/fist_set_06/dr_0_4285.png             \b\b\b\b 50%\b\b\b\b\b  OK \n",
            "Extracting  /content/Training/fist/fist_set_06/dr_0_4285.xml             \b\b\b\b 50%\b\b\b\b\b  OK \n",
            "Extracting  /content/Training/fist/fist_set_06/dr_0_4328.png             \b\b\b\b 50%\b\b\b\b 51%\b\b\b\b\b  OK \n",
            "Extracting  /content/Training/fist/fist_set_06/dr_0_4328.xml             \b\b\b\b 51%\b\b\b\b\b  OK \n",
            "Extracting  /content/Training/fist/fist_set_06/dr_0_4398.png             \b\b\b\b 51%\b\b\b\b\b  OK \n",
            "Extracting  /content/Training/fist/fist_set_06/dr_0_4398.xml             \b\b\b\b 51%\b\b\b\b\b  OK \n",
            "Extracting  /content/Training/fist/fist_set_06/dr_0_4522.png             \b\b\b\b 51%\b\b\b\b\b  OK \n",
            "Extracting  /content/Training/fist/fist_set_06/dr_0_4522.xml             \b\b\b\b 51%\b\b\b\b\b  OK \n",
            "Extracting  /content/Training/fist/fist_set_06/dr_0_5066.png             \b\b\b\b 51%\b\b\b\b\b  OK \n",
            "Extracting  /content/Training/fist/fist_set_06/dr_0_5066.xml             \b\b\b\b 51%\b\b\b\b\b  OK \n",
            "Extracting  /content/Training/fist/fist_set_06/dr_0_5471.png             \b\b\b\b 51%\b\b\b\b\b  OK \n",
            "Extracting  /content/Training/fist/fist_set_06/dr_0_5471.xml             \b\b\b\b 51%\b\b\b\b\b  OK \n",
            "Extracting  /content/Training/fist/fist_set_06/dr_0_5655.png             \b\b\b\b 51%\b\b\b\b\b  OK \n",
            "Extracting  /content/Training/fist/fist_set_06/dr_0_5655.xml             \b\b\b\b 51%\b\b\b\b\b  OK \n",
            "Extracting  /content/Training/fist/fist_set_06/dr_0_567.png              \b\b\b\b 52%\b\b\b\b\b  OK \n",
            "Extracting  /content/Training/fist/fist_set_06/dr_0_567.xml              \b\b\b\b 52%\b\b\b\b\b  OK \n",
            "Extracting  /content/Training/fist/fist_set_06/dr_0_5824.png             \b\b\b\b 52%\b\b\b\b\b  OK \n",
            "Extracting  /content/Training/fist/fist_set_06/dr_0_5824.xml             \b\b\b\b 52%\b\b\b\b\b  OK \n",
            "Extracting  /content/Training/fist/fist_set_06/dr_0_5917.png             \b\b\b\b 52%\b\b\b\b\b  OK \n",
            "Extracting  /content/Training/fist/fist_set_06/dr_0_5917.xml             \b\b\b\b 52%\b\b\b\b\b  OK \n",
            "Extracting  /content/Training/fist/fist_set_06/dr_0_6047.png             \b\b\b\b 52%\b\b\b\b\b  OK \n",
            "Extracting  /content/Training/fist/fist_set_06/dr_0_6047.xml             \b\b\b\b 52%\b\b\b\b\b  OK \n",
            "Extracting  /content/Training/fist/fist_set_06/dr_0_6094.png             \b\b\b\b 52%\b\b\b\b\b  OK \n",
            "Extracting  /content/Training/fist/fist_set_06/dr_0_6094.xml             \b\b\b\b 52%\b\b\b\b\b  OK \n",
            "Extracting  /content/Training/fist/fist_set_06/dr_0_6626.png             \b\b\b\b 53%\b\b\b\b\b  OK \n",
            "Extracting  /content/Training/fist/fist_set_06/dr_0_6626.xml             \b\b\b\b 53%\b\b\b\b\b  OK \n",
            "Extracting  /content/Training/fist/fist_set_06/dr_0_6722.png             \b\b\b\b 53%\b\b\b\b\b  OK \n",
            "Extracting  /content/Training/fist/fist_set_06/dr_0_6722.xml             \b\b\b\b 53%\b\b\b\b\b  OK \n",
            "Extracting  /content/Training/fist/fist_set_06/dr_0_7004.png             \b\b\b\b 53%\b\b\b\b\b  OK \n",
            "Extracting  /content/Training/fist/fist_set_06/dr_0_7004.xml             \b\b\b\b 53%\b\b\b\b\b  OK \n",
            "Extracting  /content/Training/fist/fist_set_06/dr_0_7027.png             \b\b\b\b 53%\b\b\b\b\b  OK \n",
            "Extracting  /content/Training/fist/fist_set_06/dr_0_7027.xml             \b\b\b\b 53%\b\b\b\b\b  OK \n",
            "Extracting  /content/Training/fist/fist_set_06/dr_0_7033.png             \b\b\b\b 53%\b\b\b\b\b  OK \n",
            "Extracting  /content/Training/fist/fist_set_06/dr_0_7033.xml             \b\b\b\b 53%\b\b\b\b\b  OK \n",
            "Extracting  /content/Training/fist/fist_set_06/dr_0_7305.png             \b\b\b\b 53%\b\b\b\b\b  OK \n",
            "Extracting  /content/Training/fist/fist_set_06/dr_0_7305.xml             \b\b\b\b 53%\b\b\b\b\b  OK \n",
            "Extracting  /content/Training/fist/fist_set_06/dr_0_7344.png             \b\b\b\b 54%\b\b\b\b\b  OK \n",
            "Extracting  /content/Training/fist/fist_set_06/dr_0_7344.xml             \b\b\b\b 54%\b\b\b\b\b  OK \n",
            "Extracting  /content/Training/fist/fist_set_06/dr_0_7485.png             \b\b\b\b 54%\b\b\b\b\b  OK \n",
            "Extracting  /content/Training/fist/fist_set_06/dr_0_7485.xml             \b\b\b\b 54%\b\b\b\b\b  OK \n",
            "Extracting  /content/Training/fist/fist_set_06/dr_0_760.png              \b\b\b\b 54%\b\b\b\b\b  OK \n",
            "Extracting  /content/Training/fist/fist_set_06/dr_0_760.xml              \b\b\b\b 54%\b\b\b\b\b  OK \n",
            "Extracting  /content/Training/fist/fist_set_06/dr_0_8167.png             \b\b\b\b 54%\b\b\b\b\b  OK \n",
            "Extracting  /content/Training/fist/fist_set_06/dr_0_8167.xml             \b\b\b\b 54%\b\b\b\b\b  OK \n",
            "Extracting  /content/Training/fist/fist_set_06/dr_0_8379.png             \b\b\b\b 54%\b\b\b\b\b  OK \n",
            "Extracting  /content/Training/fist/fist_set_06/dr_0_8379.xml             \b\b\b\b 54%\b\b\b\b\b  OK \n",
            "Extracting  /content/Training/fist/fist_set_06/dr_0_8380.png             \b\b\b\b 55%\b\b\b\b\b  OK \n",
            "Extracting  /content/Training/fist/fist_set_06/dr_0_8380.xml             \b\b\b\b 55%\b\b\b\b\b  OK \n",
            "Extracting  /content/Training/fist/fist_set_06/dr_0_8588.png             \b\b\b\b 55%\b\b\b\b\b  OK \n",
            "Extracting  /content/Training/fist/fist_set_06/dr_0_8588.xml             \b\b\b\b 55%\b\b\b\b\b  OK \n",
            "Extracting  /content/Training/fist/fist_set_06/dr_0_8987.png             \b\b\b\b 55%\b\b\b\b\b  OK \n",
            "Extracting  /content/Training/fist/fist_set_06/dr_0_8987.xml             \b\b\b\b 55%\b\b\b\b\b  OK \n",
            "Extracting  /content/Training/fist/fist_set_06/dr_0_9325.png             \b\b\b\b 55%\b\b\b\b\b  OK \n",
            "Extracting  /content/Training/fist/fist_set_06/dr_0_9325.xml             \b\b\b\b 55%\b\b\b\b\b  OK \n",
            "Extracting  /content/Training/fist/fist_set_06/dr_0_9366.png             \b\b\b\b 55%\b\b\b\b\b  OK \n",
            "Extracting  /content/Training/fist/fist_set_06/dr_0_9366.xml             \b\b\b\b 55%\b\b\b\b\b  OK \n",
            "Extracting  /content/Training/fist/fist_set_06/dr_0_9491.png             \b\b\b\b 55%\b\b\b\b\b  OK \n",
            "Extracting  /content/Training/fist/fist_set_06/dr_0_9491.xml             \b\b\b\b 55%\b\b\b\b\b  OK \n",
            "Extracting  /content/Training/fist/fist_set_06/dr_0_9995.png             \b\b\b\b 56%\b\b\b\b\b  OK \n",
            "Extracting  /content/Training/fist/fist_set_06/dr_0_9995.xml             \b\b\b\b 56%\b\b\b\b\b  OK \n",
            "Extracting  /content/Training/fist/fist_set_06/nan_left_e.jpeg           \b\b\b\b 56%\b\b\b\b\b  OK \n",
            "Extracting  /content/Training/fist/fist_set_06/nan_left_e.xml            \b\b\b\b 56%\b\b\b\b\b  OK \n",
            "Creating    /content/Training/palm                                    OK\n",
            "Creating    /content/Training/palm/palm_set_01                        OK\n",
            "Extracting  /content/Training/palm/palm_set_01/babu_left_top.jpeg        \b\b\b\b 56%\b\b\b\b\b  OK \n",
            "Extracting  /content/Training/palm/palm_set_01/babu_left_top.xml         \b\b\b\b 56%\b\b\b\b\b  OK \n",
            "Extracting  /content/Training/palm/palm_set_01/dr_0_1102.png             \b\b\b\b 56%\b\b\b\b\b  OK \n",
            "Extracting  /content/Training/palm/palm_set_01/dr_0_1102.xml             \b\b\b\b 56%\b\b\b\b\b  OK \n",
            "Extracting  /content/Training/palm/palm_set_01/dr_0_1151.png             \b\b\b\b 56%\b\b\b\b\b  OK \n",
            "Extracting  /content/Training/palm/palm_set_01/dr_0_1151.xml             \b\b\b\b 56%\b\b\b\b\b  OK \n",
            "Extracting  /content/Training/palm/palm_set_01/dr_0_1208.png             \b\b\b\b 56%\b\b\b\b\b  OK \n",
            "Extracting  /content/Training/palm/palm_set_01/dr_0_1208.xml             \b\b\b\b 56%\b\b\b\b\b  OK \n",
            "Extracting  /content/Training/palm/palm_set_01/dr_0_1306.png             \b\b\b\b 56%\b\b\b\b\b  OK \n",
            "Extracting  /content/Training/palm/palm_set_01/dr_0_1306.xml             \b\b\b\b 56%\b\b\b\b\b  OK \n",
            "Extracting  /content/Training/palm/palm_set_01/dr_0_1514.png             \b\b\b\b 56%\b\b\b\b\b  OK \n",
            "Extracting  /content/Training/palm/palm_set_01/dr_0_1514.xml             \b\b\b\b 56%\b\b\b\b\b  OK \n",
            "Extracting  /content/Training/palm/palm_set_01/dr_0_1723.png             \b\b\b\b 57%\b\b\b\b\b  OK \n",
            "Extracting  /content/Training/palm/palm_set_01/dr_0_1723.xml             \b\b\b\b 57%\b\b\b\b\b  OK \n",
            "Extracting  /content/Training/palm/palm_set_01/dr_0_2041.png             \b\b\b\b 57%\b\b\b\b\b  OK \n",
            "Extracting  /content/Training/palm/palm_set_01/dr_0_2041.xml             \b\b\b\b 57%\b\b\b\b\b  OK \n",
            "Extracting  /content/Training/palm/palm_set_01/dr_0_2095.png             \b\b\b\b 57%\b\b\b\b\b  OK \n",
            "Extracting  /content/Training/palm/palm_set_01/dr_0_2095.xml             \b\b\b\b 57%\b\b\b\b\b  OK \n",
            "Extracting  /content/Training/palm/palm_set_01/dr_0_2099.png             \b\b\b\b 57%\b\b\b\b\b  OK \n",
            "Extracting  /content/Training/palm/palm_set_01/dr_0_2099.xml             \b\b\b\b 57%\b\b\b\b\b  OK \n",
            "Extracting  /content/Training/palm/palm_set_01/dr_0_2498.png             \b\b\b\b 57%\b\b\b\b\b  OK \n",
            "Extracting  /content/Training/palm/palm_set_01/dr_0_2498.xml             \b\b\b\b 57%\b\b\b\b\b  OK \n",
            "Extracting  /content/Training/palm/palm_set_01/dr_0_2697.png             \b\b\b\b 57%\b\b\b\b\b  OK \n",
            "Extracting  /content/Training/palm/palm_set_01/dr_0_2697.xml             \b\b\b\b 57%\b\b\b\b\b  OK \n",
            "Extracting  /content/Training/palm/palm_set_01/dr_0_2730.png             \b\b\b\b 57%\b\b\b\b 58%\b\b\b\b\b  OK \n",
            "Extracting  /content/Training/palm/palm_set_01/dr_0_2730.xml             \b\b\b\b 58%\b\b\b\b\b  OK \n",
            "Extracting  /content/Training/palm/palm_set_01/dr_0_2930.png             \b\b\b\b 58%\b\b\b\b\b  OK \n",
            "Extracting  /content/Training/palm/palm_set_01/dr_0_2930.xml             \b\b\b\b 58%\b\b\b\b\b  OK \n",
            "Extracting  /content/Training/palm/palm_set_01/dr_0_3025.png             \b\b\b\b 58%\b\b\b\b\b  OK \n",
            "Extracting  /content/Training/palm/palm_set_01/dr_0_3025.xml             \b\b\b\b 58%\b\b\b\b\b  OK \n",
            "Extracting  /content/Training/palm/palm_set_01/dr_0_3099.png             \b\b\b\b 58%\b\b\b\b\b  OK \n",
            "Extracting  /content/Training/palm/palm_set_01/dr_0_3099.xml             \b\b\b\b 58%\b\b\b\b\b  OK \n",
            "Extracting  /content/Training/palm/palm_set_01/dr_0_3404.png             \b\b\b\b 58%\b\b\b\b\b  OK \n",
            "Extracting  /content/Training/palm/palm_set_01/dr_0_3404.xml             \b\b\b\b 58%\b\b\b\b\b  OK \n",
            "Extracting  /content/Training/palm/palm_set_01/dr_0_3712.png             \b\b\b\b 58%\b\b\b\b\b  OK \n",
            "Extracting  /content/Training/palm/palm_set_01/dr_0_3712.xml             \b\b\b\b 58%\b\b\b\b\b  OK \n",
            "Extracting  /content/Training/palm/palm_set_01/dr_0_3760.png             \b\b\b\b 58%\b\b\b\b\b  OK \n",
            "Extracting  /content/Training/palm/palm_set_01/dr_0_3760.xml             \b\b\b\b 58%\b\b\b\b\b  OK \n",
            "Extracting  /content/Training/palm/palm_set_01/dr_0_3779.png             \b\b\b\b 59%\b\b\b\b\b  OK \n",
            "Extracting  /content/Training/palm/palm_set_01/dr_0_3779.xml             \b\b\b\b 59%\b\b\b\b\b  OK \n",
            "Extracting  /content/Training/palm/palm_set_01/dr_0_3969.png             \b\b\b\b 59%\b\b\b\b\b  OK \n",
            "Extracting  /content/Training/palm/palm_set_01/dr_0_3969.xml             \b\b\b\b 59%\b\b\b\b\b  OK \n",
            "Extracting  /content/Training/palm/palm_set_01/dr_0_3989.png             \b\b\b\b 59%\b\b\b\b\b  OK \n",
            "Extracting  /content/Training/palm/palm_set_01/dr_0_3989.xml             \b\b\b\b 59%\b\b\b\b\b  OK \n",
            "Extracting  /content/Training/palm/palm_set_01/dr_0_4115.png             \b\b\b\b 59%\b\b\b\b\b  OK \n",
            "Extracting  /content/Training/palm/palm_set_01/dr_0_4115.xml             \b\b\b\b 59%\b\b\b\b\b  OK \n",
            "Extracting  /content/Training/palm/palm_set_01/dr_0_4151.png             \b\b\b\b 59%\b\b\b\b\b  OK \n",
            "Extracting  /content/Training/palm/palm_set_01/dr_0_4151.xml             \b\b\b\b 59%\b\b\b\b\b  OK \n",
            "Extracting  /content/Training/palm/palm_set_01/dr_0_419.png              \b\b\b\b 59%\b\b\b\b\b  OK \n",
            "Extracting  /content/Training/palm/palm_set_01/dr_0_419.xml              \b\b\b\b 59%\b\b\b\b\b  OK \n",
            "Extracting  /content/Training/palm/palm_set_01/dr_0_4387.png             \b\b\b\b 59%\b\b\b\b 60%\b\b\b\b\b  OK \n",
            "Extracting  /content/Training/palm/palm_set_01/dr_0_4387.xml             \b\b\b\b 60%\b\b\b\b\b  OK \n",
            "Extracting  /content/Training/palm/palm_set_01/dr_0_4447.png             \b\b\b\b 60%\b\b\b\b\b  OK \n",
            "Extracting  /content/Training/palm/palm_set_01/dr_0_4447.xml             \b\b\b\b 60%\b\b\b\b\b  OK \n",
            "Extracting  /content/Training/palm/palm_set_01/dr_0_4859.png             \b\b\b\b 60%\b\b\b\b\b  OK \n",
            "Extracting  /content/Training/palm/palm_set_01/dr_0_4859.xml             \b\b\b\b 60%\b\b\b\b\b  OK \n",
            "Extracting  /content/Training/palm/palm_set_01/dr_0_5422.png             \b\b\b\b 60%\b\b\b\b\b  OK \n",
            "Extracting  /content/Training/palm/palm_set_01/dr_0_5422.xml             \b\b\b\b 60%\b\b\b\b\b  OK \n",
            "Extracting  /content/Training/palm/palm_set_01/dr_0_5723.png             \b\b\b\b 60%\b\b\b\b\b  OK \n",
            "Extracting  /content/Training/palm/palm_set_01/dr_0_5723.xml             \b\b\b\b 60%\b\b\b\b\b  OK \n",
            "Extracting  /content/Training/palm/palm_set_01/dr_0_5846.png             \b\b\b\b 60%\b\b\b\b\b  OK \n",
            "Extracting  /content/Training/palm/palm_set_01/dr_0_5846.xml             \b\b\b\b 60%\b\b\b\b\b  OK \n",
            "Extracting  /content/Training/palm/palm_set_01/dr_0_5860.png             \b\b\b\b 60%\b\b\b\b\b  OK \n",
            "Extracting  /content/Training/palm/palm_set_01/dr_0_5860.xml             \b\b\b\b 60%\b\b\b\b\b  OK \n",
            "Extracting  /content/Training/palm/palm_set_01/dr_0_6242.png             \b\b\b\b 61%\b\b\b\b\b  OK \n",
            "Extracting  /content/Training/palm/palm_set_01/dr_0_6242.xml             \b\b\b\b 61%\b\b\b\b\b  OK \n",
            "Extracting  /content/Training/palm/palm_set_01/dr_0_6428.png             \b\b\b\b 61%\b\b\b\b\b  OK \n",
            "Extracting  /content/Training/palm/palm_set_01/dr_0_6428.xml             \b\b\b\b 61%\b\b\b\b\b  OK \n",
            "Extracting  /content/Training/palm/palm_set_01/dr_0_6502.png             \b\b\b\b 61%\b\b\b\b\b  OK \n",
            "Extracting  /content/Training/palm/palm_set_01/dr_0_6502.xml             \b\b\b\b 61%\b\b\b\b\b  OK \n",
            "Extracting  /content/Training/palm/palm_set_01/dr_0_6830.png             \b\b\b\b 61%\b\b\b\b\b  OK \n",
            "Extracting  /content/Training/palm/palm_set_01/dr_0_6830.xml             \b\b\b\b 61%\b\b\b\b\b  OK \n",
            "Extracting  /content/Training/palm/palm_set_01/dr_0_6943.png             \b\b\b\b 61%\b\b\b\b\b  OK \n",
            "Extracting  /content/Training/palm/palm_set_01/dr_0_6943.xml             \b\b\b\b 61%\b\b\b\b\b  OK \n",
            "Extracting  /content/Training/palm/palm_set_01/dr_0_7745.png             \b\b\b\b 61%\b\b\b\b\b  OK \n",
            "Extracting  /content/Training/palm/palm_set_01/dr_0_7745.xml             \b\b\b\b 61%\b\b\b\b\b  OK \n",
            "Extracting  /content/Training/palm/palm_set_01/dr_0_7987.png             \b\b\b\b 61%\b\b\b\b\b  OK \n",
            "Extracting  /content/Training/palm/palm_set_01/dr_0_7987.xml             \b\b\b\b 61%\b\b\b\b\b  OK \n",
            "Extracting  /content/Training/palm/palm_set_01/dr_0_8096.png             \b\b\b\b 62%\b\b\b\b\b  OK \n",
            "Extracting  /content/Training/palm/palm_set_01/dr_0_8096.xml             \b\b\b\b 62%\b\b\b\b\b  OK \n",
            "Extracting  /content/Training/palm/palm_set_01/dr_0_8212.png             \b\b\b\b 62%\b\b\b\b\b  OK \n",
            "Extracting  /content/Training/palm/palm_set_01/dr_0_8212.xml             \b\b\b\b 62%\b\b\b\b\b  OK \n",
            "Extracting  /content/Training/palm/palm_set_01/dr_0_8321.png             \b\b\b\b 62%\b\b\b\b\b  OK \n",
            "Extracting  /content/Training/palm/palm_set_01/dr_0_8321.xml             \b\b\b\b 62%\b\b\b\b\b  OK \n",
            "Extracting  /content/Training/palm/palm_set_01/dr_0_8491.png             \b\b\b\b 62%\b\b\b\b\b  OK \n",
            "Extracting  /content/Training/palm/palm_set_01/dr_0_8491.xml             \b\b\b\b 62%\b\b\b\b\b  OK \n",
            "Extracting  /content/Training/palm/palm_set_01/dr_0_8664.png             \b\b\b\b 62%\b\b\b\b\b  OK \n",
            "Extracting  /content/Training/palm/palm_set_01/dr_0_8664.xml             \b\b\b\b 62%\b\b\b\b\b  OK \n",
            "Extracting  /content/Training/palm/palm_set_01/dr_0_9143.png             \b\b\b\b 62%\b\b\b\b\b  OK \n",
            "Extracting  /content/Training/palm/palm_set_01/dr_0_9143.xml             \b\b\b\b 62%\b\b\b\b\b  OK \n",
            "Extracting  /content/Training/palm/palm_set_01/dr_0_9371.png             \b\b\b\b 63%\b\b\b\b\b  OK \n",
            "Extracting  /content/Training/palm/palm_set_01/dr_0_9371.xml             \b\b\b\b 63%\b\b\b\b\b  OK \n",
            "Extracting  /content/Training/palm/palm_set_01/dr_0_9648.png             \b\b\b\b 63%\b\b\b\b\b  OK \n",
            "Extracting  /content/Training/palm/palm_set_01/dr_0_9648.xml             \b\b\b\b 63%\b\b\b\b\b  OK \n",
            "Extracting  /content/Training/palm/palm_set_01/dr_0_9688.png             \b\b\b\b 63%\b\b\b\b\b  OK \n",
            "Extracting  /content/Training/palm/palm_set_01/dr_0_9688.xml             \b\b\b\b 63%\b\b\b\b\b  OK \n",
            "Extracting  /content/Training/palm/palm_set_01/dr_0_979.png              \b\b\b\b 63%\b\b\b\b\b  OK \n",
            "Extracting  /content/Training/palm/palm_set_01/dr_0_979.xml              \b\b\b\b 63%\b\b\b\b\b  OK \n",
            "Extracting  /content/Training/palm/palm_set_01/dr_0_984.png              \b\b\b\b 63%\b\b\b\b\b  OK \n",
            "Extracting  /content/Training/palm/palm_set_01/dr_0_984.xml              \b\b\b\b 63%\b\b\b\b\b  OK \n",
            "Extracting  /content/Training/palm/palm_set_01/dr_0_9917.png             \b\b\b\b 63%\b\b\b\b\b  OK \n",
            "Extracting  /content/Training/palm/palm_set_01/dr_0_9917.xml             \b\b\b\b 63%\b\b\b\b\b  OK \n",
            "Extracting  /content/Training/palm/palm_set_01/dr_0_9956.png             \b\b\b\b 63%\b\b\b\b\b  OK \n",
            "Extracting  /content/Training/palm/palm_set_01/dr_0_9956.xml             \b\b\b\b 63%\b\b\b\b\b  OK \n",
            "Creating    /content/Training/palm/palm_set_02                        OK\n",
            "Extracting  /content/Training/palm/palm_set_02/babu_right_top.jpeg       \b\b\b\b 63%\b\b\b\b\b  OK \n",
            "Extracting  /content/Training/palm/palm_set_02/babu_right_top.xml        \b\b\b\b 63%\b\b\b\b\b  OK \n",
            "Extracting  /content/Training/palm/palm_set_02/dr_0_1178.png             \b\b\b\b 64%\b\b\b\b\b  OK \n",
            "Extracting  /content/Training/palm/palm_set_02/dr_0_1178.xml             \b\b\b\b 64%\b\b\b\b\b  OK \n",
            "Extracting  /content/Training/palm/palm_set_02/dr_0_129.png              \b\b\b\b 64%\b\b\b\b\b  OK \n",
            "Extracting  /content/Training/palm/palm_set_02/dr_0_129.xml              \b\b\b\b 64%\b\b\b\b\b  OK \n",
            "Extracting  /content/Training/palm/palm_set_02/dr_0_1444.png             \b\b\b\b 64%\b\b\b\b\b  OK \n",
            "Extracting  /content/Training/palm/palm_set_02/dr_0_1444.xml             \b\b\b\b 64%\b\b\b\b\b  OK \n",
            "Extracting  /content/Training/palm/palm_set_02/dr_0_1840.png             \b\b\b\b 64%\b\b\b\b\b  OK \n",
            "Extracting  /content/Training/palm/palm_set_02/dr_0_1840.xml             \b\b\b\b 64%\b\b\b\b\b  OK \n",
            "Extracting  /content/Training/palm/palm_set_02/dr_0_2067.png             \b\b\b\b 64%\b\b\b\b\b  OK \n",
            "Extracting  /content/Training/palm/palm_set_02/dr_0_2067.xml             \b\b\b\b 64%\b\b\b\b\b  OK \n",
            "Extracting  /content/Training/palm/palm_set_02/dr_0_2167.png             \b\b\b\b 64%\b\b\b\b\b  OK \n",
            "Extracting  /content/Training/palm/palm_set_02/dr_0_2167.xml             \b\b\b\b 64%\b\b\b\b\b  OK \n",
            "Extracting  /content/Training/palm/palm_set_02/dr_0_2327.png             \b\b\b\b 65%\b\b\b\b\b  OK \n",
            "Extracting  /content/Training/palm/palm_set_02/dr_0_2327.xml             \b\b\b\b 65%\b\b\b\b\b  OK \n",
            "Extracting  /content/Training/palm/palm_set_02/dr_0_2400.png             \b\b\b\b 65%\b\b\b\b\b  OK \n",
            "Extracting  /content/Training/palm/palm_set_02/dr_0_2400.xml             \b\b\b\b 65%\b\b\b\b\b  OK \n",
            "Extracting  /content/Training/palm/palm_set_02/dr_0_2422.png             \b\b\b\b 65%\b\b\b\b\b  OK \n",
            "Extracting  /content/Training/palm/palm_set_02/dr_0_2422.xml             \b\b\b\b 65%\b\b\b\b\b  OK \n",
            "Extracting  /content/Training/palm/palm_set_02/dr_0_267.png              \b\b\b\b 65%\b\b\b\b\b  OK \n",
            "Extracting  /content/Training/palm/palm_set_02/dr_0_267.xml              \b\b\b\b 65%\b\b\b\b\b  OK \n",
            "Extracting  /content/Training/palm/palm_set_02/dr_0_2688.png             \b\b\b\b 65%\b\b\b\b\b  OK \n",
            "Extracting  /content/Training/palm/palm_set_02/dr_0_2688.xml             \b\b\b\b 65%\b\b\b\b\b  OK \n",
            "Extracting  /content/Training/palm/palm_set_02/dr_0_2732.png             \b\b\b\b 65%\b\b\b\b\b  OK \n",
            "Extracting  /content/Training/palm/palm_set_02/dr_0_2732.xml             \b\b\b\b 65%\b\b\b\b\b  OK \n",
            "Extracting  /content/Training/palm/palm_set_02/dr_0_3029.png             \b\b\b\b 66%\b\b\b\b\b  OK \n",
            "Extracting  /content/Training/palm/palm_set_02/dr_0_3124.png             \b\b\b\b 66%\b\b\b\b\b  OK \n",
            "Extracting  /content/Training/palm/palm_set_02/dr_0_3124.xml             \b\b\b\b 66%\b\b\b\b\b  OK \n",
            "Extracting  /content/Training/palm/palm_set_02/dr_0_4223.png             \b\b\b\b 66%\b\b\b\b\b  OK \n",
            "Extracting  /content/Training/palm/palm_set_02/dr_0_4223.xml             \b\b\b\b 66%\b\b\b\b\b  OK \n",
            "Extracting  /content/Training/palm/palm_set_02/dr_0_4519.png             \b\b\b\b 66%\b\b\b\b\b  OK \n",
            "Extracting  /content/Training/palm/palm_set_02/dr_0_4519.xml             \b\b\b\b 66%\b\b\b\b\b  OK \n",
            "Extracting  /content/Training/palm/palm_set_02/dr_0_4547.png             \b\b\b\b 66%\b\b\b\b\b  OK \n",
            "Extracting  /content/Training/palm/palm_set_02/dr_0_4547.xml             \b\b\b\b 66%\b\b\b\b\b  OK \n",
            "Extracting  /content/Training/palm/palm_set_02/dr_0_5189.png             \b\b\b\b 66%\b\b\b\b\b  OK \n",
            "Extracting  /content/Training/palm/palm_set_02/dr_0_5189.xml             \b\b\b\b 66%\b\b\b\b\b  OK \n",
            "Extracting  /content/Training/palm/palm_set_02/dr_0_5229.png             \b\b\b\b 66%\b\b\b\b\b  OK \n",
            "Extracting  /content/Training/palm/palm_set_02/dr_0_5229.xml             \b\b\b\b 66%\b\b\b\b\b  OK \n",
            "Extracting  /content/Training/palm/palm_set_02/dr_0_5387.png             \b\b\b\b 67%\b\b\b\b\b  OK \n",
            "Extracting  /content/Training/palm/palm_set_02/dr_0_5387.xml             \b\b\b\b 67%\b\b\b\b\b  OK \n",
            "Extracting  /content/Training/palm/palm_set_02/dr_0_5865.png             \b\b\b\b 67%\b\b\b\b\b  OK \n",
            "Extracting  /content/Training/palm/palm_set_02/dr_0_5865.xml             \b\b\b\b 67%\b\b\b\b\b  OK \n",
            "Extracting  /content/Training/palm/palm_set_02/dr_0_5930.png             \b\b\b\b 67%\b\b\b\b\b  OK \n",
            "Extracting  /content/Training/palm/palm_set_02/dr_0_5930.xml             \b\b\b\b 67%\b\b\b\b\b  OK \n",
            "Extracting  /content/Training/palm/palm_set_02/dr_0_6106.png             \b\b\b\b 67%\b\b\b\b\b  OK \n",
            "Extracting  /content/Training/palm/palm_set_02/dr_0_6106.xml             \b\b\b\b 67%\b\b\b\b\b  OK \n",
            "Extracting  /content/Training/palm/palm_set_02/dr_0_617.png              \b\b\b\b 67%\b\b\b\b\b  OK \n",
            "Extracting  /content/Training/palm/palm_set_02/dr_0_617.xml              \b\b\b\b 67%\b\b\b\b\b  OK \n",
            "Extracting  /content/Training/palm/palm_set_02/dr_0_6278.png             \b\b\b\b 67%\b\b\b\b\b  OK \n",
            "Extracting  /content/Training/palm/palm_set_02/dr_0_6278.xml             \b\b\b\b 67%\b\b\b\b\b  OK \n",
            "Extracting  /content/Training/palm/palm_set_02/dr_0_6327.png             \b\b\b\b 68%\b\b\b\b\b  OK \n",
            "Extracting  /content/Training/palm/palm_set_02/dr_0_6327.xml             \b\b\b\b 68%\b\b\b\b\b  OK \n",
            "Extracting  /content/Training/palm/palm_set_02/dr_0_6373.png             \b\b\b\b 68%\b\b\b\b\b  OK \n",
            "Extracting  /content/Training/palm/palm_set_02/dr_0_6373.xml             \b\b\b\b 68%\b\b\b\b\b  OK \n",
            "Extracting  /content/Training/palm/palm_set_02/dr_0_658.png              \b\b\b\b 68%\b\b\b\b\b  OK \n",
            "Extracting  /content/Training/palm/palm_set_02/dr_0_658.xml              \b\b\b\b 68%\b\b\b\b\b  OK \n",
            "Extracting  /content/Training/palm/palm_set_02/dr_0_6830.png             \b\b\b\b 68%\b\b\b\b\b  OK \n",
            "Extracting  /content/Training/palm/palm_set_02/dr_0_6830.xml             \b\b\b\b 68%\b\b\b\b\b  OK \n",
            "Extracting  /content/Training/palm/palm_set_02/dr_0_7030.png             \b\b\b\b 68%\b\b\b\b\b  OK \n",
            "Extracting  /content/Training/palm/palm_set_02/dr_0_7030.xml             \b\b\b\b 68%\b\b\b\b\b  OK \n",
            "Extracting  /content/Training/palm/palm_set_02/dr_0_7177.png             \b\b\b\b 68%\b\b\b\b\b  OK \n",
            "Extracting  /content/Training/palm/palm_set_02/dr_0_7177.xml             \b\b\b\b 68%\b\b\b\b\b  OK \n",
            "Extracting  /content/Training/palm/palm_set_02/dr_0_7185.png             \b\b\b\b 69%\b\b\b\b\b  OK \n",
            "Extracting  /content/Training/palm/palm_set_02/dr_0_7185.xml             \b\b\b\b 69%\b\b\b\b\b  OK \n",
            "Extracting  /content/Training/palm/palm_set_02/dr_0_7583.png             \b\b\b\b 69%\b\b\b\b\b  OK \n",
            "Extracting  /content/Training/palm/palm_set_02/dr_0_7583.xml             \b\b\b\b 69%\b\b\b\b\b  OK \n",
            "Extracting  /content/Training/palm/palm_set_02/dr_0_7797.png             \b\b\b\b 69%\b\b\b\b\b  OK \n",
            "Extracting  /content/Training/palm/palm_set_02/dr_0_7797.xml             \b\b\b\b 69%\b\b\b\b\b  OK \n",
            "Extracting  /content/Training/palm/palm_set_02/dr_0_7867.png             \b\b\b\b 69%\b\b\b\b\b  OK \n",
            "Extracting  /content/Training/palm/palm_set_02/dr_0_7867.xml             \b\b\b\b 69%\b\b\b\b\b  OK \n",
            "Extracting  /content/Training/palm/palm_set_02/dr_0_7876.png             \b\b\b\b 69%\b\b\b\b\b  OK \n",
            "Extracting  /content/Training/palm/palm_set_02/dr_0_7876.xml             \b\b\b\b 69%\b\b\b\b\b  OK \n",
            "Extracting  /content/Training/palm/palm_set_02/dr_0_7967.png             \b\b\b\b 69%\b\b\b\b\b  OK \n",
            "Extracting  /content/Training/palm/palm_set_02/dr_0_7967.xml             \b\b\b\b 69%\b\b\b\b\b  OK \n",
            "Extracting  /content/Training/palm/palm_set_02/dr_0_8008.png             \b\b\b\b 69%\b\b\b\b 70%\b\b\b\b\b  OK \n",
            "Extracting  /content/Training/palm/palm_set_02/dr_0_8008.xml             \b\b\b\b 70%\b\b\b\b\b  OK \n",
            "Extracting  /content/Training/palm/palm_set_02/dr_0_8080.png             \b\b\b\b 70%\b\b\b\b\b  OK \n",
            "Extracting  /content/Training/palm/palm_set_02/dr_0_8080.xml             \b\b\b\b 70%\b\b\b\b\b  OK \n",
            "Extracting  /content/Training/palm/palm_set_02/dr_0_8187.png             \b\b\b\b 70%\b\b\b\b\b  OK \n",
            "Extracting  /content/Training/palm/palm_set_02/dr_0_8187.xml             \b\b\b\b 70%\b\b\b\b\b  OK \n",
            "Extracting  /content/Training/palm/palm_set_02/dr_0_8250.png             \b\b\b\b 70%\b\b\b\b\b  OK \n",
            "Extracting  /content/Training/palm/palm_set_02/dr_0_8250.xml             \b\b\b\b 70%\b\b\b\b\b  OK \n",
            "Extracting  /content/Training/palm/palm_set_02/dr_0_826.png              \b\b\b\b 70%\b\b\b\b\b  OK \n",
            "Extracting  /content/Training/palm/palm_set_02/dr_0_826.xml              \b\b\b\b 70%\b\b\b\b\b  OK \n",
            "Extracting  /content/Training/palm/palm_set_02/dr_0_8346.png             \b\b\b\b 70%\b\b\b\b\b  OK \n",
            "Extracting  /content/Training/palm/palm_set_02/dr_0_8346.xml             \b\b\b\b 70%\b\b\b\b\b  OK \n",
            "Extracting  /content/Training/palm/palm_set_02/dr_0_8515.png             \b\b\b\b 70%\b\b\b\b\b  OK \n",
            "Extracting  /content/Training/palm/palm_set_02/dr_0_8515.xml             \b\b\b\b 70%\b\b\b\b\b  OK \n",
            "Extracting  /content/Training/palm/palm_set_02/dr_0_8536.png             \b\b\b\b 71%\b\b\b\b\b  OK \n",
            "Extracting  /content/Training/palm/palm_set_02/dr_0_8536.xml             \b\b\b\b 71%\b\b\b\b\b  OK \n",
            "Extracting  /content/Training/palm/palm_set_02/dr_0_8705.png             \b\b\b\b 71%\b\b\b\b\b  OK \n",
            "Extracting  /content/Training/palm/palm_set_02/dr_0_8705.xml             \b\b\b\b 71%\b\b\b\b\b  OK \n",
            "Extracting  /content/Training/palm/palm_set_02/dr_0_8822.png             \b\b\b\b 71%\b\b\b\b\b  OK \n",
            "Extracting  /content/Training/palm/palm_set_02/dr_0_8822.xml             \b\b\b\b 71%\b\b\b\b\b  OK \n",
            "Extracting  /content/Training/palm/palm_set_02/dr_0_8873.png             \b\b\b\b 71%\b\b\b\b\b  OK \n",
            "Extracting  /content/Training/palm/palm_set_02/dr_0_8873.xml             \b\b\b\b 71%\b\b\b\b\b  OK \n",
            "Extracting  /content/Training/palm/palm_set_02/dr_0_9592.png             \b\b\b\b 71%\b\b\b\b\b  OK \n",
            "Extracting  /content/Training/palm/palm_set_02/dr_0_9592.xml             \b\b\b\b 71%\b\b\b\b\b  OK \n",
            "Extracting  /content/Training/palm/palm_set_02/dr_0_9719.png             \b\b\b\b 71%\b\b\b\b\b  OK \n",
            "Extracting  /content/Training/palm/palm_set_02/dr_0_9719.xml             \b\b\b\b 71%\b\b\b\b\b  OK \n",
            "Extracting  /content/Training/palm/palm_set_02/dr_0_9854.png             \b\b\b\b 71%\b\b\b\b\b  OK \n",
            "Extracting  /content/Training/palm/palm_set_02/dr_0_9854.xml             \b\b\b\b 71%\b\b\b\b\b  OK \n",
            "Creating    /content/Training/palm/palm_set_03                        OK\n",
            "Extracting  /content/Training/palm/palm_set_03/babu_right.jpeg           \b\b\b\b 72%\b\b\b\b\b  OK \n",
            "Extracting  /content/Training/palm/palm_set_03/babu_right.xml            \b\b\b\b 72%\b\b\b\b\b  OK \n",
            "Extracting  /content/Training/palm/palm_set_03/dr_0_1073.png             \b\b\b\b 72%\b\b\b\b\b  OK \n",
            "Extracting  /content/Training/palm/palm_set_03/dr_0_1073.xml             \b\b\b\b 72%\b\b\b\b\b  OK \n",
            "Extracting  /content/Training/palm/palm_set_03/dr_0_108.png              \b\b\b\b 72%\b\b\b\b\b  OK \n",
            "Extracting  /content/Training/palm/palm_set_03/dr_0_108.xml              \b\b\b\b 72%\b\b\b\b\b  OK \n",
            "Extracting  /content/Training/palm/palm_set_03/dr_0_1763.png             \b\b\b\b 72%\b\b\b\b\b  OK \n",
            "Extracting  /content/Training/palm/palm_set_03/dr_0_1763.xml             \b\b\b\b 72%\b\b\b\b\b  OK \n",
            "Extracting  /content/Training/palm/palm_set_03/dr_0_2165.png             \b\b\b\b 72%\b\b\b\b\b  OK \n",
            "Extracting  /content/Training/palm/palm_set_03/dr_0_2165.xml             \b\b\b\b 72%\b\b\b\b\b  OK \n",
            "Extracting  /content/Training/palm/palm_set_03/dr_0_2211.png             \b\b\b\b 72%\b\b\b\b\b  OK \n",
            "Extracting  /content/Training/palm/palm_set_03/dr_0_2211.xml             \b\b\b\b 72%\b\b\b\b\b  OK \n",
            "Extracting  /content/Training/palm/palm_set_03/dr_0_2244.png             \b\b\b\b 72%\b\b\b\b\b  OK \n",
            "Extracting  /content/Training/palm/palm_set_03/dr_0_2244.xml             \b\b\b\b 72%\b\b\b\b\b  OK \n",
            "Extracting  /content/Training/palm/palm_set_03/dr_0_2375.png             \b\b\b\b 73%\b\b\b\b\b  OK \n",
            "Extracting  /content/Training/palm/palm_set_03/dr_0_2375.xml             \b\b\b\b 73%\b\b\b\b\b  OK \n",
            "Extracting  /content/Training/palm/palm_set_03/dr_0_2527.png             \b\b\b\b 73%\b\b\b\b\b  OK \n",
            "Extracting  /content/Training/palm/palm_set_03/dr_0_2527.xml             \b\b\b\b 73%\b\b\b\b\b  OK \n",
            "Extracting  /content/Training/palm/palm_set_03/dr_0_3149.png             \b\b\b\b 73%\b\b\b\b\b  OK \n",
            "Extracting  /content/Training/palm/palm_set_03/dr_0_3149.xml             \b\b\b\b 73%\b\b\b\b\b  OK \n",
            "Extracting  /content/Training/palm/palm_set_03/dr_0_3241.png             \b\b\b\b 73%\b\b\b\b\b  OK \n",
            "Extracting  /content/Training/palm/palm_set_03/dr_0_3241.xml             \b\b\b\b 73%\b\b\b\b\b  OK \n",
            "Extracting  /content/Training/palm/palm_set_03/dr_0_3377.png             \b\b\b\b 73%\b\b\b\b\b  OK \n",
            "Extracting  /content/Training/palm/palm_set_03/dr_0_3377.xml             \b\b\b\b 73%\b\b\b\b\b  OK \n",
            "Extracting  /content/Training/palm/palm_set_03/dr_0_3457.png             \b\b\b\b 73%\b\b\b\b\b  OK \n",
            "Extracting  /content/Training/palm/palm_set_03/dr_0_3457.xml             \b\b\b\b 73%\b\b\b\b\b  OK \n",
            "Extracting  /content/Training/palm/palm_set_03/dr_0_406.png              \b\b\b\b 73%\b\b\b\b 74%\b\b\b\b\b  OK \n",
            "Extracting  /content/Training/palm/palm_set_03/dr_0_406.xml              \b\b\b\b 74%\b\b\b\b\b  OK \n",
            "Extracting  /content/Training/palm/palm_set_03/dr_0_4126.png             \b\b\b\b 74%\b\b\b\b\b  OK \n",
            "Extracting  /content/Training/palm/palm_set_03/dr_0_4126.xml             \b\b\b\b 74%\b\b\b\b\b  OK \n",
            "Extracting  /content/Training/palm/palm_set_03/dr_0_421.png              \b\b\b\b 74%\b\b\b\b\b  OK \n",
            "Extracting  /content/Training/palm/palm_set_03/dr_0_421.xml              \b\b\b\b 74%\b\b\b\b\b  OK \n",
            "Extracting  /content/Training/palm/palm_set_03/dr_0_4274.png             \b\b\b\b 74%\b\b\b\b\b  OK \n",
            "Extracting  /content/Training/palm/palm_set_03/dr_0_4274.xml             \b\b\b\b 74%\b\b\b\b\b  OK \n",
            "Extracting  /content/Training/palm/palm_set_03/dr_0_4328.png             \b\b\b\b 74%\b\b\b\b\b  OK \n",
            "Extracting  /content/Training/palm/palm_set_03/dr_0_4328.xml             \b\b\b\b 74%\b\b\b\b\b  OK \n",
            "Extracting  /content/Training/palm/palm_set_03/dr_0_4359.png             \b\b\b\b 74%\b\b\b\b\b  OK \n",
            "Extracting  /content/Training/palm/palm_set_03/dr_0_4359.xml             \b\b\b\b 74%\b\b\b\b\b  OK \n",
            "Extracting  /content/Training/palm/palm_set_03/dr_0_4804.png             \b\b\b\b 74%\b\b\b\b\b  OK \n",
            "Extracting  /content/Training/palm/palm_set_03/dr_0_4804.xml             \b\b\b\b 74%\b\b\b\b\b  OK \n",
            "Extracting  /content/Training/palm/palm_set_03/dr_0_4864.png             \b\b\b\b 75%\b\b\b\b\b  OK \n",
            "Extracting  /content/Training/palm/palm_set_03/dr_0_4864.xml             \b\b\b\b 75%\b\b\b\b\b  OK \n",
            "Extracting  /content/Training/palm/palm_set_03/dr_0_4991.png             \b\b\b\b 75%\b\b\b\b\b  OK \n",
            "Extracting  /content/Training/palm/palm_set_03/dr_0_4991.xml             \b\b\b\b 75%\b\b\b\b\b  OK \n",
            "Extracting  /content/Training/palm/palm_set_03/dr_0_5005.png             \b\b\b\b 75%\b\b\b\b\b  OK \n",
            "Extracting  /content/Training/palm/palm_set_03/dr_0_5005.xml             \b\b\b\b 75%\b\b\b\b\b  OK \n",
            "Extracting  /content/Training/palm/palm_set_03/dr_0_5116.png             \b\b\b\b 75%\b\b\b\b\b  OK \n",
            "Extracting  /content/Training/palm/palm_set_03/dr_0_5116.xml             \b\b\b\b 75%\b\b\b\b\b  OK \n",
            "Extracting  /content/Training/palm/palm_set_03/dr_0_5293.png             \b\b\b\b 75%\b\b\b\b\b  OK \n",
            "Extracting  /content/Training/palm/palm_set_03/dr_0_5293.xml             \b\b\b\b 75%\b\b\b\b\b  OK \n",
            "Extracting  /content/Training/palm/palm_set_03/dr_0_5558.png             \b\b\b\b 75%\b\b\b\b\b  OK \n",
            "Extracting  /content/Training/palm/palm_set_03/dr_0_5558.xml             \b\b\b\b 75%\b\b\b\b\b  OK \n",
            "Extracting  /content/Training/palm/palm_set_03/dr_0_6000.png             \b\b\b\b 75%\b\b\b\b\b  OK \n",
            "Extracting  /content/Training/palm/palm_set_03/dr_0_6000.xml             \b\b\b\b 75%\b\b\b\b\b  OK \n",
            "Extracting  /content/Training/palm/palm_set_03/dr_0_6236.png             \b\b\b\b 76%\b\b\b\b\b  OK \n",
            "Extracting  /content/Training/palm/palm_set_03/dr_0_6236.xml             \b\b\b\b 76%\b\b\b\b\b  OK \n",
            "Extracting  /content/Training/palm/palm_set_03/dr_0_6566.png             \b\b\b\b 76%\b\b\b\b\b  OK \n",
            "Extracting  /content/Training/palm/palm_set_03/dr_0_6566.xml             \b\b\b\b 76%\b\b\b\b\b  OK \n",
            "Extracting  /content/Training/palm/palm_set_03/dr_0_6774.png             \b\b\b\b 76%\b\b\b\b\b  OK \n",
            "Extracting  /content/Training/palm/palm_set_03/dr_0_6774.xml             \b\b\b\b 76%\b\b\b\b\b  OK \n",
            "Extracting  /content/Training/palm/palm_set_03/dr_0_6879.png             \b\b\b\b 76%\b\b\b\b\b  OK \n",
            "Extracting  /content/Training/palm/palm_set_03/dr_0_6879.xml             \b\b\b\b 76%\b\b\b\b\b  OK \n",
            "Extracting  /content/Training/palm/palm_set_03/dr_0_6934.png             \b\b\b\b 76%\b\b\b\b\b  OK \n",
            "Extracting  /content/Training/palm/palm_set_03/dr_0_6934.xml             \b\b\b\b 76%\b\b\b\b\b  OK \n",
            "Extracting  /content/Training/palm/palm_set_03/dr_0_6954.png             \b\b\b\b 76%\b\b\b\b\b  OK \n",
            "Extracting  /content/Training/palm/palm_set_03/dr_0_6954.xml             \b\b\b\b 76%\b\b\b\b\b  OK \n",
            "Extracting  /content/Training/palm/palm_set_03/dr_0_6986.png             \b\b\b\b 76%\b\b\b\b\b  OK \n",
            "Extracting  /content/Training/palm/palm_set_03/dr_0_6986.xml             \b\b\b\b 76%\b\b\b\b\b  OK \n",
            "Extracting  /content/Training/palm/palm_set_03/dr_0_7201.png             \b\b\b\b 77%\b\b\b\b\b  OK \n",
            "Extracting  /content/Training/palm/palm_set_03/dr_0_7201.xml             \b\b\b\b 77%\b\b\b\b\b  OK \n",
            "Extracting  /content/Training/palm/palm_set_03/dr_0_7442.png             \b\b\b\b 77%\b\b\b\b\b  OK \n",
            "Extracting  /content/Training/palm/palm_set_03/dr_0_7442.xml             \b\b\b\b 77%\b\b\b\b\b  OK \n",
            "Extracting  /content/Training/palm/palm_set_03/dr_0_7585.png             \b\b\b\b 77%\b\b\b\b\b  OK \n",
            "Extracting  /content/Training/palm/palm_set_03/dr_0_7585.xml             \b\b\b\b 77%\b\b\b\b\b  OK \n",
            "Extracting  /content/Training/palm/palm_set_03/dr_0_7734.png             \b\b\b\b 77%\b\b\b\b\b  OK \n",
            "Extracting  /content/Training/palm/palm_set_03/dr_0_7734.xml             \b\b\b\b 77%\b\b\b\b\b  OK \n",
            "Extracting  /content/Training/palm/palm_set_03/dr_0_7810.png             \b\b\b\b 77%\b\b\b\b\b  OK \n",
            "Extracting  /content/Training/palm/palm_set_03/dr_0_7810.xml             \b\b\b\b 77%\b\b\b\b\b  OK \n",
            "Extracting  /content/Training/palm/palm_set_03/dr_0_8164.png             \b\b\b\b 77%\b\b\b\b\b  OK \n",
            "Extracting  /content/Training/palm/palm_set_03/dr_0_8164.xml             \b\b\b\b 77%\b\b\b\b\b  OK \n",
            "Extracting  /content/Training/palm/palm_set_03/dr_0_8184.png             \b\b\b\b 78%\b\b\b\b\b  OK \n",
            "Extracting  /content/Training/palm/palm_set_03/dr_0_8184.xml             \b\b\b\b 78%\b\b\b\b\b  OK \n",
            "Extracting  /content/Training/palm/palm_set_03/dr_0_8200.png             \b\b\b\b 78%\b\b\b\b\b  OK \n",
            "Extracting  /content/Training/palm/palm_set_03/dr_0_8200.xml             \b\b\b\b 78%\b\b\b\b\b  OK \n",
            "Extracting  /content/Training/palm/palm_set_03/dr_0_8235.png             \b\b\b\b 78%\b\b\b\b\b  OK \n",
            "Extracting  /content/Training/palm/palm_set_03/dr_0_8235.xml             \b\b\b\b 78%\b\b\b\b\b  OK \n",
            "Extracting  /content/Training/palm/palm_set_03/dr_0_8253.png             \b\b\b\b 78%\b\b\b\b\b  OK \n",
            "Extracting  /content/Training/palm/palm_set_03/dr_0_8253.xml             \b\b\b\b 78%\b\b\b\b\b  OK \n",
            "Extracting  /content/Training/palm/palm_set_03/dr_0_8276.png             \b\b\b\b 78%\b\b\b\b\b  OK \n",
            "Extracting  /content/Training/palm/palm_set_03/dr_0_8276.xml             \b\b\b\b 78%\b\b\b\b\b  OK \n",
            "Extracting  /content/Training/palm/palm_set_03/dr_0_832.png              \b\b\b\b 78%\b\b\b\b\b  OK \n",
            "Extracting  /content/Training/palm/palm_set_03/dr_0_832.xml              \b\b\b\b 78%\b\b\b\b\b  OK \n",
            "Extracting  /content/Training/palm/palm_set_03/dr_0_8818.png             \b\b\b\b 78%\b\b\b\b 79%\b\b\b\b\b  OK \n",
            "Extracting  /content/Training/palm/palm_set_03/dr_0_8818.xml             \b\b\b\b 79%\b\b\b\b\b  OK \n",
            "Extracting  /content/Training/palm/palm_set_03/dr_0_8833.png             \b\b\b\b 79%\b\b\b\b\b  OK \n",
            "Extracting  /content/Training/palm/palm_set_03/dr_0_8833.xml             \b\b\b\b 79%\b\b\b\b\b  OK \n",
            "Extracting  /content/Training/palm/palm_set_03/dr_0_9121.png             \b\b\b\b 79%\b\b\b\b\b  OK \n",
            "Extracting  /content/Training/palm/palm_set_03/dr_0_9121.xml             \b\b\b\b 79%\b\b\b\b\b  OK \n",
            "Extracting  /content/Training/palm/palm_set_03/dr_0_9645.png             \b\b\b\b 79%\b\b\b\b\b  OK \n",
            "Extracting  /content/Training/palm/palm_set_03/dr_0_9645.xml             \b\b\b\b 79%\b\b\b\b\b  OK \n",
            "Extracting  /content/Training/palm/palm_set_03/dr_0_9904.png             \b\b\b\b 79%\b\b\b\b\b  OK \n",
            "Extracting  /content/Training/palm/palm_set_03/dr_0_9904.xml             \b\b\b\b 79%\b\b\b\b\b  OK \n",
            "Extracting  /content/Training/palm/palm_set_03/dr_0_9985.png             \b\b\b\b 79%\b\b\b\b\b  OK \n",
            "Extracting  /content/Training/palm/palm_set_03/dr_0_9985.xml             \b\b\b\b 79%\b\b\b\b\b  OK \n",
            "Creating    /content/Training/palm/palm_set_04                        OK\n",
            "Extracting  /content/Training/palm/palm_set_04/dr_0_1204.png             \b\b\b\b 79%\b\b\b\b\b  OK \n",
            "Extracting  /content/Training/palm/palm_set_04/dr_0_1204.xml             \b\b\b\b 79%\b\b\b\b\b  OK \n",
            "Extracting  /content/Training/palm/palm_set_04/dr_0_128.png              \b\b\b\b 79%\b\b\b\b\b  OK \n",
            "Extracting  /content/Training/palm/palm_set_04/dr_0_128.xml              \b\b\b\b 79%\b\b\b\b\b  OK \n",
            "Extracting  /content/Training/palm/palm_set_04/dr_0_1572.png             \b\b\b\b 80%\b\b\b\b\b  OK \n",
            "Extracting  /content/Training/palm/palm_set_04/dr_0_1572.xml             \b\b\b\b 80%\b\b\b\b\b  OK \n",
            "Extracting  /content/Training/palm/palm_set_04/dr_0_1589.png             \b\b\b\b 80%\b\b\b\b\b  OK \n",
            "Extracting  /content/Training/palm/palm_set_04/dr_0_1589.xml             \b\b\b\b 80%\b\b\b\b\b  OK \n",
            "Extracting  /content/Training/palm/palm_set_04/dr_0_1671.png             \b\b\b\b 80%\b\b\b\b\b  OK \n",
            "Extracting  /content/Training/palm/palm_set_04/dr_0_1671.xml             \b\b\b\b 80%\b\b\b\b\b  OK \n",
            "Extracting  /content/Training/palm/palm_set_04/dr_0_1704.png             \b\b\b\b 80%\b\b\b\b\b  OK \n",
            "Extracting  /content/Training/palm/palm_set_04/dr_0_1704.xml             \b\b\b\b 80%\b\b\b\b\b  OK \n",
            "Extracting  /content/Training/palm/palm_set_04/dr_0_1827.png             \b\b\b\b 80%\b\b\b\b\b  OK \n",
            "Extracting  /content/Training/palm/palm_set_04/dr_0_1827.xml             \b\b\b\b 80%\b\b\b\b\b  OK \n",
            "Extracting  /content/Training/palm/palm_set_04/dr_0_1866.png             \b\b\b\b 80%\b\b\b\b\b  OK \n",
            "Extracting  /content/Training/palm/palm_set_04/dr_0_1866.xml             \b\b\b\b 80%\b\b\b\b\b  OK \n",
            "Extracting  /content/Training/palm/palm_set_04/dr_0_1901.png             \b\b\b\b 80%\b\b\b\b\b  OK \n",
            "Extracting  /content/Training/palm/palm_set_04/dr_0_1901.xml             \b\b\b\b 80%\b\b\b\b\b  OK \n",
            "Extracting  /content/Training/palm/palm_set_04/dr_0_2207.png             \b\b\b\b 80%\b\b\b\b\b  OK \n",
            "Extracting  /content/Training/palm/palm_set_04/dr_0_2207.xml             \b\b\b\b 80%\b\b\b\b\b  OK \n",
            "Extracting  /content/Training/palm/palm_set_04/dr_0_2260.png             \b\b\b\b 80%\b\b\b\b\b  OK \n",
            "Extracting  /content/Training/palm/palm_set_04/dr_0_2260.xml             \b\b\b\b 80%\b\b\b\b\b  OK \n",
            "Extracting  /content/Training/palm/palm_set_04/dr_0_2329.png             \b\b\b\b 80%\b\b\b\b\b  OK \n",
            "Extracting  /content/Training/palm/palm_set_04/dr_0_2329.xml             \b\b\b\b 80%\b\b\b\b\b  OK \n",
            "Extracting  /content/Training/palm/palm_set_04/dr_0_2836.png             \b\b\b\b 80%\b\b\b\b\b  OK \n",
            "Extracting  /content/Training/palm/palm_set_04/dr_0_2836.xml             \b\b\b\b 80%\b\b\b\b\b  OK \n",
            "Extracting  /content/Training/palm/palm_set_04/dr_0_2914.png             \b\b\b\b 81%\b\b\b\b\b  OK \n",
            "Extracting  /content/Training/palm/palm_set_04/dr_0_2914.xml             \b\b\b\b 81%\b\b\b\b\b  OK \n",
            "Extracting  /content/Training/palm/palm_set_04/dr_0_2922.png             \b\b\b\b 81%\b\b\b\b\b  OK \n",
            "Extracting  /content/Training/palm/palm_set_04/dr_0_2922.xml             \b\b\b\b 81%\b\b\b\b\b  OK \n",
            "Extracting  /content/Training/palm/palm_set_04/dr_0_3041.png             \b\b\b\b 81%\b\b\b\b\b  OK \n",
            "Extracting  /content/Training/palm/palm_set_04/dr_0_3041.xml             \b\b\b\b 81%\b\b\b\b\b  OK \n",
            "Extracting  /content/Training/palm/palm_set_04/dr_0_3102.png             \b\b\b\b 81%\b\b\b\b\b  OK \n",
            "Extracting  /content/Training/palm/palm_set_04/dr_0_3102.xml             \b\b\b\b 81%\b\b\b\b\b  OK \n",
            "Extracting  /content/Training/palm/palm_set_04/dr_0_3172.png             \b\b\b\b 81%\b\b\b\b\b  OK \n",
            "Extracting  /content/Training/palm/palm_set_04/dr_0_3172.xml             \b\b\b\b 81%\b\b\b\b\b  OK \n",
            "Extracting  /content/Training/palm/palm_set_04/dr_0_3363.png             \b\b\b\b 81%\b\b\b\b\b  OK \n",
            "Extracting  /content/Training/palm/palm_set_04/dr_0_3363.xml             \b\b\b\b 81%\b\b\b\b\b  OK \n",
            "Extracting  /content/Training/palm/palm_set_04/dr_0_3630.png             \b\b\b\b 81%\b\b\b\b\b  OK \n",
            "Extracting  /content/Training/palm/palm_set_04/dr_0_3630.xml             \b\b\b\b 81%\b\b\b\b\b  OK \n",
            "Extracting  /content/Training/palm/palm_set_04/dr_0_3633.png             \b\b\b\b 81%\b\b\b\b\b  OK \n",
            "Extracting  /content/Training/palm/palm_set_04/dr_0_3633.xml             \b\b\b\b 81%\b\b\b\b\b  OK \n",
            "Extracting  /content/Training/palm/palm_set_04/dr_0_3713.png             \b\b\b\b 81%\b\b\b\b\b  OK \n",
            "Extracting  /content/Training/palm/palm_set_04/dr_0_3713.xml             \b\b\b\b 81%\b\b\b\b\b  OK \n",
            "Extracting  /content/Training/palm/palm_set_04/dr_0_3993.png             \b\b\b\b 81%\b\b\b\b\b  OK \n",
            "Extracting  /content/Training/palm/palm_set_04/dr_0_3993.xml             \b\b\b\b 81%\b\b\b\b\b  OK \n",
            "Extracting  /content/Training/palm/palm_set_04/dr_0_4139.png             \b\b\b\b 81%\b\b\b\b\b  OK \n",
            "Extracting  /content/Training/palm/palm_set_04/dr_0_4139.xml             \b\b\b\b 81%\b\b\b\b\b  OK \n",
            "Extracting  /content/Training/palm/palm_set_04/dr_0_4142.png             \b\b\b\b 82%\b\b\b\b\b  OK \n",
            "Extracting  /content/Training/palm/palm_set_04/dr_0_4142.xml             \b\b\b\b 82%\b\b\b\b\b  OK \n",
            "Extracting  /content/Training/palm/palm_set_04/dr_0_4364.png             \b\b\b\b 82%\b\b\b\b\b  OK \n",
            "Extracting  /content/Training/palm/palm_set_04/dr_0_4364.xml             \b\b\b\b 82%\b\b\b\b\b  OK \n",
            "Extracting  /content/Training/palm/palm_set_04/dr_0_4538.png             \b\b\b\b 82%\b\b\b\b\b  OK \n",
            "Extracting  /content/Training/palm/palm_set_04/dr_0_4538.xml             \b\b\b\b 82%\b\b\b\b\b  OK \n",
            "Extracting  /content/Training/palm/palm_set_04/dr_0_466.png              \b\b\b\b 82%\b\b\b\b\b  OK \n",
            "Extracting  /content/Training/palm/palm_set_04/dr_0_466.xml              \b\b\b\b 82%\b\b\b\b\b  OK \n",
            "Extracting  /content/Training/palm/palm_set_04/dr_0_4784.png             \b\b\b\b 82%\b\b\b\b\b  OK \n",
            "Extracting  /content/Training/palm/palm_set_04/dr_0_4784.xml             \b\b\b\b 82%\b\b\b\b\b  OK \n",
            "Extracting  /content/Training/palm/palm_set_04/dr_0_5131.png             \b\b\b\b 82%\b\b\b\b\b  OK \n",
            "Extracting  /content/Training/palm/palm_set_04/dr_0_5131.xml             \b\b\b\b 82%\b\b\b\b\b  OK \n",
            "Extracting  /content/Training/palm/palm_set_04/dr_0_5370.png             \b\b\b\b 82%\b\b\b\b\b  OK \n",
            "Extracting  /content/Training/palm/palm_set_04/dr_0_5370.xml             \b\b\b\b 82%\b\b\b\b\b  OK \n",
            "Extracting  /content/Training/palm/palm_set_04/dr_0_5507.png             \b\b\b\b 82%\b\b\b\b\b  OK \n",
            "Extracting  /content/Training/palm/palm_set_04/dr_0_5507.xml             \b\b\b\b 82%\b\b\b\b\b  OK \n",
            "Extracting  /content/Training/palm/palm_set_04/dr_0_5708.png             \b\b\b\b 82%\b\b\b\b\b  OK \n",
            "Extracting  /content/Training/palm/palm_set_04/dr_0_5708.xml             \b\b\b\b 82%\b\b\b\b\b  OK \n",
            "Extracting  /content/Training/palm/palm_set_04/dr_0_574.png              \b\b\b\b 82%\b\b\b\b\b  OK \n",
            "Extracting  /content/Training/palm/palm_set_04/dr_0_574.xml              \b\b\b\b 82%\b\b\b\b\b  OK \n",
            "Extracting  /content/Training/palm/palm_set_04/dr_0_5764.png             \b\b\b\b 83%\b\b\b\b\b  OK \n",
            "Extracting  /content/Training/palm/palm_set_04/dr_0_5764.xml             \b\b\b\b 83%\b\b\b\b\b  OK \n",
            "Extracting  /content/Training/palm/palm_set_04/dr_0_608.png              \b\b\b\b 83%\b\b\b\b\b  OK \n",
            "Extracting  /content/Training/palm/palm_set_04/dr_0_608.xml              \b\b\b\b 83%\b\b\b\b\b  OK \n",
            "Extracting  /content/Training/palm/palm_set_04/dr_0_6386.png             \b\b\b\b 83%\b\b\b\b\b  OK \n",
            "Extracting  /content/Training/palm/palm_set_04/dr_0_6386.xml             \b\b\b\b 83%\b\b\b\b\b  OK \n",
            "Extracting  /content/Training/palm/palm_set_04/dr_0_6649.png             \b\b\b\b 83%\b\b\b\b\b  OK \n",
            "Extracting  /content/Training/palm/palm_set_04/dr_0_6649.xml             \b\b\b\b 83%\b\b\b\b\b  OK \n",
            "Extracting  /content/Training/palm/palm_set_04/dr_0_6750.png             \b\b\b\b 83%\b\b\b\b\b  OK \n",
            "Extracting  /content/Training/palm/palm_set_04/dr_0_6750.xml             \b\b\b\b 83%\b\b\b\b\b  OK \n",
            "Extracting  /content/Training/palm/palm_set_04/dr_0_6871.png             \b\b\b\b 83%\b\b\b\b\b  OK \n",
            "Extracting  /content/Training/palm/palm_set_04/dr_0_6871.xml             \b\b\b\b 83%\b\b\b\b\b  OK \n",
            "Extracting  /content/Training/palm/palm_set_04/dr_0_7184.png             \b\b\b\b 83%\b\b\b\b\b  OK \n",
            "Extracting  /content/Training/palm/palm_set_04/dr_0_7184.xml             \b\b\b\b 83%\b\b\b\b\b  OK \n",
            "Extracting  /content/Training/palm/palm_set_04/dr_0_7780.png             \b\b\b\b 83%\b\b\b\b\b  OK \n",
            "Extracting  /content/Training/palm/palm_set_04/dr_0_7780.xml             \b\b\b\b 83%\b\b\b\b\b  OK \n",
            "Extracting  /content/Training/palm/palm_set_04/dr_0_7821.png             \b\b\b\b 83%\b\b\b\b\b  OK \n",
            "Extracting  /content/Training/palm/palm_set_04/dr_0_7821.xml             \b\b\b\b 83%\b\b\b\b\b  OK \n",
            "Extracting  /content/Training/palm/palm_set_04/dr_0_8166.png             \b\b\b\b 83%\b\b\b\b\b  OK \n",
            "Extracting  /content/Training/palm/palm_set_04/dr_0_8166.xml             \b\b\b\b 83%\b\b\b\b\b  OK \n",
            "Extracting  /content/Training/palm/palm_set_04/dr_0_8299.png             \b\b\b\b 83%\b\b\b\b\b  OK \n",
            "Extracting  /content/Training/palm/palm_set_04/dr_0_8299.xml             \b\b\b\b 83%\b\b\b\b\b  OK \n",
            "Extracting  /content/Training/palm/palm_set_04/dr_0_8351.png             \b\b\b\b 84%\b\b\b\b\b  OK \n",
            "Extracting  /content/Training/palm/palm_set_04/dr_0_8351.xml             \b\b\b\b 84%\b\b\b\b\b  OK \n",
            "Extracting  /content/Training/palm/palm_set_04/dr_0_8877.png             \b\b\b\b 84%\b\b\b\b\b  OK \n",
            "Extracting  /content/Training/palm/palm_set_04/dr_0_8877.xml             \b\b\b\b 84%\b\b\b\b\b  OK \n",
            "Extracting  /content/Training/palm/palm_set_04/dr_0_9037.png             \b\b\b\b 84%\b\b\b\b\b  OK \n",
            "Extracting  /content/Training/palm/palm_set_04/dr_0_9037.xml             \b\b\b\b 84%\b\b\b\b\b  OK \n",
            "Extracting  /content/Training/palm/palm_set_04/dr_0_9376.png             \b\b\b\b 84%\b\b\b\b\b  OK \n",
            "Extracting  /content/Training/palm/palm_set_04/dr_0_9376.xml             \b\b\b\b 84%\b\b\b\b\b  OK \n",
            "Extracting  /content/Training/palm/palm_set_04/dr_0_9588.png             \b\b\b\b 84%\b\b\b\b\b  OK \n",
            "Extracting  /content/Training/palm/palm_set_04/dr_0_9588.xml             \b\b\b\b 84%\b\b\b\b\b  OK \n",
            "Extracting  /content/Training/palm/palm_set_04/dr_0_9608.png             \b\b\b\b 84%\b\b\b\b\b  OK \n",
            "Extracting  /content/Training/palm/palm_set_04/dr_0_9608.xml             \b\b\b\b 84%\b\b\b\b\b  OK \n",
            "Extracting  /content/Training/palm/palm_set_04/women_right.jpg           \b\b\b\b 84%\b\b\b\b\b  OK \n",
            "Extracting  /content/Training/palm/palm_set_04/women_right.xml           \b\b\b\b 84%\b\b\b\b\b  OK \n",
            "Creating    /content/Training/palm/palm_set_05                        OK\n",
            "Extracting  /content/Training/palm/palm_set_05/dr_0_1096.png             \b\b\b\b 84%\b\b\b\b\b  OK \n",
            "Extracting  /content/Training/palm/palm_set_05/dr_0_1096.xml             \b\b\b\b 84%\b\b\b\b\b  OK \n",
            "Extracting  /content/Training/palm/palm_set_05/dr_0_1157.png             \b\b\b\b 84%\b\b\b\b\b  OK \n",
            "Extracting  /content/Training/palm/palm_set_05/dr_0_1157.xml             \b\b\b\b 84%\b\b\b\b\b  OK \n",
            "Extracting  /content/Training/palm/palm_set_05/dr_0_1160.png             \b\b\b\b 85%\b\b\b\b\b  OK \n",
            "Extracting  /content/Training/palm/palm_set_05/dr_0_1160.xml             \b\b\b\b 85%\b\b\b\b\b  OK \n",
            "Extracting  /content/Training/palm/palm_set_05/dr_0_1259.png             \b\b\b\b 85%\b\b\b\b\b  OK \n",
            "Extracting  /content/Training/palm/palm_set_05/dr_0_1259.xml             \b\b\b\b 85%\b\b\b\b\b  OK \n",
            "Extracting  /content/Training/palm/palm_set_05/dr_0_1526.png             \b\b\b\b 85%\b\b\b\b\b  OK \n",
            "Extracting  /content/Training/palm/palm_set_05/dr_0_1526.xml             \b\b\b\b 85%\b\b\b\b\b  OK \n",
            "Extracting  /content/Training/palm/palm_set_05/dr_0_161.png              \b\b\b\b 85%\b\b\b\b\b  OK \n",
            "Extracting  /content/Training/palm/palm_set_05/dr_0_161.xml              \b\b\b\b 85%\b\b\b\b\b  OK \n",
            "Extracting  /content/Training/palm/palm_set_05/dr_0_165.png              \b\b\b\b 85%\b\b\b\b 86%\b\b\b\b\b  OK \n",
            "Extracting  /content/Training/palm/palm_set_05/dr_0_165.xml              \b\b\b\b 86%\b\b\b\b\b  OK \n",
            "Extracting  /content/Training/palm/palm_set_05/dr_0_1724.png             \b\b\b\b 86%\b\b\b\b\b  OK \n",
            "Extracting  /content/Training/palm/palm_set_05/dr_0_1724.xml             \b\b\b\b 86%\b\b\b\b\b  OK \n",
            "Extracting  /content/Training/palm/palm_set_05/dr_0_1823.png             \b\b\b\b 86%\b\b\b\b\b  OK \n",
            "Extracting  /content/Training/palm/palm_set_05/dr_0_1823.xml             \b\b\b\b 86%\b\b\b\b\b  OK \n",
            "Extracting  /content/Training/palm/palm_set_05/dr_0_2018.png             \b\b\b\b 86%\b\b\b\b\b  OK \n",
            "Extracting  /content/Training/palm/palm_set_05/dr_0_2018.xml             \b\b\b\b 86%\b\b\b\b\b  OK \n",
            "Extracting  /content/Training/palm/palm_set_05/dr_0_2063.png             \b\b\b\b 86%\b\b\b\b\b  OK \n",
            "Extracting  /content/Training/palm/palm_set_05/dr_0_2063.xml             \b\b\b\b 86%\b\b\b\b\b  OK \n",
            "Extracting  /content/Training/palm/palm_set_05/dr_0_2130.png             \b\b\b\b 87%\b\b\b\b\b  OK \n",
            "Extracting  /content/Training/palm/palm_set_05/dr_0_2130.xml             \b\b\b\b 87%\b\b\b\b\b  OK \n",
            "Extracting  /content/Training/palm/palm_set_05/dr_0_2595.png             \b\b\b\b 87%\b\b\b\b\b  OK \n",
            "Extracting  /content/Training/palm/palm_set_05/dr_0_2595.xml             \b\b\b\b 87%\b\b\b\b\b  OK \n",
            "Extracting  /content/Training/palm/palm_set_05/dr_0_2605.png             \b\b\b\b 87%\b\b\b\b\b  OK \n",
            "Extracting  /content/Training/palm/palm_set_05/dr_0_2605.xml             \b\b\b\b 87%\b\b\b\b\b  OK \n",
            "Extracting  /content/Training/palm/palm_set_05/dr_0_2707.png             \b\b\b\b 87%\b\b\b\b\b  OK \n",
            "Extracting  /content/Training/palm/palm_set_05/dr_0_2707.xml             \b\b\b\b 87%\b\b\b\b\b  OK \n",
            "Extracting  /content/Training/palm/palm_set_05/dr_0_2805.png             \b\b\b\b 87%\b\b\b\b\b  OK \n",
            "Extracting  /content/Training/palm/palm_set_05/dr_0_2805.xml             \b\b\b\b 87%\b\b\b\b\b  OK \n",
            "Extracting  /content/Training/palm/palm_set_05/dr_0_2886.png             \b\b\b\b 88%\b\b\b\b\b  OK \n",
            "Extracting  /content/Training/palm/palm_set_05/dr_0_2886.xml             \b\b\b\b 88%\b\b\b\b\b  OK \n",
            "Extracting  /content/Training/palm/palm_set_05/dr_0_3388.png             \b\b\b\b 88%\b\b\b\b\b  OK \n",
            "Extracting  /content/Training/palm/palm_set_05/dr_0_3388.xml             \b\b\b\b 88%\b\b\b\b\b  OK \n",
            "Extracting  /content/Training/palm/palm_set_05/dr_0_3491.png             \b\b\b\b 88%\b\b\b\b\b  OK \n",
            "Extracting  /content/Training/palm/palm_set_05/dr_0_3491.xml             \b\b\b\b 88%\b\b\b\b\b  OK \n",
            "Extracting  /content/Training/palm/palm_set_05/dr_0_3829.png             \b\b\b\b 88%\b\b\b\b\b  OK \n",
            "Extracting  /content/Training/palm/palm_set_05/dr_0_3829.xml             \b\b\b\b 88%\b\b\b\b\b  OK \n",
            "Extracting  /content/Training/palm/palm_set_05/dr_0_3881.png             \b\b\b\b 88%\b\b\b\b 89%\b\b\b\b\b  OK \n",
            "Extracting  /content/Training/palm/palm_set_05/dr_0_3881.xml             \b\b\b\b 89%\b\b\b\b\b  OK \n",
            "Extracting  /content/Training/palm/palm_set_05/dr_0_414.png              \b\b\b\b 89%\b\b\b\b\b  OK \n",
            "Extracting  /content/Training/palm/palm_set_05/dr_0_414.xml              \b\b\b\b 89%\b\b\b\b\b  OK \n",
            "Extracting  /content/Training/palm/palm_set_05/dr_0_4201.png             \b\b\b\b 89%\b\b\b\b\b  OK \n",
            "Extracting  /content/Training/palm/palm_set_05/dr_0_4201.xml             \b\b\b\b 89%\b\b\b\b\b  OK \n",
            "Extracting  /content/Training/palm/palm_set_05/dr_0_4918.png             \b\b\b\b 89%\b\b\b\b\b  OK \n",
            "Extracting  /content/Training/palm/palm_set_05/dr_0_4918.xml             \b\b\b\b 89%\b\b\b\b\b  OK \n",
            "Extracting  /content/Training/palm/palm_set_05/dr_0_4971.png             \b\b\b\b 89%\b\b\b\b\b  OK \n",
            "Extracting  /content/Training/palm/palm_set_05/dr_0_4971.xml             \b\b\b\b 89%\b\b\b\b\b  OK \n",
            "Extracting  /content/Training/palm/palm_set_05/dr_0_5073.png             \b\b\b\b 90%\b\b\b\b\b  OK \n",
            "Extracting  /content/Training/palm/palm_set_05/dr_0_5073.xml             \b\b\b\b 90%\b\b\b\b\b  OK \n",
            "Extracting  /content/Training/palm/palm_set_05/dr_0_5488.png             \b\b\b\b 90%\b\b\b\b\b  OK \n",
            "Extracting  /content/Training/palm/palm_set_05/dr_0_5488.xml             \b\b\b\b 90%\b\b\b\b\b  OK \n",
            "Extracting  /content/Training/palm/palm_set_05/dr_0_60.png               \b\b\b\b 90%\b\b\b\b\b  OK \n",
            "Extracting  /content/Training/palm/palm_set_05/dr_0_60.xml               \b\b\b\b 90%\b\b\b\b\b  OK \n",
            "Extracting  /content/Training/palm/palm_set_05/dr_0_6333.png             \b\b\b\b 90%\b\b\b\b\b  OK \n",
            "Extracting  /content/Training/palm/palm_set_05/dr_0_6333.xml             \b\b\b\b 90%\b\b\b\b\b  OK \n",
            "Extracting  /content/Training/palm/palm_set_05/dr_0_6363.png             \b\b\b\b 90%\b\b\b\b\b  OK \n",
            "Extracting  /content/Training/palm/palm_set_05/dr_0_6363.xml             \b\b\b\b 90%\b\b\b\b\b  OK \n",
            "Extracting  /content/Training/palm/palm_set_05/dr_0_6537.png             \b\b\b\b 91%\b\b\b\b\b  OK \n",
            "Extracting  /content/Training/palm/palm_set_05/dr_0_6537.xml             \b\b\b\b 91%\b\b\b\b\b  OK \n",
            "Extracting  /content/Training/palm/palm_set_05/dr_0_6874.png             \b\b\b\b 91%\b\b\b\b\b  OK \n",
            "Extracting  /content/Training/palm/palm_set_05/dr_0_6874.xml             \b\b\b\b 91%\b\b\b\b\b  OK \n",
            "Extracting  /content/Training/palm/palm_set_05/dr_0_6949.png             \b\b\b\b 91%\b\b\b\b\b  OK \n",
            "Extracting  /content/Training/palm/palm_set_05/dr_0_6949.xml             \b\b\b\b 91%\b\b\b\b\b  OK \n",
            "Extracting  /content/Training/palm/palm_set_05/dr_0_7103.png             \b\b\b\b 91%\b\b\b\b\b  OK \n",
            "Extracting  /content/Training/palm/palm_set_05/dr_0_7103.xml             \b\b\b\b 91%\b\b\b\b\b  OK \n",
            "Extracting  /content/Training/palm/palm_set_05/dr_0_7368.png             \b\b\b\b 91%\b\b\b\b 92%\b\b\b\b\b  OK \n",
            "Extracting  /content/Training/palm/palm_set_05/dr_0_7368.xml             \b\b\b\b 92%\b\b\b\b\b  OK \n",
            "Extracting  /content/Training/palm/palm_set_05/dr_0_7451.png             \b\b\b\b 92%\b\b\b\b\b  OK \n",
            "Extracting  /content/Training/palm/palm_set_05/dr_0_7451.xml             \b\b\b\b 92%\b\b\b\b\b  OK \n",
            "Extracting  /content/Training/palm/palm_set_05/dr_0_7911.png             \b\b\b\b 92%\b\b\b\b\b  OK \n",
            "Extracting  /content/Training/palm/palm_set_05/dr_0_7911.xml             \b\b\b\b 92%\b\b\b\b\b  OK \n",
            "Extracting  /content/Training/palm/palm_set_05/dr_0_8148.png             \b\b\b\b 92%\b\b\b\b\b  OK \n",
            "Extracting  /content/Training/palm/palm_set_05/dr_0_8148.xml             \b\b\b\b 92%\b\b\b\b\b  OK \n",
            "Extracting  /content/Training/palm/palm_set_05/dr_0_8238.png             \b\b\b\b 92%\b\b\b\b\b  OK \n",
            "Extracting  /content/Training/palm/palm_set_05/dr_0_8238.xml             \b\b\b\b 92%\b\b\b\b\b  OK \n",
            "Extracting  /content/Training/palm/palm_set_05/dr_0_8440.png             \b\b\b\b 93%\b\b\b\b\b  OK \n",
            "Extracting  /content/Training/palm/palm_set_05/dr_0_8440.xml             \b\b\b\b 93%\b\b\b\b\b  OK \n",
            "Extracting  /content/Training/palm/palm_set_05/dr_0_8540.png             \b\b\b\b 93%\b\b\b\b\b  OK \n",
            "Extracting  /content/Training/palm/palm_set_05/dr_0_8540.xml             \b\b\b\b 93%\b\b\b\b\b  OK \n",
            "Extracting  /content/Training/palm/palm_set_05/dr_0_8621.png             \b\b\b\b 93%\b\b\b\b\b  OK \n",
            "Extracting  /content/Training/palm/palm_set_05/dr_0_8621.xml             \b\b\b\b 93%\b\b\b\b\b  OK \n",
            "Extracting  /content/Training/palm/palm_set_05/dr_0_8638.png             \b\b\b\b 93%\b\b\b\b\b  OK \n",
            "Extracting  /content/Training/palm/palm_set_05/dr_0_8638.xml             \b\b\b\b 93%\b\b\b\b\b  OK \n",
            "Extracting  /content/Training/palm/palm_set_05/dr_0_8682.png             \b\b\b\b 94%\b\b\b\b\b  OK \n",
            "Extracting  /content/Training/palm/palm_set_05/dr_0_8682.xml             \b\b\b\b 94%\b\b\b\b\b  OK \n",
            "Extracting  /content/Training/palm/palm_set_05/dr_0_8888.png             \b\b\b\b 94%\b\b\b\b\b  OK \n",
            "Extracting  /content/Training/palm/palm_set_05/dr_0_8888.xml             \b\b\b\b 94%\b\b\b\b\b  OK \n",
            "Extracting  /content/Training/palm/palm_set_05/dr_0_8921.png             \b\b\b\b 94%\b\b\b\b\b  OK \n",
            "Extracting  /content/Training/palm/palm_set_05/dr_0_8921.xml             \b\b\b\b 94%\b\b\b\b\b  OK \n",
            "Extracting  /content/Training/palm/palm_set_05/dr_0_9112.png             \b\b\b\b 94%\b\b\b\b\b  OK \n",
            "Extracting  /content/Training/palm/palm_set_05/dr_0_9112.xml             \b\b\b\b 94%\b\b\b\b\b  OK \n",
            "Extracting  /content/Training/palm/palm_set_05/dr_0_9227.png             \b\b\b\b 94%\b\b\b\b\b  OK \n",
            "Extracting  /content/Training/palm/palm_set_05/dr_0_9227.xml             \b\b\b\b 94%\b\b\b\b\b  OK \n",
            "Extracting  /content/Training/palm/palm_set_05/dr_0_971.png              \b\b\b\b 95%\b\b\b\b\b  OK \n",
            "Extracting  /content/Training/palm/palm_set_05/dr_0_971.xml              \b\b\b\b 95%\b\b\b\b\b  OK \n",
            "Extracting  /content/Training/palm/palm_set_05/dr_0_9907.png             \b\b\b\b 95%\b\b\b\b\b  OK \n",
            "Extracting  /content/Training/palm/palm_set_05/dr_0_9907.xml             \b\b\b\b 95%\b\b\b\b\b  OK \n",
            "Extracting  /content/Training/palm/palm_set_05/wom_right_ring.jpg        \b\b\b\b 95%\b\b\b\b\b  OK \n",
            "Extracting  /content/Training/palm/palm_set_05/wom_right_ring.xml        \b\b\b\b 95%\b\b\b\b\b  OK \n",
            "Creating    /content/Training/palm/palm_set_06                        OK\n",
            "Extracting  /content/Training/palm/palm_set_06/dr_0_1416.png             \b\b\b\b 95%\b\b\b\b\b  OK \n",
            "Extracting  /content/Training/palm/palm_set_06/dr_0_1416.xml             \b\b\b\b 95%\b\b\b\b\b  OK \n",
            "Extracting  /content/Training/palm/palm_set_06/dr_0_188.png              \b\b\b\b 95%\b\b\b\b\b  OK \n",
            "Extracting  /content/Training/palm/palm_set_06/dr_0_188.xml              \b\b\b\b 95%\b\b\b\b\b  OK \n",
            "Extracting  /content/Training/palm/palm_set_06/dr_0_1898.png             \b\b\b\b 95%\b\b\b\b\b  OK \n",
            "Extracting  /content/Training/palm/palm_set_06/dr_0_1898.xml             \b\b\b\b 95%\b\b\b\b\b  OK \n",
            "Extracting  /content/Training/palm/palm_set_06/dr_0_1926.png             \b\b\b\b 95%\b\b\b\b\b  OK \n",
            "Extracting  /content/Training/palm/palm_set_06/dr_0_1926.xml             \b\b\b\b 95%\b\b\b\b\b  OK \n",
            "Extracting  /content/Training/palm/palm_set_06/dr_0_2040.png             \b\b\b\b 96%\b\b\b\b\b  OK \n",
            "Extracting  /content/Training/palm/palm_set_06/dr_0_2040.xml             \b\b\b\b 96%\b\b\b\b\b  OK \n",
            "Extracting  /content/Training/palm/palm_set_06/dr_0_2190.png             \b\b\b\b 96%\b\b\b\b\b  OK \n",
            "Extracting  /content/Training/palm/palm_set_06/dr_0_2190.xml             \b\b\b\b 96%\b\b\b\b\b  OK \n",
            "Extracting  /content/Training/palm/palm_set_06/dr_0_2359.png             \b\b\b\b 96%\b\b\b\b\b  OK \n",
            "Extracting  /content/Training/palm/palm_set_06/dr_0_2359.xml             \b\b\b\b 96%\b\b\b\b\b  OK \n",
            "Extracting  /content/Training/palm/palm_set_06/dr_0_2393.png             \b\b\b\b 96%\b\b\b\b\b  OK \n",
            "Extracting  /content/Training/palm/palm_set_06/dr_0_2393.xml             \b\b\b\b 96%\b\b\b\b\b  OK \n",
            "Extracting  /content/Training/palm/palm_set_06/dr_0_2524.png             \b\b\b\b 96%\b\b\b\b\b  OK \n",
            "Extracting  /content/Training/palm/palm_set_06/dr_0_2524.xml             \b\b\b\b 96%\b\b\b\b\b  OK \n",
            "Extracting  /content/Training/palm/palm_set_06/dr_0_2570.png             \b\b\b\b 96%\b\b\b\b\b  OK \n",
            "Extracting  /content/Training/palm/palm_set_06/dr_0_2570.xml             \b\b\b\b 96%\b\b\b\b\b  OK \n",
            "Extracting  /content/Training/palm/palm_set_06/dr_0_2734.png             \b\b\b\b 96%\b\b\b\b\b  OK \n",
            "Extracting  /content/Training/palm/palm_set_06/dr_0_2734.xml             \b\b\b\b 96%\b\b\b\b\b  OK \n",
            "Extracting  /content/Training/palm/palm_set_06/dr_0_3039.png             \b\b\b\b 96%\b\b\b\b\b  OK \n",
            "Extracting  /content/Training/palm/palm_set_06/dr_0_3039.xml             \b\b\b\b 96%\b\b\b\b\b  OK \n",
            "Extracting  /content/Training/palm/palm_set_06/dr_0_3172.png             \b\b\b\b 96%\b\b\b\b\b  OK \n",
            "Extracting  /content/Training/palm/palm_set_06/dr_0_3172.xml             \b\b\b\b 96%\b\b\b\b\b  OK \n",
            "Extracting  /content/Training/palm/palm_set_06/dr_0_3203.png             \b\b\b\b 96%\b\b\b\b\b  OK \n",
            "Extracting  /content/Training/palm/palm_set_06/dr_0_3203.xml             \b\b\b\b 96%\b\b\b\b\b  OK \n",
            "Extracting  /content/Training/palm/palm_set_06/dr_0_3264.png             \b\b\b\b 96%\b\b\b\b\b  OK \n",
            "Extracting  /content/Training/palm/palm_set_06/dr_0_3264.xml             \b\b\b\b 96%\b\b\b\b\b  OK \n",
            "Extracting  /content/Training/palm/palm_set_06/dr_0_3365.png             \b\b\b\b 96%\b\b\b\b\b  OK \n",
            "Extracting  /content/Training/palm/palm_set_06/dr_0_3365.xml             \b\b\b\b 96%\b\b\b\b\b  OK \n",
            "Extracting  /content/Training/palm/palm_set_06/dr_0_3691.png             \b\b\b\b 97%\b\b\b\b\b  OK \n",
            "Extracting  /content/Training/palm/palm_set_06/dr_0_3691.xml             \b\b\b\b 97%\b\b\b\b\b  OK \n",
            "Extracting  /content/Training/palm/palm_set_06/dr_0_4060.png             \b\b\b\b 97%\b\b\b\b\b  OK \n",
            "Extracting  /content/Training/palm/palm_set_06/dr_0_4060.xml             \b\b\b\b 97%\b\b\b\b\b  OK \n",
            "Extracting  /content/Training/palm/palm_set_06/dr_0_4254.png             \b\b\b\b 97%\b\b\b\b\b  OK \n",
            "Extracting  /content/Training/palm/palm_set_06/dr_0_4254.xml             \b\b\b\b 97%\b\b\b\b\b  OK \n",
            "Extracting  /content/Training/palm/palm_set_06/dr_0_4264.png             \b\b\b\b 97%\b\b\b\b\b  OK \n",
            "Extracting  /content/Training/palm/palm_set_06/dr_0_4264.xml             \b\b\b\b 97%\b\b\b\b\b  OK \n",
            "Extracting  /content/Training/palm/palm_set_06/dr_0_4441.png             \b\b\b\b 97%\b\b\b\b\b  OK \n",
            "Extracting  /content/Training/palm/palm_set_06/dr_0_4441.xml             \b\b\b\b 97%\b\b\b\b\b  OK \n",
            "Extracting  /content/Training/palm/palm_set_06/dr_0_447.png              \b\b\b\b 97%\b\b\b\b\b  OK \n",
            "Extracting  /content/Training/palm/palm_set_06/dr_0_447.xml              \b\b\b\b 97%\b\b\b\b\b  OK \n",
            "Extracting  /content/Training/palm/palm_set_06/dr_0_4553.png             \b\b\b\b 97%\b\b\b\b\b  OK \n",
            "Extracting  /content/Training/palm/palm_set_06/dr_0_4553.xml             \b\b\b\b 97%\b\b\b\b\b  OK \n",
            "Extracting  /content/Training/palm/palm_set_06/dr_0_4623.png             \b\b\b\b 97%\b\b\b\b\b  OK \n",
            "Extracting  /content/Training/palm/palm_set_06/dr_0_4623.xml             \b\b\b\b 97%\b\b\b\b\b  OK \n",
            "Extracting  /content/Training/palm/palm_set_06/dr_0_4685.png             \b\b\b\b 97%\b\b\b\b\b  OK \n",
            "Extracting  /content/Training/palm/palm_set_06/dr_0_4685.xml             \b\b\b\b 97%\b\b\b\b\b  OK \n",
            "Extracting  /content/Training/palm/palm_set_06/dr_0_5070.png             \b\b\b\b 97%\b\b\b\b\b  OK \n",
            "Extracting  /content/Training/palm/palm_set_06/dr_0_5070.xml             \b\b\b\b 97%\b\b\b\b\b  OK \n",
            "Extracting  /content/Training/palm/palm_set_06/dr_0_5630.png             \b\b\b\b 97%\b\b\b\b\b  OK \n",
            "Extracting  /content/Training/palm/palm_set_06/dr_0_5630.xml             \b\b\b\b 97%\b\b\b\b\b  OK \n",
            "Extracting  /content/Training/palm/palm_set_06/dr_0_5734.png             \b\b\b\b 98%\b\b\b\b\b  OK \n",
            "Extracting  /content/Training/palm/palm_set_06/dr_0_5734.xml             \b\b\b\b 98%\b\b\b\b\b  OK \n",
            "Extracting  /content/Training/palm/palm_set_06/dr_0_5834.png             \b\b\b\b 98%\b\b\b\b\b  OK \n",
            "Extracting  /content/Training/palm/palm_set_06/dr_0_5834.xml             \b\b\b\b 98%\b\b\b\b\b  OK \n",
            "Extracting  /content/Training/palm/palm_set_06/dr_0_6104.png             \b\b\b\b 98%\b\b\b\b\b  OK \n",
            "Extracting  /content/Training/palm/palm_set_06/dr_0_6104.xml             \b\b\b\b 98%\b\b\b\b\b  OK \n",
            "Extracting  /content/Training/palm/palm_set_06/dr_0_6151.png             \b\b\b\b 98%\b\b\b\b\b  OK \n",
            "Extracting  /content/Training/palm/palm_set_06/dr_0_6151.xml             \b\b\b\b 98%\b\b\b\b\b  OK \n",
            "Extracting  /content/Training/palm/palm_set_06/dr_0_6324.png             \b\b\b\b 98%\b\b\b\b\b  OK \n",
            "Extracting  /content/Training/palm/palm_set_06/dr_0_6324.xml             \b\b\b\b 98%\b\b\b\b\b  OK \n",
            "Extracting  /content/Training/palm/palm_set_06/dr_0_6389.png             \b\b\b\b 98%\b\b\b\b\b  OK \n",
            "Extracting  /content/Training/palm/palm_set_06/dr_0_6389.xml             \b\b\b\b 98%\b\b\b\b\b  OK \n",
            "Extracting  /content/Training/palm/palm_set_06/dr_0_6544.png             \b\b\b\b 98%\b\b\b\b\b  OK \n",
            "Extracting  /content/Training/palm/palm_set_06/dr_0_6544.xml             \b\b\b\b 98%\b\b\b\b\b  OK \n",
            "Extracting  /content/Training/palm/palm_set_06/dr_0_6932.png             \b\b\b\b 98%\b\b\b\b\b  OK \n",
            "Extracting  /content/Training/palm/palm_set_06/dr_0_6932.xml             \b\b\b\b 98%\b\b\b\b\b  OK \n",
            "Extracting  /content/Training/palm/palm_set_06/dr_0_7315.png             \b\b\b\b 98%\b\b\b\b\b  OK \n",
            "Extracting  /content/Training/palm/palm_set_06/dr_0_7315.xml             \b\b\b\b 98%\b\b\b\b\b  OK \n",
            "Extracting  /content/Training/palm/palm_set_06/dr_0_7319.png             \b\b\b\b 98%\b\b\b\b\b  OK \n",
            "Extracting  /content/Training/palm/palm_set_06/dr_0_7319.xml             \b\b\b\b 98%\b\b\b\b\b  OK \n",
            "Extracting  /content/Training/palm/palm_set_06/dr_0_745.png              \b\b\b\b 98%\b\b\b\b\b  OK \n",
            "Extracting  /content/Training/palm/palm_set_06/dr_0_745.xml              \b\b\b\b 98%\b\b\b\b\b  OK \n",
            "Extracting  /content/Training/palm/palm_set_06/dr_0_7923.png             \b\b\b\b 98%\b\b\b\b\b  OK \n",
            "Extracting  /content/Training/palm/palm_set_06/dr_0_7923.xml             \b\b\b\b 98%\b\b\b\b\b  OK \n",
            "Extracting  /content/Training/palm/palm_set_06/dr_0_7924.png             \b\b\b\b 99%\b\b\b\b\b  OK \n",
            "Extracting  /content/Training/palm/palm_set_06/dr_0_7924.xml             \b\b\b\b 99%\b\b\b\b\b  OK \n",
            "Extracting  /content/Training/palm/palm_set_06/dr_0_7926.png             \b\b\b\b 99%\b\b\b\b\b  OK \n",
            "Extracting  /content/Training/palm/palm_set_06/dr_0_7926.xml             \b\b\b\b 99%\b\b\b\b\b  OK \n",
            "Extracting  /content/Training/palm/palm_set_06/dr_0_8250.png             \b\b\b\b 99%\b\b\b\b\b  OK \n",
            "Extracting  /content/Training/palm/palm_set_06/dr_0_8250.xml             \b\b\b\b 99%\b\b\b\b\b  OK \n",
            "Extracting  /content/Training/palm/palm_set_06/dr_0_8377.png             \b\b\b\b 99%\b\b\b\b\b  OK \n",
            "Extracting  /content/Training/palm/palm_set_06/dr_0_8377.xml             \b\b\b\b 99%\b\b\b\b\b  OK \n",
            "Extracting  /content/Training/palm/palm_set_06/dr_0_8475.png             \b\b\b\b 99%\b\b\b\b\b  OK \n",
            "Extracting  /content/Training/palm/palm_set_06/dr_0_8475.xml             \b\b\b\b 99%\b\b\b\b\b  OK \n",
            "Extracting  /content/Training/palm/palm_set_06/dr_0_85.png               \b\b\b\b 99%\b\b\b\b\b  OK \n",
            "Extracting  /content/Training/palm/palm_set_06/dr_0_85.xml               \b\b\b\b 99%\b\b\b\b\b  OK \n",
            "Extracting  /content/Training/palm/palm_set_06/dr_0_8577.png             \b\b\b\b 99%\b\b\b\b\b  OK \n",
            "Extracting  /content/Training/palm/palm_set_06/dr_0_8577.xml             \b\b\b\b 99%\b\b\b\b\b  OK \n",
            "Extracting  /content/Training/palm/palm_set_06/dr_0_8783.png             \b\b\b\b 99%\b\b\b\b\b  OK \n",
            "Extracting  /content/Training/palm/palm_set_06/dr_0_8783.xml             \b\b\b\b 99%\b\b\b\b\b  OK \n",
            "Extracting  /content/Training/palm/palm_set_06/dr_0_8984.png             \b\b\b\b 99%\b\b\b\b\b  OK \n",
            "Extracting  /content/Training/palm/palm_set_06/dr_0_8984.xml             \b\b\b\b 99%\b\b\b\b\b  OK \n",
            "Extracting  /content/Training/palm/palm_set_06/dr_0_9251.png             \b\b\b\b 99%\b\b\b\b\b  OK \n",
            "Extracting  /content/Training/palm/palm_set_06/dr_0_9251.xml             \b\b\b\b 99%\b\b\b\b\b  OK \n",
            "Extracting  /content/Training/palm/palm_set_06/dr_0_9724.png             \b\b\b\b 99%\b\b\b\b\b  OK \n",
            "Extracting  /content/Training/palm/palm_set_06/dr_0_9724.xml             \b\b\b\b 99%\b\b\b\b\b  OK \n",
            "Extracting  /content/Training/palm/palm_set_06/dr_0_9946.png             \b\b\b\b 99%\b\b\b\b\b  OK \n",
            "Extracting  /content/Training/palm/palm_set_06/dr_0_9946.xml             \b\b\b\b 99%\b\b\b\b\b  OK \n",
            "Extracting  /content/Training/palm/palm_set_06/hand_only.jpg             \b\b\b\b 99%\b\b\b\b\b  OK \n",
            "Extracting  /content/Training/palm/palm_set_06/hand_only.xml             \b\b\b\b 99%\b\b\b\b\b  OK \n",
            "All OK\n"
          ],
          "name": "stdout"
        }
      ]
    },
    {
      "cell_type": "code",
      "metadata": {
        "colab": {
          "base_uri": "https://localhost:8080/"
        },
        "id": "Tl6CJcmy_bsD",
        "outputId": "f9c89177-7855-4fb7-e09b-c3ae7715cd13"
      },
      "source": [
        "data_dir = pathlib.Path(\"/content/Training\")\n",
        "data_dir"
      ],
      "execution_count": null,
      "outputs": [
        {
          "output_type": "execute_result",
          "data": {
            "text/plain": [
              "PosixPath('/content/Training')"
            ]
          },
          "metadata": {
            "tags": []
          },
          "execution_count": 5
        }
      ]
    },
    {
      "cell_type": "code",
      "metadata": {
        "colab": {
          "base_uri": "https://localhost:8080/"
        },
        "id": "xLmKSiayESMF",
        "outputId": "8d15abe8-f9f6-43ec-cd9d-a56ae2c0752d"
      },
      "source": [
        "len(list(data_dir.glob('*/*/*.png'))), len(list(data_dir.glob('palm/*')))"
      ],
      "execution_count": null,
      "outputs": [
        {
          "output_type": "execute_result",
          "data": {
            "text/plain": [
              "(613, 6)"
            ]
          },
          "metadata": {
            "tags": []
          },
          "execution_count": 6
        }
      ]
    },
    {
      "cell_type": "code",
      "metadata": {
        "id": "mZZqAPaSEf1s"
      },
      "source": [
        "hand_dict = {\n",
        "'fist' : list(data_dir.glob('fist/*/*.png')),\n",
        "'palm' : list(data_dir.glob('palm/*/*.png')),\n",
        "}\n",
        "\n",
        "hand_labels_dict = {\n",
        "    'fist': 0,\n",
        "    'palm': 1,\n",
        "}"
      ],
      "execution_count": null,
      "outputs": []
    },
    {
      "cell_type": "code",
      "metadata": {
        "colab": {
          "base_uri": "https://localhost:8080/"
        },
        "id": "q3mGAhRQFJ3I",
        "outputId": "40caec69-62ea-48d3-e714-06a074e658d4"
      },
      "source": [
        "img = cv2.imread(str(hand_dict['fist'][0]))\n",
        "img.shape"
      ],
      "execution_count": null,
      "outputs": [
        {
          "output_type": "execute_result",
          "data": {
            "text/plain": [
              "(600, 600, 3)"
            ]
          },
          "metadata": {
            "tags": []
          },
          "execution_count": 8
        }
      ]
    },
    {
      "cell_type": "code",
      "metadata": {
        "colab": {
          "base_uri": "https://localhost:8080/"
        },
        "id": "_nrW5jaIHKjk",
        "outputId": "8ece7c16-1e6e-4aed-cdee-f852d71b6b69"
      },
      "source": [
        "X, y = [], []\n",
        "\n",
        "for hand_name, images in hand_dict.items():\n",
        "    print(hand_name, \":\", len(images))\n",
        "    for image in images:\n",
        "      try:\n",
        "        img = cv2.imread(str(image))\n",
        "        resize_image = cv2.resize(img, (180, 180))\n",
        "        X.append(resize_image)\n",
        "        y.append(hand_labels_dict[hand_name])\n",
        "      except:\n",
        "        pass"
      ],
      "execution_count": null,
      "outputs": [
        {
          "output_type": "stream",
          "text": [
            "fist : 308\n",
            "palm : 305\n"
          ],
          "name": "stdout"
        }
      ]
    },
    {
      "cell_type": "code",
      "metadata": {
        "colab": {
          "base_uri": "https://localhost:8080/",
          "height": 286
        },
        "id": "VLEVLuiOHfat",
        "outputId": "619f7662-6ee2-4f6e-a115-a8b9a9980b36"
      },
      "source": [
        "print(y[100], 'shape', X[100].shape)\n",
        "plt.imshow(X[100]);"
      ],
      "execution_count": null,
      "outputs": [
        {
          "output_type": "stream",
          "text": [
            "0 shape (180, 180, 3)\n"
          ],
          "name": "stdout"
        },
        {
          "output_type": "display_data",
          "data": {
            "image/png": "[encoded data removed]",
            "text/plain": [
              "<Figure size 432x288 with 1 Axes>"
            ]
          },
          "metadata": {
            "tags": []
          }
        }
      ]
    },
    {
      "cell_type": "code",
      "metadata": {
        "id": "ed3FFRrLI4vF"
      },
      "source": [
        "X = np.array(X)\n",
        "y = np.array(y)"
      ],
      "execution_count": null,
      "outputs": []
    },
    {
      "cell_type": "code",
      "metadata": {
        "colab": {
          "base_uri": "https://localhost:8080/"
        },
        "id": "aKiHPo13JPGb",
        "outputId": "6a71f9f2-0213-4006-eccc-aba5a7a63773"
      },
      "source": [
        "X_train, X_test, y_train, y_test = train_test_split(X, y, random_state=25)\n",
        "np.unique(y_train, return_counts=True), np.unique(y_test, return_counts=True)"
      ],
      "execution_count": null,
      "outputs": [
        {
          "output_type": "execute_result",
          "data": {
            "text/plain": [
              "((array([0, 1]), array([228, 231])), (array([0, 1]), array([80, 74])))"
            ]
          },
          "metadata": {
            "tags": []
          },
          "execution_count": 12
        }
      ]
    },
    {
      "cell_type": "code",
      "metadata": {
        "colab": {
          "base_uri": "https://localhost:8080/"
        },
        "id": "-mm8gVnZJUSw",
        "outputId": "5d22831c-ef2e-4dd5-8b08-67f2900b726a"
      },
      "source": [
        "X_train_scl = X_train / 255\n",
        "X_test_scl = X_test / 255\n",
        "len(X_train_scl), len(y_train), X_train_scl.shape"
      ],
      "execution_count": null,
      "outputs": [
        {
          "output_type": "execute_result",
          "data": {
            "text/plain": [
              "(459, 459, (459, 180, 180, 3))"
            ]
          },
          "metadata": {
            "tags": []
          },
          "execution_count": 33
        }
      ]
    },
    {
      "cell_type": "code",
      "metadata": {
        "colab": {
          "base_uri": "https://localhost:8080/"
        },
        "id": "wzfrIzZFJ3Nc",
        "outputId": "d2a051d2-9d1d-4275-d65e-9f3ba40cc9be"
      },
      "source": [
        "cnn = keras.Sequential()\n",
        "\n",
        "cnn.add(keras.layers.Conv2D(filters=5, kernel_size=(3, 3), activation='relu', input_shape=(180,180,3)))\n",
        "cnn.add(keras.layers.MaxPooling2D((2,2)))\n",
        "cnn.add(keras.layers.Conv2D(filters=64, kernel_size=(3, 3), activation='relu'))\n",
        "cnn.add(keras.layers.MaxPooling2D((2, 2)))\n",
        "cnn.add(keras.layers.Conv2D(filters=64, kernel_size=(3, 3), activation='relu'))\n",
        "cnn.add(keras.layers.MaxPooling2D((2, 2)))\n",
        "\n",
        "cnn.add(keras.layers.Flatten())\n",
        "cnn.add(keras.layers.Dense(64, activation='relu'))\n",
        "cnn.add(keras.layers.Dense(3, activation='softmax'))\n",
        "\n",
        "cnn.compile(optimizer='adam',\n",
        "              loss='sparse_categorical_crossentropy',\n",
        "              metrics=['accuracy'])\n",
        "\n",
        "\n",
        "cnn.summary()"
      ],
      "execution_count": null,
      "outputs": [
        {
          "output_type": "stream",
          "text": [
            "Model: \"sequential_6\"\n",
            "_________________________________________________________________\n",
            "Layer (type)                 Output Shape              Param #   \n",
            "=================================================================\n",
            "conv2d_17 (Conv2D)           (None, 178, 178, 5)       140       \n",
            "_________________________________________________________________\n",
            "max_pooling2d_17 (MaxPooling (None, 89, 89, 5)         0         \n",
            "_________________________________________________________________\n",
            "conv2d_18 (Conv2D)           (None, 87, 87, 64)        2944      \n",
            "_________________________________________________________________\n",
            "max_pooling2d_18 (MaxPooling (None, 43, 43, 64)        0         \n",
            "_________________________________________________________________\n",
            "conv2d_19 (Conv2D)           (None, 41, 41, 64)        36928     \n",
            "_________________________________________________________________\n",
            "max_pooling2d_19 (MaxPooling (None, 20, 20, 64)        0         \n",
            "_________________________________________________________________\n",
            "flatten_6 (Flatten)          (None, 25600)             0         \n",
            "_________________________________________________________________\n",
            "dense_12 (Dense)             (None, 64)                1638464   \n",
            "_________________________________________________________________\n",
            "dense_13 (Dense)             (None, 3)                 195       \n",
            "=================================================================\n",
            "Total params: 1,678,671\n",
            "Trainable params: 1,678,671\n",
            "Non-trainable params: 0\n",
            "_________________________________________________________________\n"
          ],
          "name": "stdout"
        }
      ]
    },
    {
      "cell_type": "code",
      "metadata": {
        "colab": {
          "base_uri": "https://localhost:8080/"
        },
        "id": "wtHiEmQjKBrc",
        "outputId": "e56efd49-dfa9-4797-9d5b-29eb729c573d"
      },
      "source": [
        "history = cnn.fit(X_train_scl, y_train, epochs = 10)"
      ],
      "execution_count": null,
      "outputs": [
        {
          "output_type": "stream",
          "text": [
            "Epoch 1/10\n",
            "15/15 [==============================] - 14s 910ms/step - loss: 0.8030 - accuracy: 0.5229\n",
            "Epoch 2/10\n",
            "15/15 [==============================] - 14s 905ms/step - loss: 0.5322 - accuracy: 0.7516\n",
            "Epoch 3/10\n",
            "15/15 [==============================] - 14s 912ms/step - loss: 0.3278 - accuracy: 0.8279\n",
            "Epoch 4/10\n",
            "15/15 [==============================] - 14s 915ms/step - loss: 0.1587 - accuracy: 0.9477\n",
            "Epoch 5/10\n",
            "15/15 [==============================] - 14s 921ms/step - loss: 0.0675 - accuracy: 0.9782\n",
            "Epoch 6/10\n",
            "15/15 [==============================] - 14s 920ms/step - loss: 0.0376 - accuracy: 0.9913\n",
            "Epoch 7/10\n",
            "15/15 [==============================] - 14s 906ms/step - loss: 0.0164 - accuracy: 0.9978\n",
            "Epoch 8/10\n",
            "15/15 [==============================] - 14s 914ms/step - loss: 0.0066 - accuracy: 1.0000\n",
            "Epoch 9/10\n",
            "15/15 [==============================] - 14s 918ms/step - loss: 0.0034 - accuracy: 1.0000\n",
            "Epoch 10/10\n",
            "15/15 [==============================] - 14s 917ms/step - loss: 0.0021 - accuracy: 1.0000\n"
          ],
          "name": "stdout"
        }
      ]
    },
    {
      "cell_type": "code",
      "metadata": {
        "colab": {
          "base_uri": "https://localhost:8080/"
        },
        "id": "inNG2inZKFbU",
        "outputId": "050af1d5-6ec2-4e25-e45c-17f72b412b67"
      },
      "source": [
        "cnn.evaluate(X_test_scl, y_test)"
      ],
      "execution_count": null,
      "outputs": [
        {
          "output_type": "stream",
          "text": [
            "5/5 [==============================] - 2s 307ms/step - loss: 0.0475 - accuracy: 0.9870\n"
          ],
          "name": "stdout"
        },
        {
          "output_type": "execute_result",
          "data": {
            "text/plain": [
              "[0.04748081415891647, 0.9870129823684692]"
            ]
          },
          "metadata": {
            "tags": []
          },
          "execution_count": 99
        }
      ]
    },
    {
      "cell_type": "code",
      "metadata": {
        "colab": {
          "base_uri": "https://localhost:8080/"
        },
        "id": "XgVqdgVQNP2q",
        "outputId": "99062cd9-4c59-41db-c384-90a3c1b5d0a6"
      },
      "source": [
        "fist_babu = []\n",
        "babu_test = list(pathlib.Path(\"/content/set_1/test/subject_1\").glob('*'))\n",
        "for image in babu_test:\n",
        "        img = cv2.imread(str(image))\n",
        "        resize_image = cv2.resize(img, (180, 180))\n",
        "        fist_babu.append(resize_image)\n",
        "fist_babu = np.array(fist_babu)\n",
        "fist_babu.shape"
      ],
      "execution_count": null,
      "outputs": [
        {
          "output_type": "execute_result",
          "data": {
            "text/plain": [
              "(439, 180, 180, 3)"
            ]
          },
          "metadata": {
            "tags": []
          },
          "execution_count": 100
        }
      ]
    },
    {
      "cell_type": "code",
      "metadata": {
        "colab": {
          "base_uri": "https://localhost:8080/"
        },
        "id": "d4YhTFllXCM4",
        "outputId": "1f0673cb-b21f-4a74-96c3-0209e6c394e8"
      },
      "source": [
        "pred = cnn.predict(fist_babu)\n",
        "print(np.argmax(0))"
      ],
      "execution_count": null,
      "outputs": [
        {
          "output_type": "stream",
          "text": [
            "0\n"
          ],
          "name": "stdout"
        }
      ]
    },
    {
      "cell_type": "code",
      "metadata": {
        "colab": {
          "base_uri": "https://localhost:8080/"
        },
        "id": "V92gQUKabNp0",
        "outputId": "4318883b-64bb-453a-df73-4af93fd81cbe"
      },
      "source": [
        "pred[0]"
      ],
      "execution_count": null,
      "outputs": [
        {
          "output_type": "execute_result",
          "data": {
            "text/plain": [
              "array([0., 1., 0.], dtype=float32)"
            ]
          },
          "metadata": {
            "tags": []
          },
          "execution_count": 102
        }
      ]
    },
    {
      "cell_type": "code",
      "metadata": {
        "colab": {
          "base_uri": "https://localhost:8080/"
        },
        "id": "ZlnldteZtgvm",
        "outputId": "2547c301-2738-41ca-ec77-41b8750cd875"
      },
      "source": [
        "pred = cnn.predict(X_test_scl)\n",
        "arr_pred = np.array([np.argmax(i) for i in pred])\n",
        "arr_pred"
      ],
      "execution_count": null,
      "outputs": [
        {
          "output_type": "execute_result",
          "data": {
            "text/plain": [
              "array([1, 1, 0, 0, 0, 0, 1, 1, 0, 1, 1, 1, 0, 0, 1, 1, 1, 0, 1, 1, 1, 1,\n",
              "       0, 1, 0, 0, 1, 0, 1, 1, 0, 0, 1, 1, 0, 1, 1, 0, 0, 1, 1, 1, 0, 1,\n",
              "       0, 0, 1, 0, 0, 0, 1, 1, 1, 1, 1, 1, 1, 1, 0, 0, 1, 0, 0, 1, 0, 0,\n",
              "       1, 0, 1, 1, 1, 0, 0, 0, 0, 1, 1, 1, 0, 0, 1, 0, 0, 0, 0, 1, 1, 0,\n",
              "       1, 1, 0, 1, 0, 1, 0, 1, 1, 0, 1, 1, 1, 1, 0, 0, 1, 1, 0, 0, 1, 0,\n",
              "       1, 0, 1, 1, 1, 0, 1, 0, 0, 0, 1, 1, 0, 0, 0, 1, 0, 0, 0, 1, 0, 0,\n",
              "       0, 0, 0, 0, 0, 1, 0, 1, 0, 1, 0, 0, 1, 0, 1, 0, 0, 0, 0, 1, 0, 1])"
            ]
          },
          "metadata": {
            "tags": []
          },
          "execution_count": 103
        }
      ]
    },
    {
      "cell_type": "code",
      "metadata": {
        "colab": {
          "base_uri": "https://localhost:8080/"
        },
        "id": "BLPj3akBuwLR",
        "outputId": "f376844e-913d-4f1d-cc56-8844fab2c794"
      },
      "source": [
        "y_test"
      ],
      "execution_count": null,
      "outputs": [
        {
          "output_type": "execute_result",
          "data": {
            "text/plain": [
              "array([1, 1, 0, 0, 0, 0, 1, 1, 0, 1, 1, 1, 0, 0, 1, 0, 1, 0, 1, 0, 1, 1,\n",
              "       0, 1, 0, 0, 1, 0, 1, 1, 0, 0, 1, 1, 0, 1, 1, 0, 0, 1, 1, 1, 0, 1,\n",
              "       0, 0, 1, 0, 0, 0, 1, 1, 1, 1, 1, 1, 1, 1, 0, 0, 1, 0, 0, 1, 0, 0,\n",
              "       1, 0, 1, 1, 1, 0, 0, 0, 0, 1, 1, 1, 0, 0, 1, 0, 0, 0, 0, 1, 1, 0,\n",
              "       1, 1, 0, 1, 0, 1, 0, 1, 1, 0, 1, 1, 1, 1, 0, 0, 1, 1, 0, 0, 1, 0,\n",
              "       1, 0, 1, 1, 1, 0, 1, 0, 0, 0, 1, 1, 0, 0, 0, 1, 0, 0, 0, 1, 0, 0,\n",
              "       0, 0, 0, 0, 0, 1, 0, 1, 0, 1, 0, 0, 1, 0, 1, 0, 0, 0, 0, 1, 0, 1])"
            ]
          },
          "metadata": {
            "tags": []
          },
          "execution_count": 104
        }
      ]
    },
    {
      "cell_type": "code",
      "metadata": {
        "colab": {
          "base_uri": "https://localhost:8080/"
        },
        "id": "Rh3-SuNNwqYb",
        "outputId": "c01a281e-86df-475e-9ec7-a1a08eff9b46"
      },
      "source": [
        "pred"
      ],
      "execution_count": null,
      "outputs": [
        {
          "output_type": "execute_result",
          "data": {
            "text/plain": [
              "array([[3.07835813e-04, 9.99692202e-01, 1.95383179e-13],\n",
              "       [5.05143871e-05, 9.99949455e-01, 1.29307214e-17],\n",
              "       [9.98260796e-01, 1.73916796e-03, 1.66252996e-17],\n",
              "       [8.03536296e-01, 1.96463719e-01, 1.09825950e-12],\n",
              "       [9.97119784e-01, 2.88024009e-03, 6.07842713e-19],\n",
              "       [9.00107801e-01, 9.98921543e-02, 2.81465525e-13],\n",
              "       [2.68385520e-07, 9.99999762e-01, 3.68367114e-21],\n",
              "       [3.73987350e-05, 9.99962568e-01, 1.88325021e-17],\n",
              "       [9.99972701e-01, 2.73532460e-05, 2.32655632e-17],\n",
              "       [4.18913275e-01, 5.81086755e-01, 5.43962356e-14],\n",
              "       [1.66678720e-03, 9.98333275e-01, 4.13534826e-34],\n",
              "       [4.47873390e-05, 9.99955177e-01, 2.49339611e-19],\n",
              "       [9.99999881e-01, 6.86775721e-08, 9.37759945e-36],\n",
              "       [9.99998450e-01, 1.55254259e-06, 1.10087287e-20],\n",
              "       [1.30780705e-07, 9.99999881e-01, 2.26897851e-27],\n",
              "       [3.26732509e-02, 9.67326701e-01, 6.52639802e-35],\n",
              "       [7.26140197e-03, 9.92738545e-01, 4.74520513e-30],\n",
              "       [1.00000000e+00, 1.16010736e-10, 3.91338019e-25],\n",
              "       [2.31192803e-06, 9.99997735e-01, 1.85798220e-19],\n",
              "       [2.38690361e-01, 7.61309624e-01, 1.18937049e-17],\n",
              "       [6.95022254e-06, 9.99993086e-01, 4.10210289e-30],\n",
              "       [4.94638272e-03, 9.95053589e-01, 2.32484637e-17],\n",
              "       [9.99999881e-01, 1.01259090e-07, 5.25113394e-36],\n",
              "       [3.00228130e-03, 9.96997714e-01, 4.17710415e-11],\n",
              "       [9.99972939e-01, 2.70986202e-05, 2.78382513e-38],\n",
              "       [9.99747932e-01, 2.52009835e-04, 1.83683992e-16],\n",
              "       [1.63656223e-05, 9.99983668e-01, 2.27240173e-16],\n",
              "       [9.80518818e-01, 1.94812082e-02, 1.65550618e-16],\n",
              "       [2.92205747e-04, 9.99707758e-01, 1.00070785e-14],\n",
              "       [4.19756956e-02, 9.58024263e-01, 6.52005902e-13],\n",
              "       [9.99947667e-01, 5.23873823e-05, 6.22179327e-21],\n",
              "       [9.99972463e-01, 2.75236398e-05, 8.74239579e-17],\n",
              "       [7.36535810e-08, 9.99999881e-01, 1.63633633e-27],\n",
              "       [6.16590769e-05, 9.99938369e-01, 2.58426526e-19],\n",
              "       [9.99332964e-01, 6.66961598e-04, 0.00000000e+00],\n",
              "       [5.46665324e-05, 9.99945283e-01, 4.39913964e-24],\n",
              "       [2.33356911e-03, 9.97666478e-01, 3.54777781e-15],\n",
              "       [9.99999285e-01, 7.36895515e-07, 2.05729463e-17],\n",
              "       [9.93855417e-01, 6.14450360e-03, 6.20108145e-14],\n",
              "       [6.69365718e-09, 1.00000000e+00, 4.18828172e-27],\n",
              "       [1.04601231e-05, 9.99989510e-01, 6.56975667e-13],\n",
              "       [5.01331594e-03, 9.94986653e-01, 7.99546857e-14],\n",
              "       [9.99934077e-01, 6.59544603e-05, 7.60895057e-17],\n",
              "       [4.97043179e-03, 9.95029628e-01, 1.67900235e-10],\n",
              "       [9.99898553e-01, 1.01489517e-04, 1.98363172e-17],\n",
              "       [1.00000000e+00, 8.81395651e-11, 0.00000000e+00],\n",
              "       [2.27407800e-05, 9.99977231e-01, 0.00000000e+00],\n",
              "       [9.99368370e-01, 6.31689443e-04, 2.61760578e-20],\n",
              "       [9.99940991e-01, 5.89706942e-05, 5.85981315e-38],\n",
              "       [9.99937892e-01, 6.21162180e-05, 2.62664421e-18],\n",
              "       [4.08415417e-06, 9.99995947e-01, 1.17814706e-17],\n",
              "       [4.91717190e-04, 9.99508262e-01, 3.10692634e-13],\n",
              "       [4.46678838e-04, 9.99553263e-01, 6.78960170e-17],\n",
              "       [5.35513461e-03, 9.94644880e-01, 6.08668940e-15],\n",
              "       [1.18354738e-01, 8.81645262e-01, 2.18588155e-13],\n",
              "       [1.84703840e-05, 9.99981523e-01, 2.23631170e-25],\n",
              "       [9.65418352e-04, 9.99034643e-01, 3.72979058e-15],\n",
              "       [4.50620614e-02, 9.54937875e-01, 1.03487453e-11],\n",
              "       [6.01766825e-01, 3.98233205e-01, 2.35525630e-33],\n",
              "       [9.99917746e-01, 8.22688671e-05, 1.11365945e-32],\n",
              "       [6.76907133e-04, 9.99323130e-01, 2.03086828e-23],\n",
              "       [9.85804200e-01, 1.41957821e-02, 0.00000000e+00],\n",
              "       [1.00000000e+00, 3.46659501e-09, 0.00000000e+00],\n",
              "       [4.56643829e-05, 9.99954343e-01, 2.90043487e-24],\n",
              "       [9.99594629e-01, 4.05442406e-04, 6.23720548e-20],\n",
              "       [9.99982238e-01, 1.78047849e-05, 2.03763901e-33],\n",
              "       [3.18721926e-04, 9.99681354e-01, 1.31965212e-23],\n",
              "       [9.99759138e-01, 2.40889654e-04, 6.87619610e-15],\n",
              "       [1.27459923e-02, 9.87253964e-01, 3.97544734e-19],\n",
              "       [7.85614713e-04, 9.99214411e-01, 6.81698948e-23],\n",
              "       [4.37689153e-03, 9.95623171e-01, 1.07931369e-14],\n",
              "       [9.99764502e-01, 2.35553205e-04, 2.17797398e-20],\n",
              "       [9.99512076e-01, 4.87901299e-04, 2.62803205e-17],\n",
              "       [9.86402333e-01, 1.35977287e-02, 2.17565706e-18],\n",
              "       [1.00000000e+00, 3.97310842e-08, 1.14437968e-34],\n",
              "       [2.73915939e-03, 9.97260809e-01, 1.26479963e-13],\n",
              "       [3.21204332e-03, 9.96788025e-01, 1.86289883e-15],\n",
              "       [7.20032258e-03, 9.92799640e-01, 7.72195268e-35],\n",
              "       [9.99996305e-01, 3.72582190e-06, 5.53214446e-22],\n",
              "       [9.99999404e-01, 6.33778654e-07, 5.42580146e-22],\n",
              "       [1.11579625e-02, 9.88842010e-01, 4.46346883e-11],\n",
              "       [9.99953628e-01, 4.63226315e-05, 4.72845131e-19],\n",
              "       [9.99920964e-01, 7.90091799e-05, 1.50836875e-34],\n",
              "       [9.99653459e-01, 3.46526358e-04, 0.00000000e+00],\n",
              "       [9.99997616e-01, 2.34730510e-06, 3.24026372e-34],\n",
              "       [7.62635085e-04, 9.99237418e-01, 7.30799156e-14],\n",
              "       [8.96772963e-06, 9.99991059e-01, 1.13588565e-24],\n",
              "       [9.99999881e-01, 1.64972661e-07, 2.43454461e-21],\n",
              "       [1.79805113e-07, 9.99999762e-01, 6.55594257e-28],\n",
              "       [9.51646052e-06, 9.99990463e-01, 6.62718972e-21],\n",
              "       [9.99999762e-01, 2.32557085e-07, 2.33492245e-33],\n",
              "       [1.40382626e-05, 9.99985933e-01, 1.02385143e-24],\n",
              "       [9.99734342e-01, 2.65607610e-04, 9.84517235e-37],\n",
              "       [3.75065370e-03, 9.96249378e-01, 1.15278785e-11],\n",
              "       [9.99938607e-01, 6.13372758e-05, 4.09619503e-19],\n",
              "       [2.51459482e-04, 9.99748528e-01, 2.08098011e-13],\n",
              "       [2.43794057e-06, 9.99997616e-01, 1.02799330e-22],\n",
              "       [9.99983549e-01, 1.64538360e-05, 4.00290438e-20],\n",
              "       [1.00767422e-04, 9.99899268e-01, 6.94253022e-15],\n",
              "       [2.82918663e-05, 9.99971747e-01, 9.33537206e-34],\n",
              "       [1.71374381e-02, 9.82862532e-01, 1.27322380e-16],\n",
              "       [6.80473977e-06, 9.99993205e-01, 1.08657962e-16],\n",
              "       [9.99963403e-01, 3.65645610e-05, 1.03549653e-34],\n",
              "       [9.99984503e-01, 1.54521586e-05, 9.52404448e-20],\n",
              "       [2.06401819e-04, 9.99793589e-01, 7.07282675e-15],\n",
              "       [1.03949616e-03, 9.98960495e-01, 1.37721712e-32],\n",
              "       [1.00000000e+00, 4.64807359e-12, 0.00000000e+00],\n",
              "       [9.99999166e-01, 7.92780895e-07, 2.33080728e-35],\n",
              "       [2.87714414e-04, 9.99712288e-01, 1.35345077e-13],\n",
              "       [9.95906830e-01, 4.09317296e-03, 8.67662181e-15],\n",
              "       [6.28087146e-05, 9.99937177e-01, 7.53452341e-14],\n",
              "       [9.99999881e-01, 8.94027821e-08, 7.51737032e-36],\n",
              "       [1.00428020e-04, 9.99899507e-01, 1.64071417e-14],\n",
              "       [7.77724126e-05, 9.99922276e-01, 2.62537908e-12],\n",
              "       [1.72539660e-06, 9.99998331e-01, 4.86566086e-20],\n",
              "       [9.99713719e-01, 2.86249211e-04, 0.00000000e+00],\n",
              "       [5.46963056e-05, 9.99945283e-01, 6.61349095e-14],\n",
              "       [9.99862790e-01, 1.37155439e-04, 5.29366376e-17],\n",
              "       [9.99232650e-01, 7.67411664e-04, 4.05568004e-16],\n",
              "       [9.98377323e-01, 1.62261468e-03, 0.00000000e+00],\n",
              "       [1.51560858e-01, 8.48439157e-01, 3.45872983e-11],\n",
              "       [1.01178465e-03, 9.98988211e-01, 4.86988828e-23],\n",
              "       [7.27252662e-01, 2.72747308e-01, 1.02877090e-14],\n",
              "       [9.99834180e-01, 1.65736026e-04, 5.55990204e-33],\n",
              "       [9.99897957e-01, 1.01983795e-04, 9.74736068e-17],\n",
              "       [2.60155939e-04, 9.99739826e-01, 1.09711231e-14],\n",
              "       [9.64864492e-01, 3.51355001e-02, 7.57393618e-18],\n",
              "       [9.98596609e-01, 1.40341825e-03, 1.40511839e-15],\n",
              "       [9.99945998e-01, 5.40184519e-05, 3.24146556e-21],\n",
              "       [1.86147483e-03, 9.98138547e-01, 1.02722163e-15],\n",
              "       [9.99988079e-01, 1.19071137e-05, 4.20480622e-17],\n",
              "       [1.00000000e+00, 1.72144663e-08, 0.00000000e+00],\n",
              "       [9.98039305e-01, 1.96074042e-03, 6.07366722e-19],\n",
              "       [1.00000000e+00, 1.60444813e-12, 0.00000000e+00],\n",
              "       [9.99985218e-01, 1.48141908e-05, 3.24492259e-20],\n",
              "       [9.99830127e-01, 1.69853782e-04, 3.53993359e-16],\n",
              "       [9.55724061e-01, 4.42758836e-02, 0.00000000e+00],\n",
              "       [2.73679674e-04, 9.99726355e-01, 1.49112633e-18],\n",
              "       [9.99965429e-01, 3.46122652e-05, 4.27098869e-18],\n",
              "       [2.10651968e-04, 9.99789417e-01, 9.05041271e-17],\n",
              "       [9.99703944e-01, 2.96012411e-04, 4.60181125e-20],\n",
              "       [9.84871201e-03, 9.90151286e-01, 3.81516780e-12],\n",
              "       [1.00000000e+00, 8.77871553e-09, 4.02414448e-35],\n",
              "       [9.93779361e-01, 6.22065598e-03, 1.43140335e-14],\n",
              "       [6.36013076e-02, 9.36398685e-01, 1.69861567e-30],\n",
              "       [9.98541951e-01, 1.45804510e-03, 0.00000000e+00],\n",
              "       [4.22968471e-04, 9.99576986e-01, 4.71799564e-23],\n",
              "       [9.99985099e-01, 1.48583767e-05, 2.14633074e-38],\n",
              "       [9.99995470e-01, 4.49721801e-06, 6.67145923e-21],\n",
              "       [9.99999642e-01, 3.43650527e-07, 1.18202947e-36],\n",
              "       [9.99997139e-01, 2.89216382e-06, 1.43455252e-21],\n",
              "       [1.01124151e-02, 9.89887536e-01, 5.06492871e-14],\n",
              "       [9.72127497e-01, 2.78724190e-02, 4.96233439e-14],\n",
              "       [1.07594360e-06, 9.99998927e-01, 0.00000000e+00]], dtype=float32)"
            ]
          },
          "metadata": {
            "tags": []
          },
          "execution_count": 105
        }
      ]
    },
    {
      "cell_type": "code",
      "metadata": {
        "colab": {
          "base_uri": "https://localhost:8080/",
          "height": 286
        },
        "id": "g-_sTlQ5x5ET",
        "outputId": "c90f7a28-e2a5-485d-a17f-53271f0605a8"
      },
      "source": [
        "i = -7\n",
        "print(y_test[i], 'shape', X_test[i].shape)\n",
        "plt.imshow(X[i]);"
      ],
      "execution_count": null,
      "outputs": [
        {
          "output_type": "stream",
          "text": [
            "0 shape (180, 180, 3)\n"
          ],
          "name": "stdout"
        },
        {
          "output_type": "display_data",
          "data": {
            "image/png": "[encoded data removed]",
            "text/plain": [
              "<Figure size 432x288 with 1 Axes>"
            ]
          },
          "metadata": {
            "tags": []
          }
        }
      ]
    },
    {
      "cell_type": "code",
      "metadata": {
        "colab": {
          "base_uri": "https://localhost:8080/",
          "height": 282
        },
        "id": "g6jq-uCQy3hr",
        "outputId": "c122cf9d-8f75-41eb-9289-6c92b298774a"
      },
      "source": [
        "plt.scatter(pred[2], pred[2])"
      ],
      "execution_count": null,
      "outputs": [
        {
          "output_type": "execute_result",
          "data": {
            "text/plain": [
              "<matplotlib.collections.PathCollection at 0x7f5ec9ab1690>"
            ]
          },
          "metadata": {
            "tags": []
          },
          "execution_count": 107
        },
        {
          "output_type": "display_data",
          "data": {
            "image/png": "[encoded data removed]",
            "text/plain": [
              "<Figure size 432x288 with 1 Axes>"
            ]
          },
          "metadata": {
            "tags": []
          }
        }
      ]
    },
    {
      "cell_type": "code",
      "metadata": {
        "colab": {
          "base_uri": "https://localhost:8080/",
          "height": 573
        },
        "id": "rxAcQ45CUNom",
        "outputId": "db81803b-204d-4bd3-8dbe-1c37bfbbffa2"
      },
      "source": [
        "acc = history.history['accuracy']\n",
        "loss = history.history['loss']\n",
        "epochs = range(len(acc))\n",
        "plt.plot(epochs, acc, 'r', label='Training acc')\n",
        "plt.title('Training accuracy')\n",
        "plt.ylabel('accuracy') \n",
        "plt.xlabel('epoch')\n",
        "plt.legend()\n",
        "plt.figure()\n",
        "plt.plot(epochs, loss, 'r', label='Training loss')\n",
        "plt.title('Training loss')\n",
        "plt.ylabel('loss') \n",
        "plt.xlabel('epoch')\n",
        "plt.legend()\n",
        "plt.show()"
      ],
      "execution_count": null,
      "outputs": [
        {
          "output_type": "display_data",
          "data": {
            "image/png": "[encoded data removed]",
            "text/plain": [
              "<Figure size 432x288 with 1 Axes>"
            ]
          },
          "metadata": {
            "tags": []
          }
        },
        {
          "output_type": "display_data",
          "data": {
            "image/png": "[encoded data removed]",
            "text/plain": [
              "<Figure size 432x288 with 1 Axes>"
            ]
          },
          "metadata": {
            "tags": []
          }
        }
      ]
    },
    {
      "cell_type": "code",
      "metadata": {
        "colab": {
          "base_uri": "https://localhost:8080/"
        },
        "id": "76jakNe9TNM8",
        "outputId": "8ba31a29-4fed-49e9-fab5-15585a3f2bb3"
      },
      "source": [
        "fist_babu = []\n",
        "image = '/content/Screenshot 2021-07-24 223703.png'\n",
        "img = cv2.imread(str(image))\n",
        "resize_image = cv2.resize(img, (180, 180))\n",
        "fist_babu.append(resize_image)\n",
        "fist_babu = np.array(fist_babu)/255\n",
        "fist_babu.shape"
      ],
      "execution_count": null,
      "outputs": [
        {
          "output_type": "execute_result",
          "data": {
            "text/plain": [
              "(1, 180, 180, 3)"
            ]
          },
          "metadata": {
            "tags": []
          },
          "execution_count": 112
        }
      ]
    },
    {
      "cell_type": "code",
      "metadata": {
        "id": "uUFUXrefUKfj"
      },
      "source": [
        "pred = cnn.predict(fist_babu)"
      ],
      "execution_count": null,
      "outputs": []
    },
    {
      "cell_type": "code",
      "metadata": {
        "colab": {
          "base_uri": "https://localhost:8080/"
        },
        "id": "7hanMVZRf0_d",
        "outputId": "5e68e570-f7b0-4819-bf1a-434c5265570b"
      },
      "source": [
        "pred"
      ],
      "execution_count": null,
      "outputs": [
        {
          "output_type": "execute_result",
          "data": {
            "text/plain": [
              "array([[1.0000000e+00, 5.2786646e-08, 0.0000000e+00]], dtype=float32)"
            ]
          },
          "metadata": {
            "tags": []
          },
          "execution_count": 114
        }
      ]
    },
    {
      "cell_type": "code",
      "metadata": {
        "colab": {
          "base_uri": "https://localhost:8080/"
        },
        "id": "l0tgPk5d3ruC",
        "outputId": "54ed7ef7-4eb0-4f70-f5d1-7b6ef02f8f94"
      },
      "source": [
        "cnn.save('/content/drive/MyDrive/Exported-models')"
      ],
      "execution_count": null,
      "outputs": [
        {
          "output_type": "stream",
          "text": [
            "INFO:tensorflow:Assets written to: /content/drive/MyDrive/Exported-models/assets\n"
          ],
          "name": "stdout"
        }
      ]
    },
    {
      "cell_type": "code",
      "metadata": {
        "id": "r8TUtPQp-KX3"
      },
      "source": [
        "from keras.models import model_from_json\n",
        "from keras.models import load_model\n",
        "\n",
        "# serialize model to JSON\n",
        "#  the keras model which is trained is defined as 'model' in this example\n",
        "model_json = cnn.to_json()\n",
        "\n",
        "\n",
        "with open(\"model_num.json\", \"w\") as json_file:\n",
        "    json_file.write(model_json)\n",
        "\n",
        "# serialize weights to HDF5\n",
        "cnn.save_weights(\"model_num.h5\")"
      ],
      "execution_count": null,
      "outputs": []
    },
    {
      "cell_type": "code",
      "metadata": {
        "id": "aIoawRqDAwOZ"
      },
      "source": [
        ""
      ],
      "execution_count": null,
      "outputs": []
    }
  ]
}