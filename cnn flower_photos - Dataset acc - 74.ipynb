{
 "cells": [
  {
   "cell_type": "code",
   "execution_count": 19,
   "id": "592d8351",
   "metadata": {},
   "outputs": [],
   "source": [
    "import os\n",
    "import PIL\n",
    "import cv2\n",
    "import pathlib\n",
    "import numpy as np\n",
    "import tensorflow as tf\n",
    "from tensorflow import keras\n",
    "import matplotlib.pyplot as plt\n",
    "from tensorflow.keras import layers\n",
    "from tensorflow.keras.models import Sequential\n",
    "from sklearn.model_selection import train_test_split"
   ]
  },
  {
   "cell_type": "code",
   "execution_count": 20,
   "id": "eb00b54b",
   "metadata": {},
   "outputs": [],
   "source": [
    "# # To Download flower_photos dataset\n",
    "# dataset_url = \"https://storage.googleapis.com/download.tensorflow.org/example_images/flower_photos.tgz\"\n",
    "# data_dir = tf.keras.utils.get_file('flower_photos', origin=dataset_url,  cache_dir='./Dataset', untar=True)"
   ]
  },
  {
   "cell_type": "code",
   "execution_count": 21,
   "id": "5b295702",
   "metadata": {},
   "outputs": [
    {
     "data": {
      "text/plain": [
       "WindowsPath('E:/Dataset/flower_photos')"
      ]
     },
     "execution_count": 21,
     "metadata": {},
     "output_type": "execute_result"
    }
   ],
   "source": [
    "data_dir = pathlib.Path(\"E:/Dataset/flower_photos\")\n",
    "data_dir"
   ]
  },
  {
   "cell_type": "code",
   "execution_count": 22,
   "id": "eebc0076",
   "metadata": {},
   "outputs": [
    {
     "data": {
      "text/plain": [
       "(3670, 641)"
      ]
     },
     "execution_count": 22,
     "metadata": {},
     "output_type": "execute_result"
    }
   ],
   "source": [
    "len(list(data_dir.glob('*/*.jpg'))), len(list(data_dir.glob('roses/*')))"
   ]
  },
  {
   "cell_type": "code",
   "execution_count": 23,
   "id": "07394e19",
   "metadata": {},
   "outputs": [],
   "source": [
    "flower_dict = {\n",
    "'roses' : list(data_dir.glob('roses/*')),\n",
    "'tulips' : list(data_dir.glob('tulips/*')),\n",
    "'dandelion' : list(data_dir.glob('dandelion/*')),\n",
    "'daisy' : list(data_dir.glob('daisy/*')),\n",
    "'sunflowers' : list(data_dir.glob('sunflowers/*')),\n",
    "}\n",
    "flowers_labels_dict = {\n",
    "    'roses': 0,\n",
    "    'daisy': 1,\n",
    "    'dandelion': 2,\n",
    "    'sunflowers': 3,\n",
    "    'tulips': 4,\n",
    "}"
   ]
  },
  {
   "cell_type": "code",
   "execution_count": 24,
   "id": "8fd2b256",
   "metadata": {},
   "outputs": [
    {
     "data": {
      "text/plain": [
       "(240, 179, 3)"
      ]
     },
     "execution_count": 24,
     "metadata": {},
     "output_type": "execute_result"
    }
   ],
   "source": [
    "img = cv2.imread(str(flower_dict['roses'][0]))\n",
    "img.shape"
   ]
  },
  {
   "cell_type": "code",
   "execution_count": 25,
   "id": "9bd5fc09",
   "metadata": {},
   "outputs": [
    {
     "data": {
      "text/plain": [
       "(180, 180, 3)"
      ]
     },
     "execution_count": 25,
     "metadata": {},
     "output_type": "execute_result"
    }
   ],
   "source": [
    "cv2.resize(img, (180, 180)).shape"
   ]
  },
  {
   "cell_type": "code",
   "execution_count": 26,
   "id": "fbca6343",
   "metadata": {},
   "outputs": [
    {
     "name": "stdout",
     "output_type": "stream",
     "text": [
      "roses : 641\n",
      "tulips : 799\n",
      "dandelion : 898\n",
      "daisy : 633\n",
      "sunflowers : 699\n"
     ]
    }
   ],
   "source": [
    "X, y = [], []\n",
    "\n",
    "for flower_name, images in flower_dict.items():\n",
    "    print(flower_name, \":\", len(images))\n",
    "    for image in images:\n",
    "        img = cv2.imread(str(image))\n",
    "        resize_image = cv2.resize(img, (180, 180))\n",
    "        X.append(resize_image)\n",
    "        y.append(flowers_labels_dict[flower_name])"
   ]
  },
  {
   "cell_type": "code",
   "execution_count": 27,
   "id": "8a004a81",
   "metadata": {},
   "outputs": [],
   "source": [
    "X = np.array(X)\n",
    "y = np.array(y)"
   ]
  },
  {
   "cell_type": "code",
   "execution_count": 28,
   "id": "43c73209",
   "metadata": {},
   "outputs": [
    {
     "data": {
      "text/plain": [
       "((array([0, 1, 2, 3, 4]), array([465, 491, 683, 515, 598], dtype=int64)),\n",
       " (array([0, 1, 2, 3, 4]), array([176, 142, 215, 184, 201], dtype=int64)))"
      ]
     },
     "execution_count": 28,
     "metadata": {},
     "output_type": "execute_result"
    }
   ],
   "source": [
    "X_train, X_test, y_train, y_test = train_test_split(X, y, random_state=0)\n",
    "np.unique(y_train, return_counts=True), np.unique(y_test, return_counts=True)"
   ]
  },
  {
   "cell_type": "code",
   "execution_count": 29,
   "id": "d887aa6b",
   "metadata": {},
   "outputs": [
    {
     "data": {
      "text/plain": [
       "(2752, 2752)"
      ]
     },
     "execution_count": 29,
     "metadata": {},
     "output_type": "execute_result"
    }
   ],
   "source": [
    "X_train_scl = X_train / 255\n",
    "X_test_scl = X_test / 255\n",
    "len(X_train_scl), len(y_train)"
   ]
  },
  {
   "cell_type": "code",
   "execution_count": 30,
   "id": "a5448ff9",
   "metadata": {},
   "outputs": [],
   "source": [
    "model = keras.Sequential()\n",
    "model.add(keras.layers.Conv2D(16, 3, padding= 'same', activation='relu'))\n",
    "model.add(keras.layers.MaxPool2D())\n",
    "model.add(keras.layers.Conv2D(32, 3, padding= 'same', activation='relu'))\n",
    "model.add(keras.layers.MaxPool2D())\n",
    "model.add(keras.layers.Conv2D(64, 3, padding= 'same', activation='relu'))\n",
    "model.add(keras.layers.MaxPool2D())\n",
    "\n",
    "model.add(keras.layers.Flatten())\n",
    "model.add(keras.layers.Dense(128, activation='relu'))\n",
    "model.add(keras.layers.Dense(5))\n",
    "\n",
    "model.compile(optimizer='adam',\n",
    "             loss=tf.keras.losses.SparseCategoricalCrossentropy(from_logits=True),\n",
    "             metrics = ['accuracy'])"
   ]
  },
  {
   "cell_type": "code",
   "execution_count": 31,
   "id": "246831cf",
   "metadata": {},
   "outputs": [
    {
     "name": "stdout",
     "output_type": "stream",
     "text": [
      "Epoch 1/10\n",
      "86/86 [==============================] - 9s 84ms/step - loss: 1.3175 - accuracy: 0.4422\n",
      "Epoch 2/10\n",
      "86/86 [==============================] - 7s 84ms/step - loss: 0.9960 - accuracy: 0.6094\n",
      "Epoch 3/10\n",
      "86/86 [==============================] - 7s 82ms/step - loss: 0.8320 - accuracy: 0.6810\n",
      "Epoch 4/10\n",
      "86/86 [==============================] - 7s 82ms/step - loss: 0.6274 - accuracy: 0.7605\n",
      "Epoch 5/10\n",
      "86/86 [==============================] - 7s 82ms/step - loss: 0.4405 - accuracy: 0.8408\n",
      "Epoch 6/10\n",
      "86/86 [==============================] - 7s 82ms/step - loss: 0.2510 - accuracy: 0.9204\n",
      "Epoch 7/10\n",
      "86/86 [==============================] - 7s 82ms/step - loss: 0.1526 - accuracy: 0.9542\n",
      "Epoch 8/10\n",
      "86/86 [==============================] - 7s 82ms/step - loss: 0.0858 - accuracy: 0.9753\n",
      "Epoch 9/10\n",
      "86/86 [==============================] - 7s 82ms/step - loss: 0.0422 - accuracy: 0.9927\n",
      "Epoch 10/10\n",
      "86/86 [==============================] - 7s 82ms/step - loss: 0.0297 - accuracy: 0.9953\n"
     ]
    }
   ],
   "source": [
    "history = model.fit(X_train_scl, y_train, epochs =10)"
   ]
  },
  {
   "cell_type": "code",
   "execution_count": 32,
   "id": "713482bb",
   "metadata": {},
   "outputs": [
    {
     "name": "stdout",
     "output_type": "stream",
     "text": [
      "29/29 [==============================] - 1s 33ms/step - loss: 1.7942 - accuracy: 0.6623\n"
     ]
    },
    {
     "data": {
      "text/plain": [
       "[1.794152855873108, 0.6623093485832214]"
      ]
     },
     "execution_count": 32,
     "metadata": {},
     "output_type": "execute_result"
    }
   ],
   "source": [
    "model.evaluate(X_test_scl, y_test)"
   ]
  },
  {
   "cell_type": "code",
   "execution_count": 33,
   "id": "9b70dccd",
   "metadata": {},
   "outputs": [],
   "source": [
    "IMG_SIZE = 180\n",
    "\n",
    "data_augmentation = tf.keras.Sequential([\n",
    "#     keras.layers.experimental.preprocessing.Resizing(IMG_SIZE, IMG_SIZE),\n",
    "#     keras.layers.experimental.preprocessing.Rescaling(1./255),\n",
    "    keras.layers.experimental.preprocessing.RandomFlip(\"horizontal_and_vertical\"),\n",
    "    keras.layers.experimental.preprocessing.RandomRotation(0.2)\n",
    "])"
   ]
  },
  {
   "cell_type": "code",
   "execution_count": 34,
   "id": "7bbc127d",
   "metadata": {},
   "outputs": [
    {
     "data": {
      "text/plain": [
       "(TensorShape([1, 180, 180, 3]), (180, 180, 3))"
      ]
     },
     "execution_count": 34,
     "metadata": {},
     "output_type": "execute_result"
    }
   ],
   "source": [
    "# Add the image to a batch\n",
    "image = tf.expand_dims(X[0], 0)\n",
    "image.shape,X[0].shape"
   ]
  },
  {
   "cell_type": "code",
   "execution_count": 35,
   "id": "0a1296dc",
   "metadata": {},
   "outputs": [
    {
     "data": {
      "image/png": "[encoded data removed]",
      "text/plain": [
       "<Figure size 432x288 with 1 Axes>"
      ]
     },
     "metadata": {
      "needs_background": "light"
     },
     "output_type": "display_data"
    }
   ],
   "source": [
    "result = data_augmentation(image)\n",
    "_ = plt.imshow(result[0])"
   ]
  },
  {
   "cell_type": "code",
   "execution_count": 36,
   "id": "116439d3",
   "metadata": {},
   "outputs": [],
   "source": [
    "num_classes = 5\n",
    "model = Sequential([\n",
    "  data_augmentation,\n",
    "  layers.Conv2D(16, 3, padding='same', activation='relu'),\n",
    "  layers.MaxPooling2D(),\n",
    "  layers.Conv2D(32, 3, padding='same', activation='relu'),\n",
    "  layers.MaxPooling2D(),\n",
    "  layers.Conv2D(64, 3, padding='same', activation='relu'),\n",
    "  layers.MaxPooling2D(),\n",
    "  layers.Dropout(0.2),\n",
    "  layers.Flatten(),\n",
    "  layers.Dense(128, activation='relu'),\n",
    "  layers.Dense(num_classes)\n",
    "])\n",
    "\n",
    "model.compile(optimizer='adam',\n",
    "              loss=tf.keras.losses.SparseCategoricalCrossentropy(from_logits=True),\n",
    "              metrics=['accuracy'])"
   ]
  },
  {
   "cell_type": "code",
   "execution_count": 37,
   "id": "ac166f35",
   "metadata": {
    "scrolled": true
   },
   "outputs": [
    {
     "name": "stdout",
     "output_type": "stream",
     "text": [
      "Epoch 1/30\n",
      "86/86 [==============================] - 9s 96ms/step - loss: 1.2964 - accuracy: 0.4415\n",
      "Epoch 2/30\n",
      "86/86 [==============================] - 8s 94ms/step - loss: 1.0960 - accuracy: 0.5585\n",
      "Epoch 3/30\n",
      "86/86 [==============================] - 8s 94ms/step - loss: 0.9942 - accuracy: 0.5977\n",
      "Epoch 4/30\n",
      "86/86 [==============================] - 8s 97ms/step - loss: 0.9284 - accuracy: 0.6337\n",
      "Epoch 5/30\n",
      "86/86 [==============================] - 8s 95ms/step - loss: 0.8786 - accuracy: 0.6664\n",
      "Epoch 6/30\n",
      "86/86 [==============================] - 8s 96ms/step - loss: 0.8336 - accuracy: 0.6730\n",
      "Epoch 7/30\n",
      "86/86 [==============================] - 8s 94ms/step - loss: 0.8060 - accuracy: 0.6802\n",
      "Epoch 8/30\n",
      "86/86 [==============================] - 9s 99ms/step - loss: 0.7820 - accuracy: 0.6908\n",
      "Epoch 9/30\n",
      "86/86 [==============================] - 8s 95ms/step - loss: 0.7808 - accuracy: 0.6973\n",
      "Epoch 10/30\n",
      "86/86 [==============================] - 8s 94ms/step - loss: 0.7482 - accuracy: 0.7104\n",
      "Epoch 11/30\n",
      "86/86 [==============================] - 8s 94ms/step - loss: 0.7014 - accuracy: 0.7224\n",
      "Epoch 12/30\n",
      "86/86 [==============================] - 8s 94ms/step - loss: 0.7095 - accuracy: 0.7238\n",
      "Epoch 13/30\n",
      "86/86 [==============================] - 8s 94ms/step - loss: 0.6918 - accuracy: 0.7387\n",
      "Epoch 14/30\n",
      "86/86 [==============================] - 8s 94ms/step - loss: 0.6982 - accuracy: 0.7304\n",
      "Epoch 15/30\n",
      "86/86 [==============================] - 8s 95ms/step - loss: 0.6656 - accuracy: 0.7340\n",
      "Epoch 16/30\n",
      "86/86 [==============================] - 8s 97ms/step - loss: 0.6228 - accuracy: 0.7551\n",
      "Epoch 17/30\n",
      "86/86 [==============================] - 8s 98ms/step - loss: 0.6311 - accuracy: 0.7555\n",
      "Epoch 18/30\n",
      "86/86 [==============================] - 8s 98ms/step - loss: 0.6196 - accuracy: 0.7507\n",
      "Epoch 19/30\n",
      "86/86 [==============================] - 8s 98ms/step - loss: 0.6123 - accuracy: 0.7678\n",
      "Epoch 20/30\n",
      "86/86 [==============================] - 8s 98ms/step - loss: 0.6107 - accuracy: 0.7642\n",
      "Epoch 21/30\n",
      "86/86 [==============================] - 8s 98ms/step - loss: 0.5736 - accuracy: 0.7787\n",
      "Epoch 22/30\n",
      "86/86 [==============================] - 9s 99ms/step - loss: 0.5540 - accuracy: 0.7831\n",
      "Epoch 23/30\n",
      "86/86 [==============================] - 8s 99ms/step - loss: 0.5596 - accuracy: 0.7838\n",
      "Epoch 24/30\n",
      "86/86 [==============================] - 17s 197ms/step - loss: 0.5377 - accuracy: 0.8023\n",
      "Epoch 25/30\n",
      "86/86 [==============================] - 13s 156ms/step - loss: 0.5315 - accuracy: 0.7976\n",
      "Epoch 26/30\n",
      "86/86 [==============================] - 11s 127ms/step - loss: 0.5352 - accuracy: 0.7925\n",
      "Epoch 27/30\n",
      "86/86 [==============================] - 11s 127ms/step - loss: 0.5187 - accuracy: 0.7954\n",
      "Epoch 28/30\n",
      "86/86 [==============================] - 11s 127ms/step - loss: 0.5293 - accuracy: 0.7951\n",
      "Epoch 29/30\n",
      "86/86 [==============================] - 11s 127ms/step - loss: 0.4865 - accuracy: 0.8103\n",
      "Epoch 30/30\n",
      "86/86 [==============================] - 11s 127ms/step - loss: 0.4978 - accuracy: 0.8005\n"
     ]
    },
    {
     "data": {
      "text/plain": [
       "<tensorflow.python.keras.callbacks.History at 0x1e2fefb3fa0>"
      ]
     },
     "execution_count": 37,
     "metadata": {},
     "output_type": "execute_result"
    }
   ],
   "source": [
    "model.fit(X_train_scl, y_train, epochs=30)"
   ]
  },
  {
   "cell_type": "code",
   "execution_count": 42,
   "id": "854cd81a",
   "metadata": {},
   "outputs": [
    {
     "name": "stdout",
     "output_type": "stream",
     "text": [
      "29/29 [==============================] - 1s 29ms/step - loss: 0.6920 - accuracy: 0.7440\n"
     ]
    },
    {
     "data": {
      "text/plain": [
       "[0.6920143961906433, 0.7440087199211121]"
      ]
     },
     "execution_count": 42,
     "metadata": {},
     "output_type": "execute_result"
    }
   ],
   "source": [
    "model.evaluate(X_test_scl, y_test)"
   ]
  },
  {
   "cell_type": "code",
   "execution_count": 46,
   "id": "783a05fd",
   "metadata": {},
   "outputs": [],
   "source": [
    "num_classes = 5\n",
    "model1 = Sequential([\n",
    "    data_augmentation,\n",
    "    layers.Conv2D(16, 3, padding='same', activation='relu'),\n",
    "    layers.MaxPooling2D(),\n",
    "\n",
    "    layers.Conv2D(32, 3, padding='same', activation='relu'),\n",
    "    layers.MaxPooling2D(),\n",
    "\n",
    "    layers.Conv2D(64, 3, padding='same', activation='relu'),\n",
    "    layers.MaxPooling2D(),\n",
    "    \n",
    "    layers.Dropout(0.2),\n",
    "    \n",
    "    layers.Flatten(),\n",
    "    layers.Dense(128, activation='relu'),\n",
    "    layers.Dense(num_classes)\n",
    "])\n",
    "\n",
    "model1.compile(optimizer='adam',\n",
    "              loss=tf.keras.losses.SparseCategoricalCrossentropy(from_logits=True),\n",
    "              metrics=['accuracy'])\n"
   ]
  },
  {
   "cell_type": "code",
   "execution_count": null,
   "id": "544b7157",
   "metadata": {},
   "outputs": [],
   "source": []
  },
  {
   "cell_type": "code",
   "execution_count": 40,
   "id": "a2eb540c",
   "metadata": {
    "scrolled": true
   },
   "outputs": [
    {
     "name": "stdout",
     "output_type": "stream",
     "text": [
      "Epoch 1/50\n",
      "86/86 [==============================] - 14s 117ms/step - loss: 1.5625 - accuracy: 0.2783\n",
      "Epoch 2/50\n",
      "86/86 [==============================] - 11s 123ms/step - loss: 1.2101 - accuracy: 0.4949\n",
      "Epoch 3/50\n",
      "86/86 [==============================] - 10s 122ms/step - loss: 1.0858 - accuracy: 0.5672\n",
      "Epoch 4/50\n",
      "86/86 [==============================] - 11s 128ms/step - loss: 1.0180 - accuracy: 0.5908\n",
      "Epoch 5/50\n",
      "86/86 [==============================] - 12s 142ms/step - loss: 0.9606 - accuracy: 0.6061\n",
      "Epoch 6/50\n",
      "86/86 [==============================] - 12s 140ms/step - loss: 0.9488 - accuracy: 0.6134\n",
      "Epoch 7/50\n",
      "86/86 [==============================] - 12s 138ms/step - loss: 0.9167 - accuracy: 0.6330\n",
      "Epoch 8/50\n",
      "86/86 [==============================] - 11s 128ms/step - loss: 0.8843 - accuracy: 0.6493\n",
      "Epoch 9/50\n",
      "86/86 [==============================] - 11s 125ms/step - loss: 0.8484 - accuracy: 0.6642\n",
      "Epoch 10/50\n",
      "86/86 [==============================] - 11s 128ms/step - loss: 0.8360 - accuracy: 0.6733\n",
      "Epoch 11/50\n",
      "86/86 [==============================] - 12s 140ms/step - loss: 0.8186 - accuracy: 0.6711\n",
      "Epoch 12/50\n",
      "86/86 [==============================] - 12s 137ms/step - loss: 0.8026 - accuracy: 0.6828\n",
      "Epoch 13/50\n",
      "86/86 [==============================] - 11s 128ms/step - loss: 0.7729 - accuracy: 0.6893\n",
      "Epoch 14/50\n",
      "86/86 [==============================] - 11s 131ms/step - loss: 0.7812 - accuracy: 0.6900\n",
      "Epoch 15/50\n",
      "86/86 [==============================] - 11s 127ms/step - loss: 0.7384 - accuracy: 0.7129\n",
      "Epoch 16/50\n",
      "86/86 [==============================] - 11s 126ms/step - loss: 0.7293 - accuracy: 0.7173\n",
      "Epoch 17/50\n",
      "86/86 [==============================] - 11s 132ms/step - loss: 0.7292 - accuracy: 0.7078\n",
      "Epoch 18/50\n",
      "86/86 [==============================] - 11s 127ms/step - loss: 0.7260 - accuracy: 0.7071\n",
      "Epoch 19/50\n",
      "86/86 [==============================] - 12s 135ms/step - loss: 0.7085 - accuracy: 0.7242\n",
      "Epoch 20/50\n",
      "86/86 [==============================] - 12s 142ms/step - loss: 0.6834 - accuracy: 0.7282\n",
      "Epoch 21/50\n",
      "86/86 [==============================] - 12s 138ms/step - loss: 0.7061 - accuracy: 0.7191\n",
      "Epoch 22/50\n",
      "86/86 [==============================] - 11s 127ms/step - loss: 0.6610 - accuracy: 0.7406\n",
      "Epoch 23/50\n",
      "86/86 [==============================] - 11s 127ms/step - loss: 0.6524 - accuracy: 0.7507\n",
      "Epoch 24/50\n",
      "86/86 [==============================] - 11s 127ms/step - loss: 0.6679 - accuracy: 0.7435\n",
      "Epoch 25/50\n",
      "86/86 [==============================] - 12s 140ms/step - loss: 0.6448 - accuracy: 0.7511\n",
      "Epoch 26/50\n",
      "86/86 [==============================] - 13s 150ms/step - loss: 0.6480 - accuracy: 0.7438\n",
      "Epoch 27/50\n",
      "86/86 [==============================] - 12s 136ms/step - loss: 0.6253 - accuracy: 0.7540\n",
      "Epoch 28/50\n",
      "86/86 [==============================] - 11s 128ms/step - loss: 0.6157 - accuracy: 0.7547\n",
      "Epoch 29/50\n",
      "86/86 [==============================] - 11s 132ms/step - loss: 0.5847 - accuracy: 0.7693\n",
      "Epoch 30/50\n",
      "86/86 [==============================] - 11s 131ms/step - loss: 0.5948 - accuracy: 0.7620\n",
      "Epoch 31/50\n",
      "86/86 [==============================] - 11s 131ms/step - loss: 0.5956 - accuracy: 0.7718\n",
      "Epoch 32/50\n",
      "86/86 [==============================] - 11s 131ms/step - loss: 0.5800 - accuracy: 0.7718\n",
      "Epoch 33/50\n",
      "86/86 [==============================] - 11s 131ms/step - loss: 0.5826 - accuracy: 0.7776\n",
      "Epoch 34/50\n",
      "86/86 [==============================] - 11s 131ms/step - loss: 0.5666 - accuracy: 0.7733\n",
      "Epoch 35/50\n",
      "86/86 [==============================] - 11s 131ms/step - loss: 0.5524 - accuracy: 0.7907\n",
      "Epoch 36/50\n",
      "86/86 [==============================] - 11s 131ms/step - loss: 0.5451 - accuracy: 0.7896\n",
      "Epoch 37/50\n",
      "86/86 [==============================] - 11s 131ms/step - loss: 0.5522 - accuracy: 0.7932\n",
      "Epoch 38/50\n",
      "86/86 [==============================] - 11s 131ms/step - loss: 0.5320 - accuracy: 0.7903\n",
      "Epoch 39/50\n",
      "86/86 [==============================] - 11s 131ms/step - loss: 0.5303 - accuracy: 0.7958\n",
      "Epoch 40/50\n",
      "86/86 [==============================] - 11s 131ms/step - loss: 0.5107 - accuracy: 0.7958\n",
      "Epoch 41/50\n",
      "86/86 [==============================] - 11s 131ms/step - loss: 0.4915 - accuracy: 0.7998\n",
      "Epoch 42/50\n",
      "86/86 [==============================] - 11s 131ms/step - loss: 0.4831 - accuracy: 0.8085\n",
      "Epoch 43/50\n",
      "86/86 [==============================] - 11s 131ms/step - loss: 0.5009 - accuracy: 0.8005\n",
      "Epoch 44/50\n",
      "86/86 [==============================] - 11s 131ms/step - loss: 0.4999 - accuracy: 0.8147\n",
      "Epoch 45/50\n",
      "86/86 [==============================] - 11s 131ms/step - loss: 0.4737 - accuracy: 0.8169\n",
      "Epoch 46/50\n",
      "86/86 [==============================] - 11s 131ms/step - loss: 0.4679 - accuracy: 0.8154\n",
      "Epoch 47/50\n",
      "86/86 [==============================] - 11s 131ms/step - loss: 0.4789 - accuracy: 0.8096\n",
      "Epoch 48/50\n",
      "86/86 [==============================] - 11s 131ms/step - loss: 0.4692 - accuracy: 0.8190\n",
      "Epoch 49/50\n",
      "86/86 [==============================] - 11s 131ms/step - loss: 0.4508 - accuracy: 0.8234\n",
      "Epoch 50/50\n",
      "86/86 [==============================] - 11s 131ms/step - loss: 0.4716 - accuracy: 0.8172\n"
     ]
    },
    {
     "data": {
      "text/plain": [
       "<tensorflow.python.keras.callbacks.History at 0x1e2ff1c5e20>"
      ]
     },
     "execution_count": 40,
     "metadata": {},
     "output_type": "execute_result"
    }
   ],
   "source": [
    "model1.fit(X_train_scl, y_train, epochs=50)"
   ]
  },
  {
   "cell_type": "code",
   "execution_count": 43,
   "id": "e61ae3a2",
   "metadata": {},
   "outputs": [
    {
     "name": "stdout",
     "output_type": "stream",
     "text": [
      "29/29 [==============================] - 1s 28ms/step - loss: 0.8424 - accuracy: 0.7277\n"
     ]
    },
    {
     "data": {
      "text/plain": [
       "[0.8423945307731628, 0.727668821811676]"
      ]
     },
     "execution_count": 43,
     "metadata": {},
     "output_type": "execute_result"
    }
   ],
   "source": [
    "model1.evaluate(X_test_scl, y_test)"
   ]
  },
  {
   "cell_type": "code",
   "execution_count": 48,
   "id": "100bad39",
   "metadata": {},
   "outputs": [
    {
     "name": "stdout",
     "output_type": "stream",
     "text": [
      "Model: \"sequential_3\"\n",
      "_________________________________________________________________\n",
      "Layer (type)                 Output Shape              Param #   \n",
      "=================================================================\n",
      "sequential_2 (Sequential)    (None, 180, 180, 3)       0         \n",
      "_________________________________________________________________\n",
      "conv2d_6 (Conv2D)            (None, 180, 180, 16)      448       \n",
      "_________________________________________________________________\n",
      "max_pooling2d_6 (MaxPooling2 (None, 90, 90, 16)        0         \n",
      "_________________________________________________________________\n",
      "conv2d_7 (Conv2D)            (None, 90, 90, 32)        4640      \n",
      "_________________________________________________________________\n",
      "max_pooling2d_7 (MaxPooling2 (None, 45, 45, 32)        0         \n",
      "_________________________________________________________________\n",
      "conv2d_8 (Conv2D)            (None, 45, 45, 64)        18496     \n",
      "_________________________________________________________________\n",
      "max_pooling2d_8 (MaxPooling2 (None, 22, 22, 64)        0         \n",
      "_________________________________________________________________\n",
      "dropout (Dropout)            (None, 22, 22, 64)        0         \n",
      "_________________________________________________________________\n",
      "flatten_2 (Flatten)          (None, 30976)             0         \n",
      "_________________________________________________________________\n",
      "dense_4 (Dense)              (None, 128)               3965056   \n",
      "_________________________________________________________________\n",
      "dense_5 (Dense)              (None, 5)                 645       \n",
      "=================================================================\n",
      "Total params: 3,989,285\n",
      "Trainable params: 3,989,285\n",
      "Non-trainable params: 0\n",
      "_________________________________________________________________\n"
     ]
    }
   ],
   "source": [
    "model.summary()"
   ]
  },
  {
   "cell_type": "code",
   "execution_count": null,
   "id": "f93af53c",
   "metadata": {},
   "outputs": [],
   "source": []
  },
  {
   "cell_type": "code",
   "execution_count": null,
   "id": "3d9cb6df",
   "metadata": {},
   "outputs": [],
   "source": []
  }
 ],
 "metadata": {
  "kernelspec": {
   "display_name": "Python 3 (ipykernel)",
   "language": "python",
   "name": "python3"
  },
  "language_info": {
   "codemirror_mode": {
    "name": "ipython",
    "version": 3
   },
   "file_extension": ".py",
   "mimetype": "text/x-python",
   "name": "python",
   "nbconvert_exporter": "python",
   "pygments_lexer": "ipython3",
   "version": "3.9.6"
  }
 },
 "nbformat": 4,
 "nbformat_minor": 5
}
