{
 "cells": [
  {
   "cell_type": "code",
   "execution_count": 1,
   "metadata": {},
   "outputs": [],
   "source": [
    "import numpy as np\n",
    "import pandas as pd\n",
    "import tensorflow as tf\n",
    "from tensorflow import keras\n",
    "from sklearn.model_selection import train_test_split\n",
    "from sklearn.metrics import confusion_matrix, classification_report"
   ]
  },
  {
   "cell_type": "code",
   "execution_count": 2,
   "metadata": {},
   "outputs": [
    {
     "name": "stdout",
     "output_type": "stream",
     "text": [
      "(207, 61)\n"
     ]
    },
    {
     "data": {
      "text/html": [
       "<div>\n",
       "<style scoped>\n",
       "    .dataframe tbody tr th:only-of-type {\n",
       "        vertical-align: middle;\n",
       "    }\n",
       "\n",
       "    .dataframe tbody tr th {\n",
       "        vertical-align: top;\n",
       "    }\n",
       "\n",
       "    .dataframe thead th {\n",
       "        text-align: right;\n",
       "    }\n",
       "</style>\n",
       "<table border=\"1\" class=\"dataframe\">\n",
       "  <thead>\n",
       "    <tr style=\"text-align: right;\">\n",
       "      <th></th>\n",
       "      <th>0</th>\n",
       "      <th>1</th>\n",
       "      <th>2</th>\n",
       "      <th>3</th>\n",
       "      <th>4</th>\n",
       "      <th>5</th>\n",
       "      <th>6</th>\n",
       "      <th>7</th>\n",
       "      <th>8</th>\n",
       "      <th>9</th>\n",
       "      <th>...</th>\n",
       "      <th>51</th>\n",
       "      <th>52</th>\n",
       "      <th>53</th>\n",
       "      <th>54</th>\n",
       "      <th>55</th>\n",
       "      <th>56</th>\n",
       "      <th>57</th>\n",
       "      <th>58</th>\n",
       "      <th>59</th>\n",
       "      <th>60</th>\n",
       "    </tr>\n",
       "  </thead>\n",
       "  <tbody>\n",
       "    <tr>\n",
       "      <th>0</th>\n",
       "      <td>0.0453</td>\n",
       "      <td>0.0523</td>\n",
       "      <td>0.0843</td>\n",
       "      <td>0.0689</td>\n",
       "      <td>0.1183</td>\n",
       "      <td>0.2583</td>\n",
       "      <td>0.2156</td>\n",
       "      <td>0.3481</td>\n",
       "      <td>0.3337</td>\n",
       "      <td>0.2872</td>\n",
       "      <td>...</td>\n",
       "      <td>0.0084</td>\n",
       "      <td>0.0089</td>\n",
       "      <td>0.0048</td>\n",
       "      <td>0.0094</td>\n",
       "      <td>0.0191</td>\n",
       "      <td>0.0140</td>\n",
       "      <td>0.0049</td>\n",
       "      <td>0.0052</td>\n",
       "      <td>0.0044</td>\n",
       "      <td>R</td>\n",
       "    </tr>\n",
       "    <tr>\n",
       "      <th>1</th>\n",
       "      <td>0.0262</td>\n",
       "      <td>0.0582</td>\n",
       "      <td>0.1099</td>\n",
       "      <td>0.1083</td>\n",
       "      <td>0.0974</td>\n",
       "      <td>0.2280</td>\n",
       "      <td>0.2431</td>\n",
       "      <td>0.3771</td>\n",
       "      <td>0.5598</td>\n",
       "      <td>0.6194</td>\n",
       "      <td>...</td>\n",
       "      <td>0.0232</td>\n",
       "      <td>0.0166</td>\n",
       "      <td>0.0095</td>\n",
       "      <td>0.0180</td>\n",
       "      <td>0.0244</td>\n",
       "      <td>0.0316</td>\n",
       "      <td>0.0164</td>\n",
       "      <td>0.0095</td>\n",
       "      <td>0.0078</td>\n",
       "      <td>R</td>\n",
       "    </tr>\n",
       "    <tr>\n",
       "      <th>2</th>\n",
       "      <td>0.0100</td>\n",
       "      <td>0.0171</td>\n",
       "      <td>0.0623</td>\n",
       "      <td>0.0205</td>\n",
       "      <td>0.0205</td>\n",
       "      <td>0.0368</td>\n",
       "      <td>0.1098</td>\n",
       "      <td>0.1276</td>\n",
       "      <td>0.0598</td>\n",
       "      <td>0.1264</td>\n",
       "      <td>...</td>\n",
       "      <td>0.0121</td>\n",
       "      <td>0.0036</td>\n",
       "      <td>0.0150</td>\n",
       "      <td>0.0085</td>\n",
       "      <td>0.0073</td>\n",
       "      <td>0.0050</td>\n",
       "      <td>0.0044</td>\n",
       "      <td>0.0040</td>\n",
       "      <td>0.0117</td>\n",
       "      <td>R</td>\n",
       "    </tr>\n",
       "    <tr>\n",
       "      <th>3</th>\n",
       "      <td>0.0762</td>\n",
       "      <td>0.0666</td>\n",
       "      <td>0.0481</td>\n",
       "      <td>0.0394</td>\n",
       "      <td>0.0590</td>\n",
       "      <td>0.0649</td>\n",
       "      <td>0.1209</td>\n",
       "      <td>0.2467</td>\n",
       "      <td>0.3564</td>\n",
       "      <td>0.4459</td>\n",
       "      <td>...</td>\n",
       "      <td>0.0031</td>\n",
       "      <td>0.0054</td>\n",
       "      <td>0.0105</td>\n",
       "      <td>0.0110</td>\n",
       "      <td>0.0015</td>\n",
       "      <td>0.0072</td>\n",
       "      <td>0.0048</td>\n",
       "      <td>0.0107</td>\n",
       "      <td>0.0094</td>\n",
       "      <td>R</td>\n",
       "    </tr>\n",
       "    <tr>\n",
       "      <th>4</th>\n",
       "      <td>0.0286</td>\n",
       "      <td>0.0453</td>\n",
       "      <td>0.0277</td>\n",
       "      <td>0.0174</td>\n",
       "      <td>0.0384</td>\n",
       "      <td>0.0990</td>\n",
       "      <td>0.1201</td>\n",
       "      <td>0.1833</td>\n",
       "      <td>0.2105</td>\n",
       "      <td>0.3039</td>\n",
       "      <td>...</td>\n",
       "      <td>0.0045</td>\n",
       "      <td>0.0014</td>\n",
       "      <td>0.0038</td>\n",
       "      <td>0.0013</td>\n",
       "      <td>0.0089</td>\n",
       "      <td>0.0057</td>\n",
       "      <td>0.0027</td>\n",
       "      <td>0.0051</td>\n",
       "      <td>0.0062</td>\n",
       "      <td>R</td>\n",
       "    </tr>\n",
       "  </tbody>\n",
       "</table>\n",
       "<p>5 rows × 61 columns</p>\n",
       "</div>"
      ],
      "text/plain": [
       "        0       1       2       3       4       5       6       7       8  \\\n",
       "0  0.0453  0.0523  0.0843  0.0689  0.1183  0.2583  0.2156  0.3481  0.3337   \n",
       "1  0.0262  0.0582  0.1099  0.1083  0.0974  0.2280  0.2431  0.3771  0.5598   \n",
       "2  0.0100  0.0171  0.0623  0.0205  0.0205  0.0368  0.1098  0.1276  0.0598   \n",
       "3  0.0762  0.0666  0.0481  0.0394  0.0590  0.0649  0.1209  0.2467  0.3564   \n",
       "4  0.0286  0.0453  0.0277  0.0174  0.0384  0.0990  0.1201  0.1833  0.2105   \n",
       "\n",
       "        9  ...      51      52      53      54      55      56      57  \\\n",
       "0  0.2872  ...  0.0084  0.0089  0.0048  0.0094  0.0191  0.0140  0.0049   \n",
       "1  0.6194  ...  0.0232  0.0166  0.0095  0.0180  0.0244  0.0316  0.0164   \n",
       "2  0.1264  ...  0.0121  0.0036  0.0150  0.0085  0.0073  0.0050  0.0044   \n",
       "3  0.4459  ...  0.0031  0.0054  0.0105  0.0110  0.0015  0.0072  0.0048   \n",
       "4  0.3039  ...  0.0045  0.0014  0.0038  0.0013  0.0089  0.0057  0.0027   \n",
       "\n",
       "       58      59  60  \n",
       "0  0.0052  0.0044   R  \n",
       "1  0.0095  0.0078   R  \n",
       "2  0.0040  0.0117   R  \n",
       "3  0.0107  0.0094   R  \n",
       "4  0.0051  0.0062   R  \n",
       "\n",
       "[5 rows x 61 columns]"
      ]
     },
     "execution_count": 2,
     "metadata": {},
     "output_type": "execute_result"
    }
   ],
   "source": [
    "df = pd.read_csv('./Dataset/sonar_dataset.csv')\n",
    "df.columns = [str(i) for i in range(len(df.columns))]\n",
    "print(df.shape)\n",
    "df.head()"
   ]
  },
  {
   "cell_type": "code",
   "execution_count": 3,
   "metadata": {},
   "outputs": [
    {
     "data": {
      "text/plain": [
       "0"
      ]
     },
     "execution_count": 3,
     "metadata": {},
     "output_type": "execute_result"
    }
   ],
   "source": [
    "df.isna().sum().sum()"
   ]
  },
  {
   "cell_type": "code",
   "execution_count": 4,
   "metadata": {},
   "outputs": [
    {
     "data": {
      "text/plain": [
       "95    R\n",
       "96    M\n",
       "97    M\n",
       "98    M\n",
       "99    M\n",
       "Name: 60, dtype: object"
      ]
     },
     "execution_count": 4,
     "metadata": {},
     "output_type": "execute_result"
    }
   ],
   "source": [
    "X = df.drop('60', axis=1)\n",
    "y = df['60']\n",
    "y[95:100]"
   ]
  },
  {
   "cell_type": "code",
   "execution_count": 5,
   "metadata": {},
   "outputs": [
    {
     "data": {
      "text/html": [
       "<div>\n",
       "<style scoped>\n",
       "    .dataframe tbody tr th:only-of-type {\n",
       "        vertical-align: middle;\n",
       "    }\n",
       "\n",
       "    .dataframe tbody tr th {\n",
       "        vertical-align: top;\n",
       "    }\n",
       "\n",
       "    .dataframe thead th {\n",
       "        text-align: right;\n",
       "    }\n",
       "</style>\n",
       "<table border=\"1\" class=\"dataframe\">\n",
       "  <thead>\n",
       "    <tr style=\"text-align: right;\">\n",
       "      <th></th>\n",
       "      <th>R</th>\n",
       "    </tr>\n",
       "  </thead>\n",
       "  <tbody>\n",
       "    <tr>\n",
       "      <th>95</th>\n",
       "      <td>1</td>\n",
       "    </tr>\n",
       "    <tr>\n",
       "      <th>96</th>\n",
       "      <td>0</td>\n",
       "    </tr>\n",
       "    <tr>\n",
       "      <th>97</th>\n",
       "      <td>0</td>\n",
       "    </tr>\n",
       "    <tr>\n",
       "      <th>98</th>\n",
       "      <td>0</td>\n",
       "    </tr>\n",
       "    <tr>\n",
       "      <th>99</th>\n",
       "      <td>0</td>\n",
       "    </tr>\n",
       "  </tbody>\n",
       "</table>\n",
       "</div>"
      ],
      "text/plain": [
       "    R\n",
       "95  1\n",
       "96  0\n",
       "97  0\n",
       "98  0\n",
       "99  0"
      ]
     },
     "execution_count": 5,
     "metadata": {},
     "output_type": "execute_result"
    }
   ],
   "source": [
    "y = pd.get_dummies(y, drop_first=True)\n",
    "y[95:100]"
   ]
  },
  {
   "cell_type": "code",
   "execution_count": 6,
   "metadata": {},
   "outputs": [
    {
     "data": {
      "text/plain": [
       "((165, 60), (42, 60), (165, 1), (42, 1))"
      ]
     },
     "execution_count": 6,
     "metadata": {},
     "output_type": "execute_result"
    }
   ],
   "source": [
    "X_train, X_test, y_train, y_test = train_test_split(X,y,test_size=0.2,random_state=5)\n",
    "X_train.shape, X_test.shape, y_train.shape, y_test.shape"
   ]
  },
  {
   "cell_type": "code",
   "execution_count": 7,
   "metadata": {},
   "outputs": [
    {
     "name": "stdout",
     "output_type": "stream",
     "text": [
      "Model: \"sequential\"\n",
      "_________________________________________________________________\n",
      "Layer (type)                 Output Shape              Param #   \n",
      "=================================================================\n",
      "dense (Dense)                (None, 60)                3660      \n",
      "_________________________________________________________________\n",
      "dropout (Dropout)            (None, 60)                0         \n",
      "_________________________________________________________________\n",
      "dense_1 (Dense)              (None, 30)                1830      \n",
      "_________________________________________________________________\n",
      "dropout_1 (Dropout)          (None, 30)                0         \n",
      "_________________________________________________________________\n",
      "dense_2 (Dense)              (None, 15)                465       \n",
      "_________________________________________________________________\n",
      "dropout_2 (Dropout)          (None, 15)                0         \n",
      "_________________________________________________________________\n",
      "dense_3 (Dense)              (None, 1)                 16        \n",
      "=================================================================\n",
      "Total params: 5,971\n",
      "Trainable params: 5,971\n",
      "Non-trainable params: 0\n",
      "_________________________________________________________________\n"
     ]
    }
   ],
   "source": [
    "model = keras.Sequential()\n",
    "\n",
    "#Input Layer\n",
    "model.add(keras.layers.Dense(X_train.shape[1], activation='relu', input_shape = (X_train.shape[1],)))\n",
    "model.add(keras.layers.Dropout(0.5))\n",
    "\n",
    "#Hidden Layer\n",
    "model.add(keras.layers.Dense(30, activation= 'relu'))\n",
    "model.add(keras.layers.Dropout(0.5))\n",
    "model.add(keras.layers.Dense(15, activation= 'relu'))\n",
    "model.add(keras.layers.Dropout(0.5))\n",
    "model.add(keras.layers.Dense(1, activation= 'sigmoid'))\n",
    "\n",
    "#Output Layer\n",
    "model.compile(optimizer='adam', loss='binary_crossentropy', metrics=['accuracy'])\n",
    "\n",
    "model.summary()"
   ]
  },
  {
   "cell_type": "code",
   "execution_count": 8,
   "metadata": {},
   "outputs": [
    {
     "name": "stdout",
     "output_type": "stream",
     "text": [
      "Epoch 1/100\n",
      "6/6 [==============================] - 1s 5ms/step - loss: 0.7136 - accuracy: 0.5012\n",
      "Epoch 2/100\n",
      "6/6 [==============================] - 0s 5ms/step - loss: 0.7037 - accuracy: 0.4818\n",
      "Epoch 3/100\n",
      "6/6 [==============================] - 0s 5ms/step - loss: 0.7004 - accuracy: 0.5648\n",
      "Epoch 4/100\n",
      "6/6 [==============================] - 0s 5ms/step - loss: 0.6902 - accuracy: 0.5349\n",
      "Epoch 5/100\n",
      "6/6 [==============================] - 0s 5ms/step - loss: 0.7041 - accuracy: 0.4686\n",
      "Epoch 6/100\n",
      "6/6 [==============================] - 0s 4ms/step - loss: 0.7211 - accuracy: 0.4633\n",
      "Epoch 7/100\n",
      "6/6 [==============================] - 0s 6ms/step - loss: 0.7003 - accuracy: 0.5435\n",
      "Epoch 8/100\n",
      "6/6 [==============================] - 0s 5ms/step - loss: 0.6893 - accuracy: 0.5297\n",
      "Epoch 9/100\n",
      "6/6 [==============================] - 0s 5ms/step - loss: 0.6939 - accuracy: 0.4852\n",
      "Epoch 10/100\n",
      "6/6 [==============================] - 0s 9ms/step - loss: 0.6851 - accuracy: 0.5286\n",
      "Epoch 11/100\n",
      "6/6 [==============================] - 0s 12ms/step - loss: 0.6978 - accuracy: 0.4816\n",
      "Epoch 12/100\n",
      "6/6 [==============================] - 0s 6ms/step - loss: 0.6986 - accuracy: 0.4611\n",
      "Epoch 13/100\n",
      "6/6 [==============================] - 0s 8ms/step - loss: 0.6919 - accuracy: 0.5081\n",
      "Epoch 14/100\n",
      "6/6 [==============================] - 0s 7ms/step - loss: 0.7014 - accuracy: 0.4421\n",
      "Epoch 15/100\n",
      "6/6 [==============================] - 0s 4ms/step - loss: 0.6843 - accuracy: 0.5089\n",
      "Epoch 16/100\n",
      "6/6 [==============================] - 0s 4ms/step - loss: 0.6721 - accuracy: 0.5667\n",
      "Epoch 17/100\n",
      "6/6 [==============================] - 0s 6ms/step - loss: 0.7082 - accuracy: 0.4324\n",
      "Epoch 18/100\n",
      "6/6 [==============================] - 0s 4ms/step - loss: 0.6690 - accuracy: 0.6077\n",
      "Epoch 19/100\n",
      "6/6 [==============================] - 0s 6ms/step - loss: 0.7058 - accuracy: 0.4725\n",
      "Epoch 20/100\n",
      "6/6 [==============================] - 0s 5ms/step - loss: 0.6783 - accuracy: 0.5831\n",
      "Epoch 21/100\n",
      "6/6 [==============================] - 0s 4ms/step - loss: 0.6950 - accuracy: 0.5733\n",
      "Epoch 22/100\n",
      "6/6 [==============================] - 0s 5ms/step - loss: 0.6998 - accuracy: 0.4740\n",
      "Epoch 23/100\n",
      "6/6 [==============================] - 0s 4ms/step - loss: 0.6764 - accuracy: 0.6059\n",
      "Epoch 24/100\n",
      "6/6 [==============================] - 0s 4ms/step - loss: 0.6947 - accuracy: 0.5414\n",
      "Epoch 25/100\n",
      "6/6 [==============================] - 0s 5ms/step - loss: 0.6721 - accuracy: 0.5667\n",
      "Epoch 26/100\n",
      "6/6 [==============================] - 0s 5ms/step - loss: 0.6632 - accuracy: 0.6310\n",
      "Epoch 27/100\n",
      "6/6 [==============================] - 0s 4ms/step - loss: 0.6798 - accuracy: 0.5610\n",
      "Epoch 28/100\n",
      "6/6 [==============================] - 0s 5ms/step - loss: 0.6540 - accuracy: 0.6464\n",
      "Epoch 29/100\n",
      "6/6 [==============================] - 0s 5ms/step - loss: 0.6852 - accuracy: 0.5233\n",
      "Epoch 30/100\n",
      "6/6 [==============================] - 0s 5ms/step - loss: 0.6636 - accuracy: 0.5585\n",
      "Epoch 31/100\n",
      "6/6 [==============================] - 0s 4ms/step - loss: 0.6893 - accuracy: 0.5639\n",
      "Epoch 32/100\n",
      "6/6 [==============================] - 0s 4ms/step - loss: 0.6520 - accuracy: 0.5943\n",
      "Epoch 33/100\n",
      "6/6 [==============================] - 0s 3ms/step - loss: 0.6714 - accuracy: 0.5956\n",
      "Epoch 34/100\n",
      "6/6 [==============================] - 0s 4ms/step - loss: 0.6530 - accuracy: 0.6313\n",
      "Epoch 35/100\n",
      "6/6 [==============================] - 0s 4ms/step - loss: 0.6653 - accuracy: 0.5709\n",
      "Epoch 36/100\n",
      "6/6 [==============================] - 0s 3ms/step - loss: 0.6391 - accuracy: 0.6592\n",
      "Epoch 37/100\n",
      "6/6 [==============================] - 0s 5ms/step - loss: 0.6242 - accuracy: 0.6830\n",
      "Epoch 38/100\n",
      "6/6 [==============================] - 0s 4ms/step - loss: 0.6687 - accuracy: 0.5801\n",
      "Epoch 39/100\n",
      "6/6 [==============================] - 0s 5ms/step - loss: 0.6314 - accuracy: 0.6223\n",
      "Epoch 40/100\n",
      "6/6 [==============================] - 0s 4ms/step - loss: 0.6257 - accuracy: 0.6284\n",
      "Epoch 41/100\n",
      "6/6 [==============================] - 0s 5ms/step - loss: 0.6204 - accuracy: 0.6555\n",
      "Epoch 42/100\n",
      "6/6 [==============================] - 0s 5ms/step - loss: 0.6623 - accuracy: 0.6403\n",
      "Epoch 43/100\n",
      "6/6 [==============================] - 0s 4ms/step - loss: 0.6371 - accuracy: 0.6119\n",
      "Epoch 44/100\n",
      "6/6 [==============================] - 0s 5ms/step - loss: 0.6115 - accuracy: 0.6394\n",
      "Epoch 45/100\n",
      "6/6 [==============================] - 0s 6ms/step - loss: 0.6185 - accuracy: 0.7160\n",
      "Epoch 46/100\n",
      "6/6 [==============================] - 0s 4ms/step - loss: 0.6171 - accuracy: 0.6758\n",
      "Epoch 47/100\n",
      "6/6 [==============================] - 0s 4ms/step - loss: 0.6215 - accuracy: 0.6426\n",
      "Epoch 48/100\n",
      "6/6 [==============================] - 0s 4ms/step - loss: 0.6148 - accuracy: 0.6199\n",
      "Epoch 49/100\n",
      "6/6 [==============================] - 0s 4ms/step - loss: 0.5897 - accuracy: 0.7445\n",
      "Epoch 50/100\n",
      "6/6 [==============================] - 0s 5ms/step - loss: 0.5990 - accuracy: 0.6905\n",
      "Epoch 51/100\n",
      "6/6 [==============================] - 0s 5ms/step - loss: 0.6040 - accuracy: 0.6996\n",
      "Epoch 52/100\n",
      "6/6 [==============================] - 0s 5ms/step - loss: 0.5886 - accuracy: 0.7203\n",
      "Epoch 53/100\n",
      "6/6 [==============================] - 0s 5ms/step - loss: 0.5565 - accuracy: 0.7336\n",
      "Epoch 54/100\n",
      "6/6 [==============================] - 0s 4ms/step - loss: 0.5925 - accuracy: 0.7234\n",
      "Epoch 55/100\n",
      "6/6 [==============================] - 0s 5ms/step - loss: 0.6078 - accuracy: 0.6396\n",
      "Epoch 56/100\n",
      "6/6 [==============================] - 0s 8ms/step - loss: 0.5738 - accuracy: 0.7243\n",
      "Epoch 57/100\n",
      "6/6 [==============================] - 0s 4ms/step - loss: 0.5333 - accuracy: 0.7183\n",
      "Epoch 58/100\n",
      "6/6 [==============================] - 0s 4ms/step - loss: 0.7064 - accuracy: 0.6283\n",
      "Epoch 59/100\n",
      "6/6 [==============================] - 0s 4ms/step - loss: 0.5945 - accuracy: 0.7000\n",
      "Epoch 60/100\n",
      "6/6 [==============================] - 0s 5ms/step - loss: 0.5711 - accuracy: 0.6736\n",
      "Epoch 61/100\n",
      "6/6 [==============================] - 0s 4ms/step - loss: 0.5280 - accuracy: 0.7739\n",
      "Epoch 62/100\n",
      "6/6 [==============================] - 0s 4ms/step - loss: 0.5975 - accuracy: 0.6611\n",
      "Epoch 63/100\n",
      "6/6 [==============================] - 0s 4ms/step - loss: 0.5463 - accuracy: 0.7062\n",
      "Epoch 64/100\n",
      "6/6 [==============================] - 0s 4ms/step - loss: 0.5260 - accuracy: 0.7352\n",
      "Epoch 65/100\n",
      "6/6 [==============================] - 0s 5ms/step - loss: 0.5119 - accuracy: 0.7868\n",
      "Epoch 66/100\n",
      "6/6 [==============================] - 0s 6ms/step - loss: 0.5367 - accuracy: 0.7397\n",
      "Epoch 67/100\n",
      "6/6 [==============================] - 0s 4ms/step - loss: 0.4892 - accuracy: 0.7406\n",
      "Epoch 68/100\n",
      "6/6 [==============================] - 0s 4ms/step - loss: 0.5286 - accuracy: 0.7350\n",
      "Epoch 69/100\n",
      "6/6 [==============================] - 0s 4ms/step - loss: 0.5377 - accuracy: 0.7297\n",
      "Epoch 70/100\n",
      "6/6 [==============================] - 0s 4ms/step - loss: 0.5362 - accuracy: 0.7428\n",
      "Epoch 71/100\n",
      "6/6 [==============================] - 0s 4ms/step - loss: 0.4921 - accuracy: 0.8261\n",
      "Epoch 72/100\n",
      "6/6 [==============================] - 0s 5ms/step - loss: 0.5018 - accuracy: 0.7593\n",
      "Epoch 73/100\n",
      "6/6 [==============================] - 0s 5ms/step - loss: 0.4422 - accuracy: 0.8127\n",
      "Epoch 74/100\n",
      "6/6 [==============================] - 0s 4ms/step - loss: 0.4949 - accuracy: 0.7465\n",
      "Epoch 75/100\n",
      "6/6 [==============================] - 0s 4ms/step - loss: 0.4887 - accuracy: 0.7752\n",
      "Epoch 76/100\n",
      "6/6 [==============================] - 0s 5ms/step - loss: 0.4773 - accuracy: 0.7751\n",
      "Epoch 77/100\n",
      "6/6 [==============================] - 0s 5ms/step - loss: 0.4925 - accuracy: 0.7371\n",
      "Epoch 78/100\n",
      "6/6 [==============================] - 0s 5ms/step - loss: 0.4544 - accuracy: 0.7589\n",
      "Epoch 79/100\n",
      "6/6 [==============================] - 0s 4ms/step - loss: 0.4519 - accuracy: 0.7648\n",
      "Epoch 80/100\n",
      "6/6 [==============================] - 0s 4ms/step - loss: 0.4623 - accuracy: 0.7828\n",
      "Epoch 81/100\n",
      "6/6 [==============================] - 0s 4ms/step - loss: 0.4851 - accuracy: 0.7582\n",
      "Epoch 82/100\n",
      "6/6 [==============================] - 0s 4ms/step - loss: 0.5221 - accuracy: 0.6971\n",
      "Epoch 83/100\n",
      "6/6 [==============================] - 0s 5ms/step - loss: 0.5190 - accuracy: 0.7960\n",
      "Epoch 84/100\n"
     ]
    },
    {
     "name": "stdout",
     "output_type": "stream",
     "text": [
      "6/6 [==============================] - 0s 5ms/step - loss: 0.4911 - accuracy: 0.7953\n",
      "Epoch 85/100\n",
      "6/6 [==============================] - 0s 5ms/step - loss: 0.4291 - accuracy: 0.7822\n",
      "Epoch 86/100\n",
      "6/6 [==============================] - 0s 4ms/step - loss: 0.4066 - accuracy: 0.7953\n",
      "Epoch 87/100\n",
      "6/6 [==============================] - 0s 4ms/step - loss: 0.5071 - accuracy: 0.7144\n",
      "Epoch 88/100\n",
      "6/6 [==============================] - 0s 4ms/step - loss: 0.4707 - accuracy: 0.7458\n",
      "Epoch 89/100\n",
      "6/6 [==============================] - 0s 4ms/step - loss: 0.4282 - accuracy: 0.8066\n",
      "Epoch 90/100\n",
      "6/6 [==============================] - 0s 5ms/step - loss: 0.5035 - accuracy: 0.7676\n",
      "Epoch 91/100\n",
      "6/6 [==============================] - 0s 5ms/step - loss: 0.4133 - accuracy: 0.7911\n",
      "Epoch 92/100\n",
      "6/6 [==============================] - 0s 5ms/step - loss: 0.4652 - accuracy: 0.7777\n",
      "Epoch 93/100\n",
      "6/6 [==============================] - 0s 4ms/step - loss: 0.4970 - accuracy: 0.7371\n",
      "Epoch 94/100\n",
      "6/6 [==============================] - 0s 4ms/step - loss: 0.5022 - accuracy: 0.7594\n",
      "Epoch 95/100\n",
      "6/6 [==============================] - 0s 4ms/step - loss: 0.4688 - accuracy: 0.7977\n",
      "Epoch 96/100\n",
      "6/6 [==============================] - 0s 4ms/step - loss: 0.4099 - accuracy: 0.8467\n",
      "Epoch 97/100\n",
      "6/6 [==============================] - 0s 4ms/step - loss: 0.3991 - accuracy: 0.8398\n",
      "Epoch 98/100\n",
      "6/6 [==============================] - 0s 4ms/step - loss: 0.4047 - accuracy: 0.7889\n",
      "Epoch 99/100\n",
      "6/6 [==============================] - 0s 4ms/step - loss: 0.4204 - accuracy: 0.8452\n",
      "Epoch 100/100\n",
      "6/6 [==============================] - 0s 4ms/step - loss: 0.4264 - accuracy: 0.8267\n"
     ]
    },
    {
     "data": {
      "text/plain": [
       "<tensorflow.python.keras.callbacks.History at 0x2b9a0ccaa00>"
      ]
     },
     "execution_count": 8,
     "metadata": {},
     "output_type": "execute_result"
    }
   ],
   "source": [
    "model.fit(X_train, y_train, epochs=100)"
   ]
  },
  {
   "cell_type": "code",
   "execution_count": 9,
   "metadata": {},
   "outputs": [
    {
     "name": "stdout",
     "output_type": "stream",
     "text": [
      "2/2 [==============================] - 0s 3ms/step - loss: 0.4816 - accuracy: 0.7619\n"
     ]
    },
    {
     "data": {
      "text/plain": [
       "[0.4815763235092163, 0.761904776096344]"
      ]
     },
     "execution_count": 9,
     "metadata": {},
     "output_type": "execute_result"
    }
   ],
   "source": [
    "model.evaluate(X_test, y_test)"
   ]
  },
  {
   "cell_type": "code",
   "execution_count": 10,
   "metadata": {},
   "outputs": [
    {
     "name": "stdout",
     "output_type": "stream",
     "text": [
      "              precision    recall  f1-score   support\n",
      "\n",
      "           0       0.79      0.85      0.82        27\n",
      "           1       0.69      0.60      0.64        15\n",
      "\n",
      "    accuracy                           0.76        42\n",
      "   macro avg       0.74      0.73      0.73        42\n",
      "weighted avg       0.76      0.76      0.76        42\n",
      "\n"
     ]
    }
   ],
   "source": [
    "y_pred = np.round(model.predict(X_test))\n",
    "print(classification_report(y_test, y_pred))"
   ]
  },
  {
   "cell_type": "code",
   "execution_count": 11,
   "metadata": {},
   "outputs": [],
   "source": [
    "from sklearn import svm\n",
    "from sklearn.linear_model import LogisticRegression\n",
    "from sklearn.metrics import classification_report\n",
    "from sklearn.metrics import plot_roc_curve"
   ]
  },
  {
   "cell_type": "code",
   "execution_count": 12,
   "metadata": {},
   "outputs": [
    {
     "name": "stderr",
     "output_type": "stream",
     "text": [
      "C:\\Users\\ASUS\\anaconda3\\lib\\site-packages\\sklearn\\utils\\validation.py:72: DataConversionWarning: A column-vector y was passed when a 1d array was expected. Please change the shape of y to (n_samples, ), for example using ravel().\n",
      "  return f(**kwargs)\n"
     ]
    },
    {
     "data": {
      "text/plain": [
       "SVC(C=2, gamma='auto', kernel='linear')"
      ]
     },
     "execution_count": 12,
     "metadata": {},
     "output_type": "execute_result"
    }
   ],
   "source": [
    "classifier = svm.SVC(kernel='linear', gamma='auto', C=2)\n",
    "classifier.fit(X_train,y_train)"
   ]
  },
  {
   "cell_type": "code",
   "execution_count": 13,
   "metadata": {},
   "outputs": [
    {
     "data": {
      "text/plain": [
       "0.7857142857142857"
      ]
     },
     "execution_count": 13,
     "metadata": {},
     "output_type": "execute_result"
    }
   ],
   "source": [
    "classifier.score(X_test, y_test)"
   ]
  },
  {
   "cell_type": "code",
   "execution_count": 14,
   "metadata": {},
   "outputs": [
    {
     "name": "stderr",
     "output_type": "stream",
     "text": [
      "C:\\Users\\ASUS\\anaconda3\\lib\\site-packages\\sklearn\\utils\\validation.py:72: DataConversionWarning: A column-vector y was passed when a 1d array was expected. Please change the shape of y to (n_samples, ), for example using ravel().\n",
      "  return f(**kwargs)\n"
     ]
    },
    {
     "data": {
      "text/plain": [
       "LogisticRegression()"
      ]
     },
     "execution_count": 14,
     "metadata": {},
     "output_type": "execute_result"
    }
   ],
   "source": [
    "logisticRegr = LogisticRegression()\n",
    "logisticRegr.fit(X_train, y_train)"
   ]
  },
  {
   "cell_type": "code",
   "execution_count": 15,
   "metadata": {},
   "outputs": [],
   "source": [
    "y_pred = logisticRegr.predict(X_test)"
   ]
  },
  {
   "cell_type": "code",
   "execution_count": 16,
   "metadata": {},
   "outputs": [
    {
     "data": {
      "text/plain": [
       "0.8095238095238095"
      ]
     },
     "execution_count": 16,
     "metadata": {},
     "output_type": "execute_result"
    }
   ],
   "source": [
    "logisticRegr.score(X_test, y_test)"
   ]
  }
 ],
 "metadata": {
  "kernelspec": {
   "display_name": "Python 3",
   "language": "python",
   "name": "python3"
  },
  "language_info": {
   "codemirror_mode": {
    "name": "ipython",
    "version": 3
   },
   "file_extension": ".py",
   "mimetype": "text/x-python",
   "name": "python",
   "nbconvert_exporter": "python",
   "pygments_lexer": "ipython3",
   "version": "3.8.5"
  }
 },
 "nbformat": 4,
 "nbformat_minor": 4
}
